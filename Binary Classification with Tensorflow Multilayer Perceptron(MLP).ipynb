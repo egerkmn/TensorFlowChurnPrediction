{
 "cells": [
  {
   "cell_type": "markdown",
   "metadata": {},
   "source": [
    "## Binary Classification with Tensorflow Multilayer Perceptron(MLP)\n",
    "\n",
    "In this project, I will implement a Multilayer Perceptron on a churn classification problem via TensorFlow. The dataset  contains 10000 rows and 14 columns including customer information. The binary target variable is given in **Exited** column. Since our dataset is imbalanced, AUC ROC will be used as a evaluation metric as well as accuracy. \n",
    "\n",
    "We will go through 5 steps: \n",
    "\n",
    " 1) **Preparing Libraries and Data:** Obtaining and investigating the dataset <br>\n",
    " 2) **Preprocessing the Data:** Enconding categorical variables and scaling numerical variables<br>\n",
    " 3) **Evaluation Metric and Base Score:** Base score assumption<br>\n",
    " 4) **Building the MultiLayer Perceptron for Binary Classification:** Implementing TensorFlow MLP model<br>\n",
    " 5) **Another Trial with a Sampling Method for Imbalanced Datasets:** Improving the evaluation scores with a resampling method\n"
   ]
  },
  {
   "cell_type": "markdown",
   "metadata": {},
   "source": [
    "### 1) Preparing Libraries and Data"
   ]
  },
  {
   "cell_type": "code",
   "execution_count": 19,
   "metadata": {},
   "outputs": [],
   "source": [
    "# libraries\n",
    "import pandas as pd\n",
    "import numpy as np\n",
    "import matplotlib.pyplot as plt\n",
    "import sklearn\n",
    "import time\n",
    "import plotly.express as px\n",
    "\n",
    "# for preprocess\n",
    "from sklearn.model_selection import train_test_split\n",
    "from sklearn.compose import ColumnTransformer\n",
    "from sklearn import preprocessing\n",
    "from sklearn.preprocessing import MinMaxScaler\n",
    "from sklearn.preprocessing import OneHotEncoder, LabelEncoder\n",
    "\n",
    "# for model\n",
    "import tensorflow as tf\n",
    "from tensorflow import keras\n",
    "\n",
    "# evaluation\n",
    "from sklearn.metrics import f1_score, roc_auc_score, accuracy_score, roc_curve, auc"
   ]
  },
  {
   "cell_type": "code",
   "execution_count": 20,
   "metadata": {},
   "outputs": [
    {
     "data": {
      "text/html": [
       "<div>\n",
       "<style scoped>\n",
       "    .dataframe tbody tr th:only-of-type {\n",
       "        vertical-align: middle;\n",
       "    }\n",
       "\n",
       "    .dataframe tbody tr th {\n",
       "        vertical-align: top;\n",
       "    }\n",
       "\n",
       "    .dataframe thead th {\n",
       "        text-align: right;\n",
       "    }\n",
       "</style>\n",
       "<table border=\"1\" class=\"dataframe\">\n",
       "  <thead>\n",
       "    <tr style=\"text-align: right;\">\n",
       "      <th></th>\n",
       "      <th>RowNumber</th>\n",
       "      <th>CustomerId</th>\n",
       "      <th>Surname</th>\n",
       "      <th>CreditScore</th>\n",
       "      <th>Geography</th>\n",
       "      <th>Gender</th>\n",
       "      <th>Age</th>\n",
       "      <th>Tenure</th>\n",
       "      <th>Balance</th>\n",
       "      <th>NumOfProducts</th>\n",
       "      <th>HasCrCard</th>\n",
       "      <th>IsActiveMember</th>\n",
       "      <th>EstimatedSalary</th>\n",
       "      <th>Exited</th>\n",
       "    </tr>\n",
       "  </thead>\n",
       "  <tbody>\n",
       "    <tr>\n",
       "      <th>0</th>\n",
       "      <td>1</td>\n",
       "      <td>15634602</td>\n",
       "      <td>Hargrave</td>\n",
       "      <td>619</td>\n",
       "      <td>France</td>\n",
       "      <td>Female</td>\n",
       "      <td>42</td>\n",
       "      <td>2</td>\n",
       "      <td>0.00</td>\n",
       "      <td>1</td>\n",
       "      <td>1</td>\n",
       "      <td>1</td>\n",
       "      <td>101348.88</td>\n",
       "      <td>1</td>\n",
       "    </tr>\n",
       "    <tr>\n",
       "      <th>1</th>\n",
       "      <td>2</td>\n",
       "      <td>15647311</td>\n",
       "      <td>Hill</td>\n",
       "      <td>608</td>\n",
       "      <td>Spain</td>\n",
       "      <td>Female</td>\n",
       "      <td>41</td>\n",
       "      <td>1</td>\n",
       "      <td>83807.86</td>\n",
       "      <td>1</td>\n",
       "      <td>0</td>\n",
       "      <td>1</td>\n",
       "      <td>112542.58</td>\n",
       "      <td>0</td>\n",
       "    </tr>\n",
       "    <tr>\n",
       "      <th>2</th>\n",
       "      <td>3</td>\n",
       "      <td>15619304</td>\n",
       "      <td>Onio</td>\n",
       "      <td>502</td>\n",
       "      <td>France</td>\n",
       "      <td>Female</td>\n",
       "      <td>42</td>\n",
       "      <td>8</td>\n",
       "      <td>159660.80</td>\n",
       "      <td>3</td>\n",
       "      <td>1</td>\n",
       "      <td>0</td>\n",
       "      <td>113931.57</td>\n",
       "      <td>1</td>\n",
       "    </tr>\n",
       "    <tr>\n",
       "      <th>3</th>\n",
       "      <td>4</td>\n",
       "      <td>15701354</td>\n",
       "      <td>Boni</td>\n",
       "      <td>699</td>\n",
       "      <td>France</td>\n",
       "      <td>Female</td>\n",
       "      <td>39</td>\n",
       "      <td>1</td>\n",
       "      <td>0.00</td>\n",
       "      <td>2</td>\n",
       "      <td>0</td>\n",
       "      <td>0</td>\n",
       "      <td>93826.63</td>\n",
       "      <td>0</td>\n",
       "    </tr>\n",
       "    <tr>\n",
       "      <th>4</th>\n",
       "      <td>5</td>\n",
       "      <td>15737888</td>\n",
       "      <td>Mitchell</td>\n",
       "      <td>850</td>\n",
       "      <td>Spain</td>\n",
       "      <td>Female</td>\n",
       "      <td>43</td>\n",
       "      <td>2</td>\n",
       "      <td>125510.82</td>\n",
       "      <td>1</td>\n",
       "      <td>1</td>\n",
       "      <td>1</td>\n",
       "      <td>79084.10</td>\n",
       "      <td>0</td>\n",
       "    </tr>\n",
       "  </tbody>\n",
       "</table>\n",
       "</div>"
      ],
      "text/plain": [
       "   RowNumber  CustomerId   Surname  CreditScore Geography  Gender  Age  \\\n",
       "0          1    15634602  Hargrave          619    France  Female   42   \n",
       "1          2    15647311      Hill          608     Spain  Female   41   \n",
       "2          3    15619304      Onio          502    France  Female   42   \n",
       "3          4    15701354      Boni          699    France  Female   39   \n",
       "4          5    15737888  Mitchell          850     Spain  Female   43   \n",
       "\n",
       "   Tenure    Balance  NumOfProducts  HasCrCard  IsActiveMember  \\\n",
       "0       2       0.00              1          1               1   \n",
       "1       1   83807.86              1          0               1   \n",
       "2       8  159660.80              3          1               0   \n",
       "3       1       0.00              2          0               0   \n",
       "4       2  125510.82              1          1               1   \n",
       "\n",
       "   EstimatedSalary  Exited  \n",
       "0        101348.88       1  \n",
       "1        112542.58       0  \n",
       "2        113931.57       1  \n",
       "3         93826.63       0  \n",
       "4         79084.10       0  "
      ]
     },
     "execution_count": 20,
     "metadata": {},
     "output_type": "execute_result"
    }
   ],
   "source": [
    "# Data\n",
    "df = pd.read_csv(\"ProjectX.csv\")\n",
    "df.head()"
   ]
  },
  {
   "cell_type": "code",
   "execution_count": 21,
   "metadata": {},
   "outputs": [
    {
     "name": "stdout",
     "output_type": "stream",
     "text": [
      "Data Shape: (10000, 14)\n",
      "\n",
      " -----Data Info and Types of Features-----\n",
      "<class 'pandas.core.frame.DataFrame'>\n",
      "RangeIndex: 10000 entries, 0 to 9999\n",
      "Data columns (total 14 columns):\n",
      " #   Column           Non-Null Count  Dtype  \n",
      "---  ------           --------------  -----  \n",
      " 0   RowNumber        10000 non-null  int64  \n",
      " 1   CustomerId       10000 non-null  int64  \n",
      " 2   Surname          10000 non-null  object \n",
      " 3   CreditScore      10000 non-null  int64  \n",
      " 4   Geography        10000 non-null  object \n",
      " 5   Gender           10000 non-null  object \n",
      " 6   Age              10000 non-null  int64  \n",
      " 7   Tenure           10000 non-null  int64  \n",
      " 8   Balance          10000 non-null  float64\n",
      " 9   NumOfProducts    10000 non-null  int64  \n",
      " 10  HasCrCard        10000 non-null  int64  \n",
      " 11  IsActiveMember   10000 non-null  int64  \n",
      " 12  EstimatedSalary  10000 non-null  float64\n",
      " 13  Exited           10000 non-null  int64  \n",
      "dtypes: float64(2), int64(9), object(3)\n",
      "memory usage: 1.1+ MB\n",
      "\n",
      " -----Describing Numerical Features-----\n"
     ]
    },
    {
     "data": {
      "text/html": [
       "<div>\n",
       "<style scoped>\n",
       "    .dataframe tbody tr th:only-of-type {\n",
       "        vertical-align: middle;\n",
       "    }\n",
       "\n",
       "    .dataframe tbody tr th {\n",
       "        vertical-align: top;\n",
       "    }\n",
       "\n",
       "    .dataframe thead th {\n",
       "        text-align: right;\n",
       "    }\n",
       "</style>\n",
       "<table border=\"1\" class=\"dataframe\">\n",
       "  <thead>\n",
       "    <tr style=\"text-align: right;\">\n",
       "      <th></th>\n",
       "      <th>RowNumber</th>\n",
       "      <th>CustomerId</th>\n",
       "      <th>CreditScore</th>\n",
       "      <th>Age</th>\n",
       "      <th>Tenure</th>\n",
       "      <th>Balance</th>\n",
       "      <th>NumOfProducts</th>\n",
       "      <th>HasCrCard</th>\n",
       "      <th>IsActiveMember</th>\n",
       "      <th>EstimatedSalary</th>\n",
       "      <th>Exited</th>\n",
       "    </tr>\n",
       "  </thead>\n",
       "  <tbody>\n",
       "    <tr>\n",
       "      <th>count</th>\n",
       "      <td>10000.00000</td>\n",
       "      <td>1.000000e+04</td>\n",
       "      <td>10000.000000</td>\n",
       "      <td>10000.000000</td>\n",
       "      <td>10000.000000</td>\n",
       "      <td>10000.000000</td>\n",
       "      <td>10000.000000</td>\n",
       "      <td>10000.00000</td>\n",
       "      <td>10000.000000</td>\n",
       "      <td>10000.000000</td>\n",
       "      <td>10000.000000</td>\n",
       "    </tr>\n",
       "    <tr>\n",
       "      <th>mean</th>\n",
       "      <td>5000.50000</td>\n",
       "      <td>1.569094e+07</td>\n",
       "      <td>650.528800</td>\n",
       "      <td>38.921800</td>\n",
       "      <td>5.012800</td>\n",
       "      <td>76485.889288</td>\n",
       "      <td>1.530200</td>\n",
       "      <td>0.70550</td>\n",
       "      <td>0.515100</td>\n",
       "      <td>100090.239881</td>\n",
       "      <td>0.203700</td>\n",
       "    </tr>\n",
       "    <tr>\n",
       "      <th>std</th>\n",
       "      <td>2886.89568</td>\n",
       "      <td>7.193619e+04</td>\n",
       "      <td>96.653299</td>\n",
       "      <td>10.487806</td>\n",
       "      <td>2.892174</td>\n",
       "      <td>62397.405202</td>\n",
       "      <td>0.581654</td>\n",
       "      <td>0.45584</td>\n",
       "      <td>0.499797</td>\n",
       "      <td>57510.492818</td>\n",
       "      <td>0.402769</td>\n",
       "    </tr>\n",
       "    <tr>\n",
       "      <th>min</th>\n",
       "      <td>1.00000</td>\n",
       "      <td>1.556570e+07</td>\n",
       "      <td>350.000000</td>\n",
       "      <td>18.000000</td>\n",
       "      <td>0.000000</td>\n",
       "      <td>0.000000</td>\n",
       "      <td>1.000000</td>\n",
       "      <td>0.00000</td>\n",
       "      <td>0.000000</td>\n",
       "      <td>11.580000</td>\n",
       "      <td>0.000000</td>\n",
       "    </tr>\n",
       "    <tr>\n",
       "      <th>25%</th>\n",
       "      <td>2500.75000</td>\n",
       "      <td>1.562853e+07</td>\n",
       "      <td>584.000000</td>\n",
       "      <td>32.000000</td>\n",
       "      <td>3.000000</td>\n",
       "      <td>0.000000</td>\n",
       "      <td>1.000000</td>\n",
       "      <td>0.00000</td>\n",
       "      <td>0.000000</td>\n",
       "      <td>51002.110000</td>\n",
       "      <td>0.000000</td>\n",
       "    </tr>\n",
       "    <tr>\n",
       "      <th>50%</th>\n",
       "      <td>5000.50000</td>\n",
       "      <td>1.569074e+07</td>\n",
       "      <td>652.000000</td>\n",
       "      <td>37.000000</td>\n",
       "      <td>5.000000</td>\n",
       "      <td>97198.540000</td>\n",
       "      <td>1.000000</td>\n",
       "      <td>1.00000</td>\n",
       "      <td>1.000000</td>\n",
       "      <td>100193.915000</td>\n",
       "      <td>0.000000</td>\n",
       "    </tr>\n",
       "    <tr>\n",
       "      <th>75%</th>\n",
       "      <td>7500.25000</td>\n",
       "      <td>1.575323e+07</td>\n",
       "      <td>718.000000</td>\n",
       "      <td>44.000000</td>\n",
       "      <td>7.000000</td>\n",
       "      <td>127644.240000</td>\n",
       "      <td>2.000000</td>\n",
       "      <td>1.00000</td>\n",
       "      <td>1.000000</td>\n",
       "      <td>149388.247500</td>\n",
       "      <td>0.000000</td>\n",
       "    </tr>\n",
       "    <tr>\n",
       "      <th>max</th>\n",
       "      <td>10000.00000</td>\n",
       "      <td>1.581569e+07</td>\n",
       "      <td>850.000000</td>\n",
       "      <td>92.000000</td>\n",
       "      <td>10.000000</td>\n",
       "      <td>250898.090000</td>\n",
       "      <td>4.000000</td>\n",
       "      <td>1.00000</td>\n",
       "      <td>1.000000</td>\n",
       "      <td>199992.480000</td>\n",
       "      <td>1.000000</td>\n",
       "    </tr>\n",
       "  </tbody>\n",
       "</table>\n",
       "</div>"
      ],
      "text/plain": [
       "         RowNumber    CustomerId   CreditScore           Age        Tenure  \\\n",
       "count  10000.00000  1.000000e+04  10000.000000  10000.000000  10000.000000   \n",
       "mean    5000.50000  1.569094e+07    650.528800     38.921800      5.012800   \n",
       "std     2886.89568  7.193619e+04     96.653299     10.487806      2.892174   \n",
       "min        1.00000  1.556570e+07    350.000000     18.000000      0.000000   \n",
       "25%     2500.75000  1.562853e+07    584.000000     32.000000      3.000000   \n",
       "50%     5000.50000  1.569074e+07    652.000000     37.000000      5.000000   \n",
       "75%     7500.25000  1.575323e+07    718.000000     44.000000      7.000000   \n",
       "max    10000.00000  1.581569e+07    850.000000     92.000000     10.000000   \n",
       "\n",
       "             Balance  NumOfProducts    HasCrCard  IsActiveMember  \\\n",
       "count   10000.000000   10000.000000  10000.00000    10000.000000   \n",
       "mean    76485.889288       1.530200      0.70550        0.515100   \n",
       "std     62397.405202       0.581654      0.45584        0.499797   \n",
       "min         0.000000       1.000000      0.00000        0.000000   \n",
       "25%         0.000000       1.000000      0.00000        0.000000   \n",
       "50%     97198.540000       1.000000      1.00000        1.000000   \n",
       "75%    127644.240000       2.000000      1.00000        1.000000   \n",
       "max    250898.090000       4.000000      1.00000        1.000000   \n",
       "\n",
       "       EstimatedSalary        Exited  \n",
       "count     10000.000000  10000.000000  \n",
       "mean     100090.239881      0.203700  \n",
       "std       57510.492818      0.402769  \n",
       "min          11.580000      0.000000  \n",
       "25%       51002.110000      0.000000  \n",
       "50%      100193.915000      0.000000  \n",
       "75%      149388.247500      0.000000  \n",
       "max      199992.480000      1.000000  "
      ]
     },
     "metadata": {},
     "output_type": "display_data"
    },
    {
     "name": "stdout",
     "output_type": "stream",
     "text": [
      "\n",
      " -----Describing Categorical Features-----\n"
     ]
    },
    {
     "data": {
      "text/html": [
       "<div>\n",
       "<style scoped>\n",
       "    .dataframe tbody tr th:only-of-type {\n",
       "        vertical-align: middle;\n",
       "    }\n",
       "\n",
       "    .dataframe tbody tr th {\n",
       "        vertical-align: top;\n",
       "    }\n",
       "\n",
       "    .dataframe thead th {\n",
       "        text-align: right;\n",
       "    }\n",
       "</style>\n",
       "<table border=\"1\" class=\"dataframe\">\n",
       "  <thead>\n",
       "    <tr style=\"text-align: right;\">\n",
       "      <th></th>\n",
       "      <th>Surname</th>\n",
       "      <th>Geography</th>\n",
       "      <th>Gender</th>\n",
       "    </tr>\n",
       "  </thead>\n",
       "  <tbody>\n",
       "    <tr>\n",
       "      <th>count</th>\n",
       "      <td>10000</td>\n",
       "      <td>10000</td>\n",
       "      <td>10000</td>\n",
       "    </tr>\n",
       "    <tr>\n",
       "      <th>unique</th>\n",
       "      <td>2932</td>\n",
       "      <td>3</td>\n",
       "      <td>2</td>\n",
       "    </tr>\n",
       "    <tr>\n",
       "      <th>top</th>\n",
       "      <td>Smith</td>\n",
       "      <td>France</td>\n",
       "      <td>Male</td>\n",
       "    </tr>\n",
       "    <tr>\n",
       "      <th>freq</th>\n",
       "      <td>32</td>\n",
       "      <td>5014</td>\n",
       "      <td>5457</td>\n",
       "    </tr>\n",
       "  </tbody>\n",
       "</table>\n",
       "</div>"
      ],
      "text/plain": [
       "       Surname Geography Gender\n",
       "count    10000     10000  10000\n",
       "unique    2932         3      2\n",
       "top      Smith    France   Male\n",
       "freq        32      5014   5457"
      ]
     },
     "metadata": {},
     "output_type": "display_data"
    }
   ],
   "source": [
    "# Describing the dataset\n",
    "print(f'Data Shape: {df.shape}')\n",
    "print('\\n -----Data Info and Types of Features-----')\n",
    "df.info()\n",
    "\n",
    "print('\\n -----Describing Numerical Features-----')\n",
    "display(df.describe())\n",
    "\n",
    "print('\\n -----Describing Categorical Features-----')\n",
    "display(df.describe(include='object'))"
   ]
  },
  {
   "cell_type": "code",
   "execution_count": 22,
   "metadata": {},
   "outputs": [],
   "source": [
    "# RowNumber, CustomerId, and Surname have no effect on the prediction. Therefore, they should be dropped before the model. \n",
    "df.drop([\"RowNumber\", \"CustomerId\", \"Surname\"], axis = 1, inplace = True)"
   ]
  },
  {
   "cell_type": "code",
   "execution_count": 23,
   "metadata": {},
   "outputs": [
    {
     "name": "stdout",
     "output_type": "stream",
     "text": [
      "Xtrain shape: (8000, 10)\n",
      "Xtest shape: (2000, 10)\n",
      "ytrain shape: (8000,)\n",
      "ytrain churn percent: 20.59%\n",
      "ytest shape: (2000,)\n",
      "ytest churn percent: 19.5%\n"
     ]
    }
   ],
   "source": [
    "# features and target\n",
    "X = df.drop(\"Exited\",axis=1)\n",
    "y = df[\"Exited\"]\n",
    "\n",
    "# obtaining training and test sets.\n",
    "Xtrain, Xtest, ytrain, ytest = train_test_split(X, y, train_size = 0.80,\n",
    "                                                random_state = 1234, shuffle = False)\n",
    "print(f'Xtrain shape: {Xtrain.shape}')\n",
    "print(f'Xtest shape: {Xtest.shape}')\n",
    "print(f'ytrain shape: {ytrain.shape}')\n",
    "print(f'ytrain churn percent: {round(ytrain.describe()[\"mean\"]*100,2)}%')\n",
    "print(f'ytest shape: {ytest.shape}')\n",
    "print(f'ytest churn percent: {round(ytest.describe()[\"mean\"]*100,2)}%')"
   ]
  },
  {
   "cell_type": "markdown",
   "metadata": {},
   "source": [
    "### 2) Preprocessing the Data\n",
    "\n",
    "Preprocessing should be performed on Xtrain before the model. \n",
    " - For **categorical features**, if a variable is binary, LabelEncoder is used. However if it is more than 2, then OneHotEncoder is used.\n",
    " \n",
    " - For **numerical features**, the scales of the features can affect the performance of the model (especially if some features have higher decimals comparing the others). Therefore, scaling is needed. I tried some transformations such as StandardScaler, MinMaxScaler, Logarithmic transformation, and PowerTransformer. The best metrics are obtained with StandardScaler. It removes the mean and scales to unit variance. \n"
   ]
  },
  {
   "cell_type": "code",
   "execution_count": 24,
   "metadata": {},
   "outputs": [],
   "source": [
    "# preprocessing.LabelEncoder does not work well with ColumnTransformer\n",
    "class PipelineLabelEncoder(LabelEncoder):\n",
    "\n",
    "    def fit_transform(self, y, *args, **kwargs):\n",
    "        X = np.empty(y.shape)\n",
    "        df = False\n",
    "        if type(y) == pd.DataFrame:\n",
    "            df = True\n",
    "        for i in range(y.shape[1]):\n",
    "            if df:\n",
    "                X[:,i] = super().fit_transform(y.iloc[:,i])\n",
    "            else:\n",
    "                X[:,i] = super().fit_transform(y[:,i])\n",
    "        return X\n",
    "\n",
    "    def transform(self, y, *args, **kwargs):\n",
    "        X = np.empty(y.shape)\n",
    "        df = False\n",
    "        if type(y) == pd.DataFrame:\n",
    "            df = True\n",
    "        for i in range(y.shape[1]):\n",
    "            if df:\n",
    "                X[:,i] = super().transform(y.iloc[:,i])\n",
    "            else:\n",
    "                X[:,i] = super().transform(y[:,i])\n",
    "        return X"
   ]
  },
  {
   "cell_type": "code",
   "execution_count": 25,
   "metadata": {},
   "outputs": [],
   "source": [
    "# for categorical features \n",
    "object_bool_le = (Xtrain.dtypes == 'object') & (Xtrain.nunique() == 2)\n",
    "object_bool_ohe = (Xtrain.dtypes == 'object') & (Xtrain.nunique() > 2)\n",
    "\n",
    "object_var_le = Xtrain.dtypes[object_bool_le].index\n",
    "object_var_ohe = Xtrain.dtypes[object_bool_ohe].index\n",
    "\n",
    "# ColumnTransformer for categorical and numerical features\n",
    "ct = ColumnTransformer([('ohe', OneHotEncoder(handle_unknown = 'ignore'), object_var_ohe),\n",
    "                        ('le', PipelineLabelEncoder(), object_var_le)\n",
    "                       ], remainder=preprocessing.StandardScaler()) # I also tried PowerTransformer, MinMaxScaler(), and FunctionTransformer(np.log1p, validate=True)\n",
    "\n",
    "\n",
    "XtrainP = ct.fit_transform(Xtrain)\n",
    "XtestP = ct.transform(Xtest)"
   ]
  },
  {
   "cell_type": "markdown",
   "metadata": {},
   "source": [
    "### 3) Evaluation and Base Metrics\n",
    "\n",
    "Since we have imbalanced data, only accuracy is not enough to evaluate the model. Therefore, ROC-AUC and/or F1 score can be used to track true and false positives. \n",
    "\n",
    "Before we start building a MLP Model, I wanted to learn the training base accuracy and ROC-AUC."
   ]
  },
  {
   "cell_type": "code",
   "execution_count": 26,
   "metadata": {},
   "outputs": [
    {
     "name": "stdout",
     "output_type": "stream",
     "text": [
      "Base AUC: 0.5, Base Accuracy: 0.79\n"
     ]
    }
   ],
   "source": [
    "# I assume all data do not churn for basis scores\n",
    "y_base = np.zeros(ytrain.shape)\n",
    "\n",
    "# Since we can not differentiate positive and negative classes correctly, our AUC score is 0.5\n",
    "base_auc = round(roc_auc_score(ytrain, y_base),2)\n",
    "base_acc = round(accuracy_score(ytrain, y_base),2)\n",
    "\n",
    "print(f'Base AUC: {base_auc}, Base Accuracy: {base_acc}')"
   ]
  },
  {
   "cell_type": "markdown",
   "metadata": {},
   "source": [
    "Since we can not differentiate positive and negative classes correctly, our AUC score is 0.5. However even if we can not differentiate the classes, we get around %80 percent accuracy. That's why the accuracy score can be confusing for imbalanced datasets."
   ]
  },
  {
   "cell_type": "markdown",
   "metadata": {},
   "source": [
    "### 4) Building the MultiLayer Perceptron for Binary Classification"
   ]
  },
  {
   "cell_type": "code",
   "execution_count": 27,
   "metadata": {},
   "outputs": [
    {
     "name": "stdout",
     "output_type": "stream",
     "text": [
      "(6000, 12) (6000,) (2000, 12) (2000,)\n"
     ]
    }
   ],
   "source": [
    "# learn and validation sets for the model\n",
    "Xlearn, Xval, ylearn, yval = train_test_split(XtrainP, ytrain, test_size = 0.25,\n",
    "                                              random_state = 1234,\n",
    "                                              stratify = ytrain, # for imbalanced dataset\n",
    "                                              shuffle = True)\n",
    "print(Xlearn.shape, ylearn.shape, Xval.shape, yval.shape)"
   ]
  },
  {
   "cell_type": "code",
   "execution_count": 28,
   "metadata": {},
   "outputs": [
    {
     "name": "stdout",
     "output_type": "stream",
     "text": [
      "Model: \"sequential_2\"\n",
      "_________________________________________________________________\n",
      " Layer (type)                Output Shape              Param #   \n",
      "=================================================================\n",
      " first_relu (Dense)          (None, 50)                650       \n",
      "                                                                 \n",
      " dropout_4 (Dropout)         (None, 50)                0         \n",
      "                                                                 \n",
      " second_relu (Dense)         (None, 25)                1275      \n",
      "                                                                 \n",
      " dropout_5 (Dropout)         (None, 25)                0         \n",
      "                                                                 \n",
      " output (Dense)              (None, 1)                 26        \n",
      "                                                                 \n",
      "=================================================================\n",
      "Total params: 1,951\n",
      "Trainable params: 1,951\n",
      "Non-trainable params: 0\n",
      "_________________________________________________________________\n"
     ]
    }
   ],
   "source": [
    "# Model architecture part\n",
    "mlp_model= keras.models.Sequential([\n",
    "    keras.layers.Input(name = \"input\", shape = (Xlearn.shape[1],)),\n",
    "    keras.layers.Dense(50, name = \"first_relu\", activation = \"relu\"),\n",
    "    keras.layers.Dropout(rate = 0.2), # dropout layer to deal with overfitting\n",
    "    keras.layers.Dense(25, name = \"second_relu\", activation = \"relu\"),\n",
    "    keras.layers.Dropout(rate = 0.2), # dropout layer to deal with overfitting\n",
    "    keras.layers.Dense(1, name = \"output\", activation = \"sigmoid\") # since it is binary classification, sigmoid activation function should be used.\n",
    "])\n",
    "\n",
    "mlp_model.summary()"
   ]
  },
  {
   "cell_type": "code",
   "execution_count": 29,
   "metadata": {},
   "outputs": [
    {
     "name": "stdout",
     "output_type": "stream",
     "text": [
      "Epoch 1/200\n",
      "188/188 [==============================] - 0s 1ms/step - loss: 0.7283 - Accuracy: 0.4837 - auc: 0.5454 - val_loss: 0.6090 - val_Accuracy: 0.7455 - val_auc: 0.5847\n",
      "Epoch 2/200\n",
      "188/188 [==============================] - 0s 689us/step - loss: 0.5810 - Accuracy: 0.7358 - auc: 0.5848 - val_loss: 0.5247 - val_Accuracy: 0.7925 - val_auc: 0.6327\n",
      "Epoch 3/200\n",
      "188/188 [==============================] - 0s 690us/step - loss: 0.5192 - Accuracy: 0.7872 - auc: 0.6214 - val_loss: 0.4894 - val_Accuracy: 0.7950 - val_auc: 0.6703\n",
      "Epoch 4/200\n",
      "188/188 [==============================] - 0s 685us/step - loss: 0.4924 - Accuracy: 0.7937 - auc: 0.6572 - val_loss: 0.4729 - val_Accuracy: 0.7950 - val_auc: 0.6975\n",
      "Epoch 5/200\n",
      "188/188 [==============================] - 0s 684us/step - loss: 0.4764 - Accuracy: 0.7978 - auc: 0.6844 - val_loss: 0.4627 - val_Accuracy: 0.7955 - val_auc: 0.7166\n",
      "Epoch 6/200\n",
      "188/188 [==============================] - 0s 688us/step - loss: 0.4634 - Accuracy: 0.7988 - auc: 0.7124 - val_loss: 0.4549 - val_Accuracy: 0.7980 - val_auc: 0.7295\n",
      "Epoch 7/200\n",
      "188/188 [==============================] - 0s 685us/step - loss: 0.4561 - Accuracy: 0.8072 - auc: 0.7229 - val_loss: 0.4488 - val_Accuracy: 0.8030 - val_auc: 0.7394\n",
      "Epoch 8/200\n",
      "188/188 [==============================] - 0s 682us/step - loss: 0.4505 - Accuracy: 0.8067 - auc: 0.7349 - val_loss: 0.4438 - val_Accuracy: 0.8060 - val_auc: 0.7467\n",
      "Epoch 9/200\n",
      "188/188 [==============================] - 0s 691us/step - loss: 0.4423 - Accuracy: 0.8097 - auc: 0.7462 - val_loss: 0.4393 - val_Accuracy: 0.8120 - val_auc: 0.7533\n",
      "Epoch 10/200\n",
      "188/188 [==============================] - 0s 690us/step - loss: 0.4373 - Accuracy: 0.8150 - auc: 0.7544 - val_loss: 0.4361 - val_Accuracy: 0.8160 - val_auc: 0.7571\n",
      "Epoch 11/200\n",
      "188/188 [==============================] - 0s 687us/step - loss: 0.4385 - Accuracy: 0.8203 - auc: 0.7512 - val_loss: 0.4329 - val_Accuracy: 0.8190 - val_auc: 0.7615\n",
      "Epoch 12/200\n",
      "188/188 [==============================] - 0s 687us/step - loss: 0.4300 - Accuracy: 0.8178 - auc: 0.7639 - val_loss: 0.4304 - val_Accuracy: 0.8210 - val_auc: 0.7652\n",
      "Epoch 13/200\n",
      "188/188 [==============================] - 0s 693us/step - loss: 0.4227 - Accuracy: 0.8253 - auc: 0.7744 - val_loss: 0.4282 - val_Accuracy: 0.8195 - val_auc: 0.7683\n",
      "Epoch 14/200\n",
      "188/188 [==============================] - 0s 692us/step - loss: 0.4263 - Accuracy: 0.8268 - auc: 0.7696 - val_loss: 0.4258 - val_Accuracy: 0.8215 - val_auc: 0.7716\n",
      "Epoch 15/200\n",
      "188/188 [==============================] - 0s 710us/step - loss: 0.4204 - Accuracy: 0.8270 - auc: 0.7771 - val_loss: 0.4233 - val_Accuracy: 0.8215 - val_auc: 0.7748\n",
      "Epoch 16/200\n",
      "188/188 [==============================] - 0s 692us/step - loss: 0.4205 - Accuracy: 0.8277 - auc: 0.7769 - val_loss: 0.4212 - val_Accuracy: 0.8220 - val_auc: 0.7779\n",
      "Epoch 17/200\n",
      "188/188 [==============================] - 0s 692us/step - loss: 0.4173 - Accuracy: 0.8272 - auc: 0.7827 - val_loss: 0.4188 - val_Accuracy: 0.8245 - val_auc: 0.7811\n",
      "Epoch 18/200\n",
      "188/188 [==============================] - 0s 692us/step - loss: 0.4130 - Accuracy: 0.8282 - auc: 0.7879 - val_loss: 0.4170 - val_Accuracy: 0.8240 - val_auc: 0.7842\n",
      "Epoch 19/200\n",
      "188/188 [==============================] - 0s 692us/step - loss: 0.4132 - Accuracy: 0.8292 - auc: 0.7865 - val_loss: 0.4146 - val_Accuracy: 0.8260 - val_auc: 0.7865\n",
      "Epoch 20/200\n",
      "188/188 [==============================] - 0s 692us/step - loss: 0.4094 - Accuracy: 0.8347 - auc: 0.7905 - val_loss: 0.4124 - val_Accuracy: 0.8270 - val_auc: 0.7894\n",
      "Epoch 21/200\n",
      "188/188 [==============================] - 0s 699us/step - loss: 0.4035 - Accuracy: 0.8370 - auc: 0.7982 - val_loss: 0.4105 - val_Accuracy: 0.8285 - val_auc: 0.7918\n",
      "Epoch 22/200\n",
      "188/188 [==============================] - 0s 699us/step - loss: 0.4077 - Accuracy: 0.8342 - auc: 0.7921 - val_loss: 0.4081 - val_Accuracy: 0.8295 - val_auc: 0.7947\n",
      "Epoch 23/200\n",
      "188/188 [==============================] - 0s 696us/step - loss: 0.3991 - Accuracy: 0.8385 - auc: 0.8039 - val_loss: 0.4059 - val_Accuracy: 0.8305 - val_auc: 0.7971\n",
      "Epoch 24/200\n",
      "188/188 [==============================] - 0s 697us/step - loss: 0.4042 - Accuracy: 0.8373 - auc: 0.7964 - val_loss: 0.4034 - val_Accuracy: 0.8325 - val_auc: 0.7997\n",
      "Epoch 25/200\n",
      "188/188 [==============================] - 0s 692us/step - loss: 0.3968 - Accuracy: 0.8368 - auc: 0.8093 - val_loss: 0.4015 - val_Accuracy: 0.8335 - val_auc: 0.8021\n",
      "Epoch 26/200\n",
      "188/188 [==============================] - 0s 695us/step - loss: 0.3937 - Accuracy: 0.8387 - auc: 0.8122 - val_loss: 0.4000 - val_Accuracy: 0.8330 - val_auc: 0.8038\n",
      "Epoch 27/200\n",
      "188/188 [==============================] - 0s 693us/step - loss: 0.3887 - Accuracy: 0.8413 - auc: 0.8170 - val_loss: 0.3981 - val_Accuracy: 0.8355 - val_auc: 0.8057\n",
      "Epoch 28/200\n",
      "188/188 [==============================] - 0s 676us/step - loss: 0.3960 - Accuracy: 0.8407 - auc: 0.8049 - val_loss: 0.3960 - val_Accuracy: 0.8390 - val_auc: 0.8074\n",
      "Epoch 29/200\n",
      "188/188 [==============================] - 0s 695us/step - loss: 0.3892 - Accuracy: 0.8458 - auc: 0.8143 - val_loss: 0.3939 - val_Accuracy: 0.8400 - val_auc: 0.8092\n",
      "Epoch 30/200\n",
      "188/188 [==============================] - 0s 693us/step - loss: 0.3896 - Accuracy: 0.8408 - auc: 0.8152 - val_loss: 0.3923 - val_Accuracy: 0.8400 - val_auc: 0.8107\n",
      "Epoch 31/200\n",
      "188/188 [==============================] - 0s 696us/step - loss: 0.3841 - Accuracy: 0.8448 - auc: 0.8225 - val_loss: 0.3909 - val_Accuracy: 0.8420 - val_auc: 0.8121\n",
      "Epoch 32/200\n",
      "188/188 [==============================] - 0s 693us/step - loss: 0.3832 - Accuracy: 0.8422 - auc: 0.8212 - val_loss: 0.3892 - val_Accuracy: 0.8425 - val_auc: 0.8134\n",
      "Epoch 33/200\n",
      "188/188 [==============================] - 0s 694us/step - loss: 0.3830 - Accuracy: 0.8470 - auc: 0.8214 - val_loss: 0.3882 - val_Accuracy: 0.8410 - val_auc: 0.8148\n",
      "Epoch 34/200\n",
      "188/188 [==============================] - 0s 698us/step - loss: 0.3813 - Accuracy: 0.8428 - auc: 0.8250 - val_loss: 0.3862 - val_Accuracy: 0.8425 - val_auc: 0.8159\n",
      "Epoch 35/200\n",
      "188/188 [==============================] - 0s 700us/step - loss: 0.3761 - Accuracy: 0.8465 - auc: 0.8298 - val_loss: 0.3855 - val_Accuracy: 0.8430 - val_auc: 0.8168\n",
      "Epoch 36/200\n",
      "188/188 [==============================] - 0s 703us/step - loss: 0.3841 - Accuracy: 0.8458 - auc: 0.8199 - val_loss: 0.3837 - val_Accuracy: 0.8455 - val_auc: 0.8178\n",
      "Epoch 37/200\n",
      "188/188 [==============================] - 0s 698us/step - loss: 0.3769 - Accuracy: 0.8487 - auc: 0.8284 - val_loss: 0.3828 - val_Accuracy: 0.8455 - val_auc: 0.8190\n",
      "Epoch 38/200\n",
      "188/188 [==============================] - 0s 701us/step - loss: 0.3786 - Accuracy: 0.8485 - auc: 0.8245 - val_loss: 0.3812 - val_Accuracy: 0.8470 - val_auc: 0.8201\n",
      "Epoch 39/200\n",
      "188/188 [==============================] - 0s 701us/step - loss: 0.3751 - Accuracy: 0.8497 - auc: 0.8289 - val_loss: 0.3807 - val_Accuracy: 0.8460 - val_auc: 0.8208\n",
      "Epoch 40/200\n",
      "188/188 [==============================] - 0s 697us/step - loss: 0.3761 - Accuracy: 0.8513 - auc: 0.8275 - val_loss: 0.3798 - val_Accuracy: 0.8475 - val_auc: 0.8218\n",
      "Epoch 41/200\n",
      "188/188 [==============================] - 0s 702us/step - loss: 0.3785 - Accuracy: 0.8485 - auc: 0.8228 - val_loss: 0.3789 - val_Accuracy: 0.8485 - val_auc: 0.8225\n",
      "Epoch 42/200\n",
      "188/188 [==============================] - 0s 703us/step - loss: 0.3736 - Accuracy: 0.8505 - auc: 0.8284 - val_loss: 0.3780 - val_Accuracy: 0.8475 - val_auc: 0.8233\n",
      "Epoch 43/200\n",
      "188/188 [==============================] - 0s 702us/step - loss: 0.3679 - Accuracy: 0.8515 - auc: 0.8361 - val_loss: 0.3769 - val_Accuracy: 0.8480 - val_auc: 0.8237\n",
      "Epoch 44/200\n",
      "188/188 [==============================] - 0s 699us/step - loss: 0.3705 - Accuracy: 0.8523 - auc: 0.8341 - val_loss: 0.3761 - val_Accuracy: 0.8480 - val_auc: 0.8247\n",
      "Epoch 45/200\n",
      "188/188 [==============================] - 0s 704us/step - loss: 0.3743 - Accuracy: 0.8503 - auc: 0.8274 - val_loss: 0.3753 - val_Accuracy: 0.8475 - val_auc: 0.8251\n",
      "Epoch 46/200\n",
      "188/188 [==============================] - 0s 706us/step - loss: 0.3630 - Accuracy: 0.8528 - auc: 0.8412 - val_loss: 0.3749 - val_Accuracy: 0.8470 - val_auc: 0.8257\n",
      "Epoch 47/200\n",
      "188/188 [==============================] - 0s 699us/step - loss: 0.3684 - Accuracy: 0.8483 - auc: 0.8353 - val_loss: 0.3737 - val_Accuracy: 0.8480 - val_auc: 0.8262\n",
      "Epoch 48/200\n",
      "188/188 [==============================] - 0s 692us/step - loss: 0.3652 - Accuracy: 0.8505 - auc: 0.8388 - val_loss: 0.3736 - val_Accuracy: 0.8480 - val_auc: 0.8267\n",
      "Epoch 49/200\n",
      "188/188 [==============================] - 0s 676us/step - loss: 0.3654 - Accuracy: 0.8542 - auc: 0.8372 - val_loss: 0.3729 - val_Accuracy: 0.8480 - val_auc: 0.8272\n",
      "Epoch 50/200\n",
      "188/188 [==============================] - 0s 679us/step - loss: 0.3654 - Accuracy: 0.8528 - auc: 0.8393 - val_loss: 0.3722 - val_Accuracy: 0.8490 - val_auc: 0.8278\n",
      "Epoch 51/200\n",
      "188/188 [==============================] - 0s 681us/step - loss: 0.3627 - Accuracy: 0.8515 - auc: 0.8402 - val_loss: 0.3715 - val_Accuracy: 0.8490 - val_auc: 0.8282\n",
      "Epoch 52/200\n",
      "188/188 [==============================] - 0s 679us/step - loss: 0.3666 - Accuracy: 0.8482 - auc: 0.8394 - val_loss: 0.3708 - val_Accuracy: 0.8500 - val_auc: 0.8287\n",
      "Epoch 53/200\n",
      "188/188 [==============================] - 0s 681us/step - loss: 0.3645 - Accuracy: 0.8530 - auc: 0.8398 - val_loss: 0.3706 - val_Accuracy: 0.8495 - val_auc: 0.8289\n",
      "Epoch 54/200\n",
      "188/188 [==============================] - 0s 679us/step - loss: 0.3578 - Accuracy: 0.8557 - auc: 0.8460 - val_loss: 0.3704 - val_Accuracy: 0.8500 - val_auc: 0.8295\n",
      "Epoch 55/200\n",
      "188/188 [==============================] - 0s 685us/step - loss: 0.3583 - Accuracy: 0.8573 - auc: 0.8453 - val_loss: 0.3699 - val_Accuracy: 0.8500 - val_auc: 0.8296\n",
      "Epoch 56/200\n",
      "188/188 [==============================] - 0s 689us/step - loss: 0.3583 - Accuracy: 0.8542 - auc: 0.8461 - val_loss: 0.3692 - val_Accuracy: 0.8495 - val_auc: 0.8302\n",
      "Epoch 57/200\n",
      "188/188 [==============================] - 0s 684us/step - loss: 0.3622 - Accuracy: 0.8542 - auc: 0.8414 - val_loss: 0.3688 - val_Accuracy: 0.8500 - val_auc: 0.8306\n",
      "Epoch 58/200\n",
      "188/188 [==============================] - 0s 687us/step - loss: 0.3584 - Accuracy: 0.8603 - auc: 0.8429 - val_loss: 0.3684 - val_Accuracy: 0.8505 - val_auc: 0.8311\n",
      "Epoch 59/200\n",
      "188/188 [==============================] - 0s 686us/step - loss: 0.3593 - Accuracy: 0.8513 - auc: 0.8447 - val_loss: 0.3681 - val_Accuracy: 0.8505 - val_auc: 0.8312\n",
      "Epoch 60/200\n",
      "188/188 [==============================] - 0s 684us/step - loss: 0.3563 - Accuracy: 0.8555 - auc: 0.8486 - val_loss: 0.3677 - val_Accuracy: 0.8500 - val_auc: 0.8316\n",
      "Epoch 61/200\n",
      "188/188 [==============================] - 0s 694us/step - loss: 0.3588 - Accuracy: 0.8575 - auc: 0.8458 - val_loss: 0.3673 - val_Accuracy: 0.8500 - val_auc: 0.8315\n",
      "Epoch 62/200\n",
      "188/188 [==============================] - 0s 681us/step - loss: 0.3543 - Accuracy: 0.8542 - auc: 0.8511 - val_loss: 0.3674 - val_Accuracy: 0.8495 - val_auc: 0.8314\n",
      "Epoch 63/200\n",
      "188/188 [==============================] - 0s 689us/step - loss: 0.3562 - Accuracy: 0.8565 - auc: 0.8466 - val_loss: 0.3669 - val_Accuracy: 0.8505 - val_auc: 0.8321\n",
      "Epoch 64/200\n",
      "188/188 [==============================] - 0s 690us/step - loss: 0.3522 - Accuracy: 0.8562 - auc: 0.8509 - val_loss: 0.3668 - val_Accuracy: 0.8510 - val_auc: 0.8318\n",
      "Epoch 65/200\n",
      "188/188 [==============================] - 0s 693us/step - loss: 0.3543 - Accuracy: 0.8580 - auc: 0.8483 - val_loss: 0.3664 - val_Accuracy: 0.8505 - val_auc: 0.8328\n",
      "Epoch 66/200\n",
      "188/188 [==============================] - 0s 691us/step - loss: 0.3547 - Accuracy: 0.8533 - auc: 0.8488 - val_loss: 0.3662 - val_Accuracy: 0.8505 - val_auc: 0.8327\n",
      "Epoch 67/200\n",
      "188/188 [==============================] - 0s 694us/step - loss: 0.3575 - Accuracy: 0.8552 - auc: 0.8462 - val_loss: 0.3657 - val_Accuracy: 0.8505 - val_auc: 0.8334\n",
      "Epoch 68/200\n",
      "188/188 [==============================] - 0s 694us/step - loss: 0.3545 - Accuracy: 0.8557 - auc: 0.8491 - val_loss: 0.3655 - val_Accuracy: 0.8505 - val_auc: 0.8337\n",
      "Epoch 69/200\n",
      "188/188 [==============================] - 0s 689us/step - loss: 0.3575 - Accuracy: 0.8535 - auc: 0.8465 - val_loss: 0.3653 - val_Accuracy: 0.8500 - val_auc: 0.8340\n",
      "Epoch 70/200\n",
      "188/188 [==============================] - 0s 690us/step - loss: 0.3539 - Accuracy: 0.8543 - auc: 0.8499 - val_loss: 0.3654 - val_Accuracy: 0.8490 - val_auc: 0.8341\n",
      "Epoch 71/200\n",
      "188/188 [==============================] - 0s 693us/step - loss: 0.3541 - Accuracy: 0.8547 - auc: 0.8480 - val_loss: 0.3645 - val_Accuracy: 0.8520 - val_auc: 0.8345\n",
      "Epoch 72/200\n",
      "188/188 [==============================] - 0s 704us/step - loss: 0.3515 - Accuracy: 0.8565 - auc: 0.8507 - val_loss: 0.3645 - val_Accuracy: 0.8520 - val_auc: 0.8348\n",
      "Epoch 73/200\n",
      "188/188 [==============================] - 0s 699us/step - loss: 0.3520 - Accuracy: 0.8562 - auc: 0.8502 - val_loss: 0.3642 - val_Accuracy: 0.8520 - val_auc: 0.8349\n",
      "Epoch 74/200\n",
      "188/188 [==============================] - 0s 703us/step - loss: 0.3508 - Accuracy: 0.8568 - auc: 0.8550 - val_loss: 0.3642 - val_Accuracy: 0.8515 - val_auc: 0.8352\n",
      "Epoch 75/200\n",
      "188/188 [==============================] - 0s 697us/step - loss: 0.3485 - Accuracy: 0.8563 - auc: 0.8551 - val_loss: 0.3641 - val_Accuracy: 0.8520 - val_auc: 0.8352\n",
      "Epoch 76/200\n",
      "188/188 [==============================] - 0s 696us/step - loss: 0.3498 - Accuracy: 0.8592 - auc: 0.8545 - val_loss: 0.3640 - val_Accuracy: 0.8505 - val_auc: 0.8353\n",
      "Epoch 77/200\n",
      "188/188 [==============================] - 0s 701us/step - loss: 0.3529 - Accuracy: 0.8552 - auc: 0.8500 - val_loss: 0.3640 - val_Accuracy: 0.8495 - val_auc: 0.8353\n",
      "Epoch 78/200\n",
      "188/188 [==============================] - 0s 723us/step - loss: 0.3530 - Accuracy: 0.8567 - auc: 0.8504 - val_loss: 0.3638 - val_Accuracy: 0.8500 - val_auc: 0.8356\n",
      "Epoch 79/200\n",
      "188/188 [==============================] - 0s 736us/step - loss: 0.3499 - Accuracy: 0.8567 - auc: 0.8527 - val_loss: 0.3637 - val_Accuracy: 0.8495 - val_auc: 0.8355\n",
      "Epoch 80/200\n",
      "188/188 [==============================] - 0s 718us/step - loss: 0.3484 - Accuracy: 0.8577 - auc: 0.8540 - val_loss: 0.3633 - val_Accuracy: 0.8525 - val_auc: 0.8359\n",
      "Epoch 81/200\n",
      "188/188 [==============================] - 0s 706us/step - loss: 0.3499 - Accuracy: 0.8570 - auc: 0.8526 - val_loss: 0.3636 - val_Accuracy: 0.8505 - val_auc: 0.8356\n",
      "Epoch 82/200\n",
      "188/188 [==============================] - 0s 716us/step - loss: 0.3512 - Accuracy: 0.8572 - auc: 0.8522 - val_loss: 0.3635 - val_Accuracy: 0.8515 - val_auc: 0.8357\n",
      "Epoch 83/200\n",
      "188/188 [==============================] - 0s 724us/step - loss: 0.3489 - Accuracy: 0.8575 - auc: 0.8543 - val_loss: 0.3635 - val_Accuracy: 0.8505 - val_auc: 0.8355\n",
      "Epoch 84/200\n",
      "188/188 [==============================] - 0s 708us/step - loss: 0.3493 - Accuracy: 0.8567 - auc: 0.8535 - val_loss: 0.3632 - val_Accuracy: 0.8510 - val_auc: 0.8355\n",
      "Epoch 85/200\n",
      "188/188 [==============================] - 0s 720us/step - loss: 0.3535 - Accuracy: 0.8588 - auc: 0.8488 - val_loss: 0.3630 - val_Accuracy: 0.8530 - val_auc: 0.8354\n",
      "Epoch 86/200\n",
      "188/188 [==============================] - 0s 713us/step - loss: 0.3455 - Accuracy: 0.8590 - auc: 0.8578 - val_loss: 0.3630 - val_Accuracy: 0.8505 - val_auc: 0.8358\n",
      "Epoch 87/200\n",
      "188/188 [==============================] - 0s 710us/step - loss: 0.3444 - Accuracy: 0.8602 - auc: 0.8567 - val_loss: 0.3632 - val_Accuracy: 0.8515 - val_auc: 0.8360\n",
      "Epoch 88/200\n",
      "188/188 [==============================] - 0s 723us/step - loss: 0.3492 - Accuracy: 0.8565 - auc: 0.8538 - val_loss: 0.3632 - val_Accuracy: 0.8520 - val_auc: 0.8360\n",
      "Epoch 89/200\n",
      "188/188 [==============================] - 0s 738us/step - loss: 0.3490 - Accuracy: 0.8588 - auc: 0.8544 - val_loss: 0.3629 - val_Accuracy: 0.8510 - val_auc: 0.8357\n",
      "Epoch 90/200\n",
      "188/188 [==============================] - 0s 710us/step - loss: 0.3485 - Accuracy: 0.8612 - auc: 0.8531 - val_loss: 0.3625 - val_Accuracy: 0.8520 - val_auc: 0.8360\n",
      "Epoch 91/200\n",
      "188/188 [==============================] - 0s 704us/step - loss: 0.3460 - Accuracy: 0.8587 - auc: 0.8564 - val_loss: 0.3623 - val_Accuracy: 0.8520 - val_auc: 0.8361\n",
      "Epoch 92/200\n",
      "188/188 [==============================] - 0s 704us/step - loss: 0.3514 - Accuracy: 0.8588 - auc: 0.8505 - val_loss: 0.3622 - val_Accuracy: 0.8525 - val_auc: 0.8361\n",
      "Epoch 93/200\n"
     ]
    },
    {
     "name": "stdout",
     "output_type": "stream",
     "text": [
      "188/188 [==============================] - 0s 709us/step - loss: 0.3485 - Accuracy: 0.8543 - auc: 0.8557 - val_loss: 0.3624 - val_Accuracy: 0.8535 - val_auc: 0.8364\n",
      "Epoch 94/200\n",
      "188/188 [==============================] - 0s 715us/step - loss: 0.3439 - Accuracy: 0.8610 - auc: 0.8599 - val_loss: 0.3622 - val_Accuracy: 0.8525 - val_auc: 0.8366\n",
      "Epoch 95/200\n",
      "188/188 [==============================] - 0s 699us/step - loss: 0.3453 - Accuracy: 0.8618 - auc: 0.8555 - val_loss: 0.3623 - val_Accuracy: 0.8525 - val_auc: 0.8364\n",
      "Epoch 96/200\n",
      "188/188 [==============================] - 0s 685us/step - loss: 0.3467 - Accuracy: 0.8565 - auc: 0.8558 - val_loss: 0.3621 - val_Accuracy: 0.8525 - val_auc: 0.8366\n",
      "Epoch 97/200\n",
      "188/188 [==============================] - 0s 677us/step - loss: 0.3472 - Accuracy: 0.8548 - auc: 0.8567 - val_loss: 0.3621 - val_Accuracy: 0.8525 - val_auc: 0.8366\n",
      "Epoch 98/200\n",
      "188/188 [==============================] - 0s 679us/step - loss: 0.3463 - Accuracy: 0.8577 - auc: 0.8565 - val_loss: 0.3620 - val_Accuracy: 0.8520 - val_auc: 0.8369\n",
      "Epoch 99/200\n",
      "188/188 [==============================] - 0s 717us/step - loss: 0.3444 - Accuracy: 0.8607 - auc: 0.8560 - val_loss: 0.3622 - val_Accuracy: 0.8515 - val_auc: 0.8369\n",
      "Epoch 100/200\n",
      "188/188 [==============================] - 0s 714us/step - loss: 0.3438 - Accuracy: 0.8570 - auc: 0.8591 - val_loss: 0.3622 - val_Accuracy: 0.8540 - val_auc: 0.8368\n",
      "Epoch 101/200\n",
      "188/188 [==============================] - 0s 706us/step - loss: 0.3425 - Accuracy: 0.8625 - auc: 0.8581 - val_loss: 0.3621 - val_Accuracy: 0.8525 - val_auc: 0.8368\n",
      "Epoch 102/200\n",
      "188/188 [==============================] - 0s 765us/step - loss: 0.3398 - Accuracy: 0.8607 - auc: 0.8622 - val_loss: 0.3620 - val_Accuracy: 0.8525 - val_auc: 0.8367\n",
      "Epoch 103/200\n",
      "188/188 [==============================] - 0s 785us/step - loss: 0.3459 - Accuracy: 0.8593 - auc: 0.8571 - val_loss: 0.3619 - val_Accuracy: 0.8520 - val_auc: 0.8365\n",
      "Epoch 104/200\n",
      "188/188 [==============================] - 0s 749us/step - loss: 0.3455 - Accuracy: 0.8592 - auc: 0.8563 - val_loss: 0.3618 - val_Accuracy: 0.8525 - val_auc: 0.8369\n",
      "Epoch 105/200\n",
      "188/188 [==============================] - 0s 765us/step - loss: 0.3455 - Accuracy: 0.8598 - auc: 0.8582 - val_loss: 0.3618 - val_Accuracy: 0.8525 - val_auc: 0.8371\n",
      "Epoch 106/200\n",
      "188/188 [==============================] - 0s 729us/step - loss: 0.3441 - Accuracy: 0.8578 - auc: 0.8581 - val_loss: 0.3617 - val_Accuracy: 0.8520 - val_auc: 0.8372\n",
      "Epoch 107/200\n",
      "188/188 [==============================] - 0s 696us/step - loss: 0.3493 - Accuracy: 0.8578 - auc: 0.8533 - val_loss: 0.3614 - val_Accuracy: 0.8535 - val_auc: 0.8375\n",
      "Epoch 108/200\n",
      "188/188 [==============================] - 0s 696us/step - loss: 0.3461 - Accuracy: 0.8590 - auc: 0.8570 - val_loss: 0.3614 - val_Accuracy: 0.8520 - val_auc: 0.8374\n",
      "Epoch 109/200\n",
      "188/188 [==============================] - 0s 692us/step - loss: 0.3422 - Accuracy: 0.8597 - auc: 0.8603 - val_loss: 0.3616 - val_Accuracy: 0.8530 - val_auc: 0.8370\n",
      "Epoch 110/200\n",
      "188/188 [==============================] - 0s 714us/step - loss: 0.3415 - Accuracy: 0.8660 - auc: 0.8610 - val_loss: 0.3615 - val_Accuracy: 0.8525 - val_auc: 0.8377\n",
      "Epoch 111/200\n",
      "188/188 [==============================] - 0s 721us/step - loss: 0.3441 - Accuracy: 0.8597 - auc: 0.8575 - val_loss: 0.3614 - val_Accuracy: 0.8530 - val_auc: 0.8373\n",
      "Epoch 112/200\n",
      "188/188 [==============================] - 0s 717us/step - loss: 0.3488 - Accuracy: 0.8595 - auc: 0.8546 - val_loss: 0.3612 - val_Accuracy: 0.8530 - val_auc: 0.8376\n",
      "Epoch 113/200\n",
      "188/188 [==============================] - 0s 723us/step - loss: 0.3412 - Accuracy: 0.8638 - auc: 0.8586 - val_loss: 0.3614 - val_Accuracy: 0.8535 - val_auc: 0.8377\n",
      "Epoch 114/200\n",
      "188/188 [==============================] - 0s 725us/step - loss: 0.3424 - Accuracy: 0.8635 - auc: 0.8585 - val_loss: 0.3614 - val_Accuracy: 0.8535 - val_auc: 0.8376\n",
      "Epoch 115/200\n",
      "188/188 [==============================] - 0s 718us/step - loss: 0.3427 - Accuracy: 0.8615 - auc: 0.8593 - val_loss: 0.3613 - val_Accuracy: 0.8535 - val_auc: 0.8377\n",
      "Epoch 116/200\n",
      "188/188 [==============================] - 0s 715us/step - loss: 0.3430 - Accuracy: 0.8603 - auc: 0.8596 - val_loss: 0.3613 - val_Accuracy: 0.8530 - val_auc: 0.8382\n",
      "Epoch 117/200\n",
      "188/188 [==============================] - 0s 738us/step - loss: 0.3455 - Accuracy: 0.8595 - auc: 0.8589 - val_loss: 0.3612 - val_Accuracy: 0.8545 - val_auc: 0.8382\n",
      "Epoch 118/200\n",
      "188/188 [==============================] - 0s 739us/step - loss: 0.3450 - Accuracy: 0.8597 - auc: 0.8571 - val_loss: 0.3613 - val_Accuracy: 0.8540 - val_auc: 0.8382\n",
      "Epoch 119/200\n",
      "188/188 [==============================] - 0s 715us/step - loss: 0.3464 - Accuracy: 0.8612 - auc: 0.8558 - val_loss: 0.3609 - val_Accuracy: 0.8545 - val_auc: 0.8378\n",
      "Epoch 120/200\n",
      "188/188 [==============================] - 0s 718us/step - loss: 0.3417 - Accuracy: 0.8592 - auc: 0.8609 - val_loss: 0.3611 - val_Accuracy: 0.8545 - val_auc: 0.8384\n",
      "Epoch 121/200\n",
      "188/188 [==============================] - 0s 707us/step - loss: 0.3425 - Accuracy: 0.8615 - auc: 0.8589 - val_loss: 0.3611 - val_Accuracy: 0.8545 - val_auc: 0.8382\n",
      "Epoch 122/200\n",
      "188/188 [==============================] - 0s 702us/step - loss: 0.3428 - Accuracy: 0.8625 - auc: 0.8590 - val_loss: 0.3608 - val_Accuracy: 0.8540 - val_auc: 0.8380\n",
      "Epoch 123/200\n",
      "188/188 [==============================] - 0s 696us/step - loss: 0.3396 - Accuracy: 0.8655 - auc: 0.8638 - val_loss: 0.3607 - val_Accuracy: 0.8520 - val_auc: 0.8379\n",
      "Epoch 124/200\n",
      "188/188 [==============================] - 0s 719us/step - loss: 0.3403 - Accuracy: 0.8650 - auc: 0.8626 - val_loss: 0.3610 - val_Accuracy: 0.8535 - val_auc: 0.8382\n",
      "Epoch 125/200\n",
      "188/188 [==============================] - 0s 724us/step - loss: 0.3430 - Accuracy: 0.8597 - auc: 0.8609 - val_loss: 0.3608 - val_Accuracy: 0.8530 - val_auc: 0.8383\n",
      "Epoch 126/200\n",
      "188/188 [==============================] - 0s 717us/step - loss: 0.3418 - Accuracy: 0.8632 - auc: 0.8593 - val_loss: 0.3607 - val_Accuracy: 0.8530 - val_auc: 0.8385\n",
      "Epoch 127/200\n",
      "188/188 [==============================] - 0s 705us/step - loss: 0.3395 - Accuracy: 0.8642 - auc: 0.8606 - val_loss: 0.3607 - val_Accuracy: 0.8515 - val_auc: 0.8384\n",
      "Epoch 128/200\n",
      "188/188 [==============================] - 0s 699us/step - loss: 0.3412 - Accuracy: 0.8622 - auc: 0.8614 - val_loss: 0.3608 - val_Accuracy: 0.8525 - val_auc: 0.8383\n",
      "Epoch 129/200\n",
      "188/188 [==============================] - 0s 698us/step - loss: 0.3381 - Accuracy: 0.8668 - auc: 0.8624 - val_loss: 0.3608 - val_Accuracy: 0.8535 - val_auc: 0.8385\n",
      "Epoch 130/200\n",
      "188/188 [==============================] - 0s 697us/step - loss: 0.3404 - Accuracy: 0.8625 - auc: 0.8603 - val_loss: 0.3609 - val_Accuracy: 0.8530 - val_auc: 0.8384\n",
      "Epoch 131/200\n",
      "188/188 [==============================] - 0s 702us/step - loss: 0.3436 - Accuracy: 0.8618 - auc: 0.8561 - val_loss: 0.3607 - val_Accuracy: 0.8505 - val_auc: 0.8387\n",
      "Epoch 132/200\n",
      "188/188 [==============================] - 0s 698us/step - loss: 0.3419 - Accuracy: 0.8618 - auc: 0.8607 - val_loss: 0.3606 - val_Accuracy: 0.8540 - val_auc: 0.8390\n",
      "Epoch 133/200\n",
      "188/188 [==============================] - 0s 704us/step - loss: 0.3405 - Accuracy: 0.8623 - auc: 0.8628 - val_loss: 0.3604 - val_Accuracy: 0.8520 - val_auc: 0.8389\n",
      "Epoch 134/200\n",
      "188/188 [==============================] - 0s 704us/step - loss: 0.3362 - Accuracy: 0.8642 - auc: 0.8651 - val_loss: 0.3607 - val_Accuracy: 0.8520 - val_auc: 0.8389\n",
      "Epoch 135/200\n",
      "188/188 [==============================] - 0s 701us/step - loss: 0.3380 - Accuracy: 0.8620 - auc: 0.8650 - val_loss: 0.3608 - val_Accuracy: 0.8525 - val_auc: 0.8386\n",
      "Epoch 136/200\n",
      "188/188 [==============================] - 0s 698us/step - loss: 0.3397 - Accuracy: 0.8632 - auc: 0.8632 - val_loss: 0.3608 - val_Accuracy: 0.8515 - val_auc: 0.8391\n",
      "Epoch 137/200\n",
      "188/188 [==============================] - 0s 699us/step - loss: 0.3397 - Accuracy: 0.8625 - auc: 0.8627 - val_loss: 0.3605 - val_Accuracy: 0.8515 - val_auc: 0.8389\n",
      "Epoch 138/200\n",
      "188/188 [==============================] - 0s 703us/step - loss: 0.3384 - Accuracy: 0.8623 - auc: 0.8630 - val_loss: 0.3603 - val_Accuracy: 0.8520 - val_auc: 0.8392\n"
     ]
    },
    {
     "name": "stdout",
     "output_type": "stream",
     "text": [
      "Epoch 139/200\n",
      "188/188 [==============================] - 0s 697us/step - loss: 0.3413 - Accuracy: 0.8645 - auc: 0.8603 - val_loss: 0.3603 - val_Accuracy: 0.8520 - val_auc: 0.8390\n",
      "Epoch 140/200\n",
      "188/188 [==============================] - 0s 679us/step - loss: 0.3388 - Accuracy: 0.8635 - auc: 0.8598 - val_loss: 0.3602 - val_Accuracy: 0.8530 - val_auc: 0.8392\n",
      "Epoch 141/200\n",
      "188/188 [==============================] - 0s 681us/step - loss: 0.3356 - Accuracy: 0.8635 - auc: 0.8653 - val_loss: 0.3601 - val_Accuracy: 0.8530 - val_auc: 0.8394\n",
      "Epoch 142/200\n",
      "188/188 [==============================] - 0s 681us/step - loss: 0.3391 - Accuracy: 0.8610 - auc: 0.8621 - val_loss: 0.3601 - val_Accuracy: 0.8515 - val_auc: 0.8388\n",
      "Epoch 143/200\n",
      "188/188 [==============================] - 0s 679us/step - loss: 0.3373 - Accuracy: 0.8608 - auc: 0.8657 - val_loss: 0.3600 - val_Accuracy: 0.8515 - val_auc: 0.8389\n",
      "Epoch 144/200\n",
      "188/188 [==============================] - 0s 675us/step - loss: 0.3406 - Accuracy: 0.8612 - auc: 0.8614 - val_loss: 0.3600 - val_Accuracy: 0.8515 - val_auc: 0.8391\n",
      "Epoch 145/200\n",
      "188/188 [==============================] - 0s 682us/step - loss: 0.3371 - Accuracy: 0.8628 - auc: 0.8642 - val_loss: 0.3600 - val_Accuracy: 0.8505 - val_auc: 0.8395\n",
      "Epoch 146/200\n",
      "188/188 [==============================] - 0s 679us/step - loss: 0.3395 - Accuracy: 0.8613 - auc: 0.8634 - val_loss: 0.3598 - val_Accuracy: 0.8515 - val_auc: 0.8394\n",
      "Epoch 147/200\n",
      "188/188 [==============================] - 0s 684us/step - loss: 0.3354 - Accuracy: 0.8628 - auc: 0.8653 - val_loss: 0.3596 - val_Accuracy: 0.8510 - val_auc: 0.8395\n",
      "Epoch 148/200\n",
      "188/188 [==============================] - 0s 690us/step - loss: 0.3418 - Accuracy: 0.8635 - auc: 0.8616 - val_loss: 0.3595 - val_Accuracy: 0.8515 - val_auc: 0.8395\n",
      "Epoch 149/200\n",
      "188/188 [==============================] - 0s 683us/step - loss: 0.3378 - Accuracy: 0.8597 - auc: 0.8643 - val_loss: 0.3595 - val_Accuracy: 0.8520 - val_auc: 0.8396\n",
      "Epoch 150/200\n",
      "188/188 [==============================] - 0s 689us/step - loss: 0.3383 - Accuracy: 0.8628 - auc: 0.8641 - val_loss: 0.3595 - val_Accuracy: 0.8505 - val_auc: 0.8396\n",
      "Epoch 151/200\n",
      "188/188 [==============================] - 0s 690us/step - loss: 0.3366 - Accuracy: 0.8638 - auc: 0.8663 - val_loss: 0.3597 - val_Accuracy: 0.8505 - val_auc: 0.8398\n",
      "Epoch 152/200\n",
      "188/188 [==============================] - 0s 686us/step - loss: 0.3365 - Accuracy: 0.8668 - auc: 0.8653 - val_loss: 0.3595 - val_Accuracy: 0.8515 - val_auc: 0.8397\n",
      "Epoch 153/200\n",
      "188/188 [==============================] - 0s 688us/step - loss: 0.3368 - Accuracy: 0.8605 - auc: 0.8650 - val_loss: 0.3598 - val_Accuracy: 0.8520 - val_auc: 0.8394\n",
      "Epoch 154/200\n",
      "188/188 [==============================] - 0s 693us/step - loss: 0.3322 - Accuracy: 0.8667 - auc: 0.8683 - val_loss: 0.3598 - val_Accuracy: 0.8500 - val_auc: 0.8395\n",
      "Epoch 155/200\n",
      "188/188 [==============================] - 0s 693us/step - loss: 0.3332 - Accuracy: 0.8647 - auc: 0.8672 - val_loss: 0.3598 - val_Accuracy: 0.8495 - val_auc: 0.8398\n",
      "Epoch 156/200\n",
      "188/188 [==============================] - 0s 692us/step - loss: 0.3372 - Accuracy: 0.8623 - auc: 0.8671 - val_loss: 0.3600 - val_Accuracy: 0.8515 - val_auc: 0.8393\n",
      "Epoch 157/200\n",
      "188/188 [==============================] - 0s 687us/step - loss: 0.3335 - Accuracy: 0.8643 - auc: 0.8692 - val_loss: 0.3600 - val_Accuracy: 0.8500 - val_auc: 0.8395\n",
      "Epoch 158/200\n",
      "188/188 [==============================] - 0s 691us/step - loss: 0.3415 - Accuracy: 0.8615 - auc: 0.8595 - val_loss: 0.3597 - val_Accuracy: 0.8510 - val_auc: 0.8395\n",
      "Epoch 159/200\n",
      "188/188 [==============================] - 0s 687us/step - loss: 0.3370 - Accuracy: 0.8618 - auc: 0.8666 - val_loss: 0.3598 - val_Accuracy: 0.8505 - val_auc: 0.8397\n"
     ]
    }
   ],
   "source": [
    "# Compile part\n",
    "mlp_model.compile(loss = \"binary_crossentropy\", # since we have a binary classification, binary_crossentropy is used.\n",
    "                  optimizer = keras.optimizers.Adam(learning_rate = 0.0001), # Adam optimizer is kind of gradient descent approach with some momentum\n",
    "                  metrics = [\"Accuracy\", \"AUC\"]) # metrics to be tracked\n",
    "\n",
    "# Early stopping Criterion \n",
    "early_stopping1 = keras.callbacks.EarlyStopping(monitor = \"val_loss\", patience = 10,\n",
    "                                              restore_best_weights = True, # restore is important. It will support the best ones instead of the last ones\n",
    "                                              mode = 'auto' )\n",
    "\n",
    "# Fit operation \n",
    "start = time.time() \n",
    "mlp_history = mlp_model.fit(Xlearn, ylearn,\n",
    "                            epochs = 200,\n",
    "                            batch_size = 32,\n",
    "                            callbacks = [early_stopping1],\n",
    "                            verbose = 1, \n",
    "                            validation_data = (Xval, yval))\n",
    "end = time.time()\n",
    "mlp_model_time_diff = round((end - start),2) # time difference to obtain the run time. (performance consideration) "
   ]
  },
  {
   "cell_type": "code",
   "execution_count": 30,
   "metadata": {},
   "outputs": [
    {
     "name": "stdout",
     "output_type": "stream",
     "text": [
      "MLP Model Time Difference: 21.56 seconds\n",
      "\n",
      "188/188 [==============================] - 0s 403us/step - loss: 0.3182 - Accuracy: 0.8703 - auc: 0.8813\n",
      "[0.31817418336868286, 0.8703333139419556, 0.8812782764434814]\n",
      "63/63 [==============================] - 0s 416us/step - loss: 0.3595 - Accuracy: 0.8520 - auc: 0.8396\n",
      "[0.35946929454803467, 0.8519999980926514, 0.8395636081695557]\n",
      "63/63 [==============================] - 0s 395us/step - loss: 0.3501 - Accuracy: 0.8555 - auc: 0.8404\n",
      "[0.35014715790748596, 0.8554999828338623, 0.840394139289856]\n",
      "63/63 [==============================] - 0s 311us/step\n"
     ]
    }
   ],
   "source": [
    "# Evaluation part\n",
    "print(f'MLP Model Time Difference: {mlp_model_time_diff} seconds\\n')\n",
    "print(mlp_model.evaluate(Xlearn, ylearn))\n",
    "print(mlp_model.evaluate(Xval, yval))\n",
    "print(mlp_model.evaluate(XtestP, ytest))\n",
    "y_pred = mlp_model.predict(XtestP).ravel()"
   ]
  },
  {
   "cell_type": "code",
   "execution_count": 31,
   "metadata": {
    "scrolled": false
   },
   "outputs": [
    {
     "data": {
      "image/png": "[encoded data removed]",
      "text/plain": [
       "<Figure size 1200x800 with 1 Axes>"
      ]
     },
     "metadata": {},
     "output_type": "display_data"
    },
    {
     "data": {
      "image/png": "[encoded data removed]",
      "text/plain": [
       "<Figure size 1200x800 with 1 Axes>"
      ]
     },
     "metadata": {},
     "output_type": "display_data"
    },
    {
     "data": {
      "image/png": "[encoded data removed]",
      "text/plain": [
       "<Figure size 1200x800 with 1 Axes>"
      ]
     },
     "metadata": {},
     "output_type": "display_data"
    },
    {
     "data": {
      "application/vnd.plotly.v1+json": {
       "config": {
        "plotlyServerURL": "https://plot.ly"
       },
       "data": [
        {
         "fillpattern": {
          "shape": ""
         },
         "hovertemplate": "False Positive Rate=%{x}<br>True Positive Rate=%{y}<extra></extra>",
         "legendgroup": "",
         "line": {
          "color": "#636efa"
         },
         "marker": {
          "symbol": "circle"
         },
         "mode": "lines",
         "name": "",
         "orientation": "v",
         "showlegend": false,
         "stackgroup": "1",
         "type": "scatter",
         "x": [
          0,
          0,
          0,
          0.0006211180124223603,
          0.0006211180124223603,
          0.0012422360248447205,
          0.0012422360248447205,
          0.0018633540372670807,
          0.0018633540372670807,
          0.002484472049689441,
          0.002484472049689441,
          0.003105590062111801,
          0.003105590062111801,
          0.0037267080745341614,
          0.0037267080745341614,
          0.004347826086956522,
          0.004347826086956522,
          0.004968944099378882,
          0.004968944099378882,
          0.006211180124223602,
          0.006211180124223602,
          0.0068322981366459624,
          0.0068322981366459624,
          0.007453416149068323,
          0.007453416149068323,
          0.008074534161490683,
          0.008074534161490683,
          0.008695652173913044,
          0.008695652173913044,
          0.009937888198757764,
          0.009937888198757764,
          0.010559006211180125,
          0.010559006211180125,
          0.011180124223602485,
          0.011180124223602485,
          0.012422360248447204,
          0.012422360248447204,
          0.013043478260869565,
          0.013043478260869565,
          0.013664596273291925,
          0.013664596273291925,
          0.014906832298136646,
          0.014906832298136646,
          0.016770186335403725,
          0.016770186335403725,
          0.017391304347826087,
          0.017391304347826087,
          0.019254658385093167,
          0.019254658385093167,
          0.02111801242236025,
          0.02111801242236025,
          0.021739130434782608,
          0.021739130434782608,
          0.02236024844720497,
          0.02236024844720497,
          0.02298136645962733,
          0.02298136645962733,
          0.02360248447204969,
          0.02360248447204969,
          0.02608695652173913,
          0.02608695652173913,
          0.02670807453416149,
          0.02670807453416149,
          0.02732919254658385,
          0.02732919254658385,
          0.027950310559006212,
          0.027950310559006212,
          0.02857142857142857,
          0.02857142857142857,
          0.03229813664596273,
          0.03229813664596273,
          0.03354037267080745,
          0.03354037267080745,
          0.034782608695652174,
          0.034782608695652174,
          0.03602484472049689,
          0.03602484472049689,
          0.037267080745341616,
          0.037267080745341616,
          0.03850931677018633,
          0.03850931677018633,
          0.03975155279503106,
          0.03975155279503106,
          0.040993788819875775,
          0.040993788819875775,
          0.04161490683229813,
          0.04161490683229813,
          0.04285714285714286,
          0.04285714285714286,
          0.04596273291925466,
          0.04596273291925466,
          0.04782608695652174,
          0.04782608695652174,
          0.05093167701863354,
          0.05093167701863354,
          0.0515527950310559,
          0.0515527950310559,
          0.052795031055900624,
          0.052795031055900624,
          0.05341614906832298,
          0.05341614906832298,
          0.05403726708074534,
          0.05403726708074534,
          0.055279503105590065,
          0.055279503105590065,
          0.055900621118012424,
          0.055900621118012424,
          0.05652173913043478,
          0.05652173913043478,
          0.05714285714285714,
          0.05714285714285714,
          0.0577639751552795,
          0.0577639751552795,
          0.05962732919254658,
          0.05962732919254658,
          0.061490683229813665,
          0.061490683229813665,
          0.06273291925465839,
          0.06273291925465839,
          0.06459627329192547,
          0.06459627329192547,
          0.06645962732919254,
          0.06645962732919254,
          0.06770186335403727,
          0.06770186335403727,
          0.07080745341614907,
          0.07080745341614907,
          0.07391304347826087,
          0.07391304347826087,
          0.07639751552795031,
          0.07639751552795031,
          0.07701863354037267,
          0.07701863354037267,
          0.07763975155279502,
          0.07763975155279502,
          0.08012422360248447,
          0.08012422360248447,
          0.08260869565217391,
          0.08260869565217391,
          0.08385093167701864,
          0.08385093167701864,
          0.084472049689441,
          0.084472049689441,
          0.08881987577639752,
          0.08881987577639752,
          0.09130434782608696,
          0.09130434782608696,
          0.09565217391304348,
          0.09565217391304348,
          0.09813664596273292,
          0.09813664596273292,
          0.10062111801242236,
          0.10062111801242236,
          0.10248447204968944,
          0.10248447204968944,
          0.10496894409937889,
          0.10496894409937889,
          0.10993788819875776,
          0.10993788819875776,
          0.11055900621118013,
          0.11055900621118013,
          0.11118012422360249,
          0.11118012422360249,
          0.11366459627329192,
          0.11366459627329192,
          0.11739130434782609,
          0.11739130434782609,
          0.1186335403726708,
          0.1186335403726708,
          0.11987577639751552,
          0.11987577639751552,
          0.12049689440993788,
          0.12049689440993788,
          0.1248447204968944,
          0.1248447204968944,
          0.12608695652173912,
          0.12608695652173912,
          0.13354037267080746,
          0.13354037267080746,
          0.13478260869565217,
          0.13478260869565217,
          0.14037267080745341,
          0.14037267080745341,
          0.1409937888198758,
          0.1409937888198758,
          0.1422360248447205,
          0.1422360248447205,
          0.14409937888198757,
          0.14409937888198757,
          0.14720496894409937,
          0.14720496894409937,
          0.1484472049689441,
          0.1484472049689441,
          0.14906832298136646,
          0.14906832298136646,
          0.15093167701863355,
          0.15093167701863355,
          0.15279503105590062,
          0.15279503105590062,
          0.15403726708074533,
          0.15403726708074533,
          0.1546583850931677,
          0.1546583850931677,
          0.15714285714285714,
          0.15714285714285714,
          0.15962732919254657,
          0.15962732919254657,
          0.16024844720496895,
          0.16024844720496895,
          0.16211180124223604,
          0.16211180124223604,
          0.1639751552795031,
          0.1639751552795031,
          0.168944099378882,
          0.168944099378882,
          0.1701863354037267,
          0.1701863354037267,
          0.1763975155279503,
          0.1763975155279503,
          0.17701863354037267,
          0.17701863354037267,
          0.17763975155279504,
          0.17763975155279504,
          0.18322981366459629,
          0.18322981366459629,
          0.18944099378881987,
          0.18944099378881987,
          0.19130434782608696,
          0.19130434782608696,
          0.19937888198757764,
          0.19937888198757764,
          0.20683229813664597,
          0.20683229813664597,
          0.20745341614906831,
          0.20745341614906831,
          0.21304347826086956,
          0.21304347826086956,
          0.21614906832298136,
          0.21614906832298136,
          0.2267080745341615,
          0.2267080745341615,
          0.22981366459627328,
          0.22981366459627328,
          0.2329192546583851,
          0.2329192546583851,
          0.23354037267080746,
          0.23354037267080746,
          0.23478260869565218,
          0.23478260869565218,
          0.23540372670807452,
          0.23540372670807452,
          0.23850931677018633,
          0.23850931677018633,
          0.23975155279503105,
          0.23975155279503105,
          0.24472049689440994,
          0.24472049689440994,
          0.2453416149068323,
          0.2453416149068323,
          0.246583850931677,
          0.246583850931677,
          0.24782608695652175,
          0.24782608695652175,
          0.25527950310559006,
          0.25527950310559006,
          0.25900621118012424,
          0.25900621118012424,
          0.26583850931677017,
          0.26583850931677017,
          0.26956521739130435,
          0.26956521739130435,
          0.2714285714285714,
          0.2714285714285714,
          0.27701863354037265,
          0.27701863354037265,
          0.2795031055900621,
          0.2795031055900621,
          0.2826086956521739,
          0.2826086956521739,
          0.28695652173913044,
          0.28695652173913044,
          0.29440993788819875,
          0.29440993788819875,
          0.30496894409937886,
          0.30496894409937886,
          0.30745341614906835,
          0.30745341614906835,
          0.3093167701863354,
          0.3093167701863354,
          0.315527950310559,
          0.315527950310559,
          0.31614906832298134,
          0.31614906832298134,
          0.31925465838509315,
          0.31925465838509315,
          0.3198757763975155,
          0.3198757763975155,
          0.3248447204968944,
          0.3248447204968944,
          0.3316770186335404,
          0.3316770186335404,
          0.3341614906832298,
          0.3341614906832298,
          0.3416149068322981,
          0.3416149068322981,
          0.3422360248447205,
          0.3422360248447205,
          0.34968944099378885,
          0.34968944099378885,
          0.35714285714285715,
          0.35714285714285715,
          0.3596273291925466,
          0.3596273291925466,
          0.36024844720496896,
          0.36024844720496896,
          0.37267080745341613,
          0.37267080745341613,
          0.3770186335403727,
          0.3770186335403727,
          0.3782608695652174,
          0.3782608695652174,
          0.38509316770186336,
          0.38509316770186336,
          0.39006211180124223,
          0.39006211180124223,
          0.3968944099378882,
          0.3968944099378882,
          0.40248447204968946,
          0.40248447204968946,
          0.4111801242236025,
          0.4111801242236025,
          0.41801242236024844,
          0.41801242236024844,
          0.41987577639751555,
          0.41987577639751555,
          0.4248447204968944,
          0.4248447204968944,
          0.4267080745341615,
          0.4267080745341615,
          0.43167701863354035,
          0.43167701863354035,
          0.4422360248447205,
          0.4422360248447205,
          0.4440993788819876,
          0.4440993788819876,
          0.4484472049689441,
          0.4484472049689441,
          0.4515527950310559,
          0.4515527950310559,
          0.4614906832298137,
          0.4614906832298137,
          0.4714285714285714,
          0.4714285714285714,
          0.4745341614906832,
          0.4745341614906832,
          0.48509316770186334,
          0.48509316770186334,
          0.4863354037267081,
          0.4863354037267081,
          0.4888198757763975,
          0.4888198757763975,
          0.49813664596273294,
          0.49813664596273294,
          0.5161490683229814,
          0.5161490683229814,
          0.5267080745341615,
          0.5267080745341615,
          0.5298136645962733,
          0.5298136645962733,
          0.5304347826086957,
          0.5304347826086957,
          0.5503105590062112,
          0.5503105590062112,
          0.5565217391304348,
          0.5565217391304348,
          0.5645962732919255,
          0.5645962732919255,
          0.568944099378882,
          0.568944099378882,
          0.5695652173913044,
          0.5695652173913044,
          0.575776397515528,
          0.575776397515528,
          0.5869565217391305,
          0.5869565217391305,
          0.6086956521739131,
          0.6086956521739131,
          0.6124223602484472,
          0.6124223602484472,
          0.6192546583850932,
          0.6192546583850932,
          0.6503105590062112,
          0.6503105590062112,
          0.6527950310559006,
          0.6527950310559006,
          0.668944099378882,
          0.668944099378882,
          0.6900621118012422,
          0.6900621118012422,
          0.7111801242236024,
          0.7111801242236024,
          0.7124223602484472,
          0.7124223602484472,
          0.7304347826086957,
          0.7304347826086957,
          0.739751552795031,
          0.739751552795031,
          0.7546583850931677,
          0.7546583850931677,
          0.7670807453416149,
          0.7670807453416149,
          0.7739130434782608,
          0.7739130434782608,
          0.7850931677018633,
          0.7850931677018633,
          0.7950310559006211,
          0.7950310559006211,
          0.8043478260869565,
          0.8043478260869565,
          0.824223602484472,
          0.824223602484472,
          0.831055900621118,
          0.831055900621118,
          0.8434782608695652,
          0.8434782608695652,
          0.9316770186335404,
          0.9316770186335404,
          1
         ],
         "xaxis": "x",
         "y": [
          0,
          0.002564102564102564,
          0.08974358974358974,
          0.08974358974358974,
          0.11538461538461539,
          0.11538461538461539,
          0.11794871794871795,
          0.11794871794871795,
          0.15897435897435896,
          0.15897435897435896,
          0.16153846153846155,
          0.16153846153846155,
          0.19487179487179487,
          0.19487179487179487,
          0.19743589743589743,
          0.19743589743589743,
          0.20256410256410257,
          0.20256410256410257,
          0.2076923076923077,
          0.2076923076923077,
          0.2205128205128205,
          0.2205128205128205,
          0.25384615384615383,
          0.25384615384615383,
          0.2692307692307692,
          0.2692307692307692,
          0.2743589743589744,
          0.2743589743589744,
          0.27692307692307694,
          0.27692307692307694,
          0.2948717948717949,
          0.2948717948717949,
          0.3,
          0.3,
          0.3076923076923077,
          0.3076923076923077,
          0.3128205128205128,
          0.3128205128205128,
          0.3153846153846154,
          0.3153846153846154,
          0.31794871794871793,
          0.31794871794871793,
          0.32051282051282054,
          0.32051282051282054,
          0.3230769230769231,
          0.3230769230769231,
          0.32564102564102565,
          0.32564102564102565,
          0.3282051282051282,
          0.3282051282051282,
          0.3333333333333333,
          0.3333333333333333,
          0.3384615384615385,
          0.3384615384615385,
          0.3487179487179487,
          0.3487179487179487,
          0.35128205128205126,
          0.35128205128205126,
          0.358974358974359,
          0.358974358974359,
          0.36153846153846153,
          0.36153846153846153,
          0.3641025641025641,
          0.3641025641025641,
          0.3717948717948718,
          0.3717948717948718,
          0.3769230769230769,
          0.3769230769230769,
          0.38461538461538464,
          0.38461538461538464,
          0.3974358974358974,
          0.3974358974358974,
          0.4,
          0.4,
          0.40512820512820513,
          0.40512820512820513,
          0.4076923076923077,
          0.4076923076923077,
          0.41025641025641024,
          0.41025641025641024,
          0.4205128205128205,
          0.4205128205128205,
          0.4230769230769231,
          0.4230769230769231,
          0.4282051282051282,
          0.4282051282051282,
          0.4307692307692308,
          0.4307692307692308,
          0.43846153846153846,
          0.43846153846153846,
          0.441025641025641,
          0.441025641025641,
          0.44358974358974357,
          0.44358974358974357,
          0.44871794871794873,
          0.44871794871794873,
          0.4512820512820513,
          0.4512820512820513,
          0.4564102564102564,
          0.4564102564102564,
          0.45897435897435895,
          0.45897435897435895,
          0.46153846153846156,
          0.46153846153846156,
          0.47435897435897434,
          0.47435897435897434,
          0.4794871794871795,
          0.4794871794871795,
          0.48717948717948717,
          0.48717948717948717,
          0.4897435897435897,
          0.4897435897435897,
          0.49230769230769234,
          0.49230769230769234,
          0.4948717948717949,
          0.4948717948717949,
          0.5,
          0.5,
          0.5025641025641026,
          0.5025641025641026,
          0.5076923076923077,
          0.5076923076923077,
          0.5153846153846153,
          0.5153846153846153,
          0.5230769230769231,
          0.5230769230769231,
          0.5282051282051282,
          0.5282051282051282,
          0.5333333333333333,
          0.5333333333333333,
          0.5384615384615384,
          0.5384615384615384,
          0.541025641025641,
          0.541025641025641,
          0.5435897435897435,
          0.5435897435897435,
          0.5461538461538461,
          0.5461538461538461,
          0.5487179487179488,
          0.5487179487179488,
          0.5512820512820513,
          0.5512820512820513,
          0.5538461538461539,
          0.5538461538461539,
          0.5564102564102564,
          0.5564102564102564,
          0.558974358974359,
          0.558974358974359,
          0.5666666666666667,
          0.5666666666666667,
          0.5692307692307692,
          0.5692307692307692,
          0.5717948717948718,
          0.5717948717948718,
          0.5743589743589743,
          0.5743589743589743,
          0.5794871794871795,
          0.5794871794871795,
          0.5846153846153846,
          0.5846153846153846,
          0.5871794871794872,
          0.5871794871794872,
          0.5897435897435898,
          0.5897435897435898,
          0.5948717948717949,
          0.5948717948717949,
          0.5974358974358974,
          0.5974358974358974,
          0.6,
          0.6,
          0.6025641025641025,
          0.6025641025641025,
          0.6051282051282051,
          0.6051282051282051,
          0.6076923076923076,
          0.6076923076923076,
          0.6102564102564103,
          0.6102564102564103,
          0.6128205128205129,
          0.6128205128205129,
          0.6153846153846154,
          0.6153846153846154,
          0.617948717948718,
          0.617948717948718,
          0.6205128205128205,
          0.6205128205128205,
          0.6256410256410256,
          0.6256410256410256,
          0.6282051282051282,
          0.6282051282051282,
          0.6307692307692307,
          0.6307692307692307,
          0.6333333333333333,
          0.6333333333333333,
          0.6358974358974359,
          0.6358974358974359,
          0.6384615384615384,
          0.6384615384615384,
          0.6435897435897436,
          0.6435897435897436,
          0.6461538461538462,
          0.6461538461538462,
          0.6487179487179487,
          0.6487179487179487,
          0.6512820512820513,
          0.6512820512820513,
          0.6564102564102564,
          0.6564102564102564,
          0.658974358974359,
          0.658974358974359,
          0.6641025641025641,
          0.6641025641025641,
          0.6717948717948717,
          0.6717948717948717,
          0.6743589743589744,
          0.6743589743589744,
          0.6794871794871795,
          0.6794871794871795,
          0.6820512820512821,
          0.6820512820512821,
          0.6871794871794872,
          0.6871794871794872,
          0.6897435897435897,
          0.6897435897435897,
          0.6948717948717948,
          0.6948717948717948,
          0.6974358974358974,
          0.6974358974358974,
          0.7,
          0.7,
          0.7025641025641025,
          0.7025641025641025,
          0.7076923076923077,
          0.7076923076923077,
          0.7102564102564103,
          0.7102564102564103,
          0.7128205128205128,
          0.7128205128205128,
          0.7153846153846154,
          0.7153846153846154,
          0.717948717948718,
          0.717948717948718,
          0.7205128205128205,
          0.7205128205128205,
          0.7230769230769231,
          0.7230769230769231,
          0.7282051282051282,
          0.7282051282051282,
          0.7307692307692307,
          0.7307692307692307,
          0.7333333333333333,
          0.7333333333333333,
          0.735897435897436,
          0.735897435897436,
          0.7410256410256411,
          0.7410256410256411,
          0.7435897435897436,
          0.7435897435897436,
          0.7538461538461538,
          0.7538461538461538,
          0.7564102564102564,
          0.7564102564102564,
          0.7615384615384615,
          0.7615384615384615,
          0.764102564102564,
          0.764102564102564,
          0.7666666666666667,
          0.7666666666666667,
          0.7692307692307693,
          0.7692307692307693,
          0.7743589743589744,
          0.7743589743589744,
          0.7769230769230769,
          0.7769230769230769,
          0.7794871794871795,
          0.7794871794871795,
          0.7846153846153846,
          0.7846153846153846,
          0.7871794871794872,
          0.7871794871794872,
          0.7897435897435897,
          0.7897435897435897,
          0.7923076923076923,
          0.7923076923076923,
          0.8,
          0.8,
          0.8025641025641026,
          0.8025641025641026,
          0.8076923076923077,
          0.8076923076923077,
          0.8102564102564103,
          0.8102564102564103,
          0.8128205128205128,
          0.8128205128205128,
          0.8153846153846154,
          0.8153846153846154,
          0.8179487179487179,
          0.8179487179487179,
          0.8205128205128205,
          0.8205128205128205,
          0.8256410256410256,
          0.8256410256410256,
          0.8282051282051283,
          0.8282051282051283,
          0.8307692307692308,
          0.8307692307692308,
          0.8333333333333334,
          0.8333333333333334,
          0.8384615384615385,
          0.8384615384615385,
          0.841025641025641,
          0.841025641025641,
          0.8435897435897436,
          0.8435897435897436,
          0.8461538461538461,
          0.8461538461538461,
          0.8487179487179487,
          0.8487179487179487,
          0.8512820512820513,
          0.8512820512820513,
          0.8538461538461538,
          0.8538461538461538,
          0.8564102564102564,
          0.8564102564102564,
          0.8615384615384616,
          0.8615384615384616,
          0.8641025641025641,
          0.8641025641025641,
          0.8666666666666667,
          0.8666666666666667,
          0.8692307692307693,
          0.8692307692307693,
          0.8717948717948718,
          0.8717948717948718,
          0.8743589743589744,
          0.8743589743589744,
          0.8769230769230769,
          0.8769230769230769,
          0.8794871794871795,
          0.8794871794871795,
          0.882051282051282,
          0.882051282051282,
          0.8846153846153846,
          0.8846153846153846,
          0.8871794871794871,
          0.8871794871794871,
          0.8897435897435897,
          0.8897435897435897,
          0.8923076923076924,
          0.8923076923076924,
          0.8974358974358975,
          0.8974358974358975,
          0.9025641025641026,
          0.9025641025641026,
          0.9051282051282051,
          0.9051282051282051,
          0.9076923076923077,
          0.9076923076923077,
          0.9102564102564102,
          0.9102564102564102,
          0.9128205128205128,
          0.9128205128205128,
          0.9153846153846154,
          0.9153846153846154,
          0.9179487179487179,
          0.9179487179487179,
          0.9205128205128205,
          0.9205128205128205,
          0.9230769230769231,
          0.9230769230769231,
          0.9282051282051282,
          0.9282051282051282,
          0.9307692307692308,
          0.9307692307692308,
          0.9333333333333333,
          0.9333333333333333,
          0.9358974358974359,
          0.9358974358974359,
          0.9384615384615385,
          0.9384615384615385,
          0.941025641025641,
          0.941025641025641,
          0.9435897435897436,
          0.9435897435897436,
          0.9461538461538461,
          0.9461538461538461,
          0.9487179487179487,
          0.9487179487179487,
          0.9512820512820512,
          0.9512820512820512,
          0.9538461538461539,
          0.9538461538461539,
          0.9564102564102565,
          0.9564102564102565,
          0.958974358974359,
          0.958974358974359,
          0.9615384615384616,
          0.9615384615384616,
          0.9641025641025641,
          0.9641025641025641,
          0.9666666666666667,
          0.9666666666666667,
          0.9692307692307692,
          0.9692307692307692,
          0.9717948717948718,
          0.9717948717948718,
          0.9743589743589743,
          0.9743589743589743,
          0.9769230769230769,
          0.9769230769230769,
          0.9794871794871794,
          0.9794871794871794,
          0.982051282051282,
          0.982051282051282,
          0.9846153846153847,
          0.9846153846153847,
          0.9871794871794872,
          0.9871794871794872,
          0.9897435897435898,
          0.9897435897435898,
          0.9923076923076923,
          0.9923076923076923,
          0.9948717948717949,
          0.9948717948717949,
          0.9974358974358974,
          0.9974358974358974,
          1,
          1
         ],
         "yaxis": "y"
        }
       ],
       "layout": {
        "height": 500,
        "legend": {
         "tracegroupgap": 0
        },
        "shapes": [
         {
          "line": {
           "dash": "dash"
          },
          "type": "line",
          "x0": 0,
          "x1": 1,
          "y0": 0,
          "y1": 1
         }
        ],
        "template": {
         "data": {
          "bar": [
           {
            "error_x": {
             "color": "#2a3f5f"
            },
            "error_y": {
             "color": "#2a3f5f"
            },
            "marker": {
             "line": {
              "color": "#E5ECF6",
              "width": 0.5
             },
             "pattern": {
              "fillmode": "overlay",
              "size": 10,
              "solidity": 0.2
             }
            },
            "type": "bar"
           }
          ],
          "barpolar": [
           {
            "marker": {
             "line": {
              "color": "#E5ECF6",
              "width": 0.5
             },
             "pattern": {
              "fillmode": "overlay",
              "size": 10,
              "solidity": 0.2
             }
            },
            "type": "barpolar"
           }
          ],
          "carpet": [
           {
            "aaxis": {
             "endlinecolor": "#2a3f5f",
             "gridcolor": "white",
             "linecolor": "white",
             "minorgridcolor": "white",
             "startlinecolor": "#2a3f5f"
            },
            "baxis": {
             "endlinecolor": "#2a3f5f",
             "gridcolor": "white",
             "linecolor": "white",
             "minorgridcolor": "white",
             "startlinecolor": "#2a3f5f"
            },
            "type": "carpet"
           }
          ],
          "choropleth": [
           {
            "colorbar": {
             "outlinewidth": 0,
             "ticks": ""
            },
            "type": "choropleth"
           }
          ],
          "contour": [
           {
            "colorbar": {
             "outlinewidth": 0,
             "ticks": ""
            },
            "colorscale": [
             [
              0,
              "#0d0887"
             ],
             [
              0.1111111111111111,
              "#46039f"
             ],
             [
              0.2222222222222222,
              "#7201a8"
             ],
             [
              0.3333333333333333,
              "#9c179e"
             ],
             [
              0.4444444444444444,
              "#bd3786"
             ],
             [
              0.5555555555555556,
              "#d8576b"
             ],
             [
              0.6666666666666666,
              "#ed7953"
             ],
             [
              0.7777777777777778,
              "#fb9f3a"
             ],
             [
              0.8888888888888888,
              "#fdca26"
             ],
             [
              1,
              "#f0f921"
             ]
            ],
            "type": "contour"
           }
          ],
          "contourcarpet": [
           {
            "colorbar": {
             "outlinewidth": 0,
             "ticks": ""
            },
            "type": "contourcarpet"
           }
          ],
          "heatmap": [
           {
            "colorbar": {
             "outlinewidth": 0,
             "ticks": ""
            },
            "colorscale": [
             [
              0,
              "#0d0887"
             ],
             [
              0.1111111111111111,
              "#46039f"
             ],
             [
              0.2222222222222222,
              "#7201a8"
             ],
             [
              0.3333333333333333,
              "#9c179e"
             ],
             [
              0.4444444444444444,
              "#bd3786"
             ],
             [
              0.5555555555555556,
              "#d8576b"
             ],
             [
              0.6666666666666666,
              "#ed7953"
             ],
             [
              0.7777777777777778,
              "#fb9f3a"
             ],
             [
              0.8888888888888888,
              "#fdca26"
             ],
             [
              1,
              "#f0f921"
             ]
            ],
            "type": "heatmap"
           }
          ],
          "heatmapgl": [
           {
            "colorbar": {
             "outlinewidth": 0,
             "ticks": ""
            },
            "colorscale": [
             [
              0,
              "#0d0887"
             ],
             [
              0.1111111111111111,
              "#46039f"
             ],
             [
              0.2222222222222222,
              "#7201a8"
             ],
             [
              0.3333333333333333,
              "#9c179e"
             ],
             [
              0.4444444444444444,
              "#bd3786"
             ],
             [
              0.5555555555555556,
              "#d8576b"
             ],
             [
              0.6666666666666666,
              "#ed7953"
             ],
             [
              0.7777777777777778,
              "#fb9f3a"
             ],
             [
              0.8888888888888888,
              "#fdca26"
             ],
             [
              1,
              "#f0f921"
             ]
            ],
            "type": "heatmapgl"
           }
          ],
          "histogram": [
           {
            "marker": {
             "pattern": {
              "fillmode": "overlay",
              "size": 10,
              "solidity": 0.2
             }
            },
            "type": "histogram"
           }
          ],
          "histogram2d": [
           {
            "colorbar": {
             "outlinewidth": 0,
             "ticks": ""
            },
            "colorscale": [
             [
              0,
              "#0d0887"
             ],
             [
              0.1111111111111111,
              "#46039f"
             ],
             [
              0.2222222222222222,
              "#7201a8"
             ],
             [
              0.3333333333333333,
              "#9c179e"
             ],
             [
              0.4444444444444444,
              "#bd3786"
             ],
             [
              0.5555555555555556,
              "#d8576b"
             ],
             [
              0.6666666666666666,
              "#ed7953"
             ],
             [
              0.7777777777777778,
              "#fb9f3a"
             ],
             [
              0.8888888888888888,
              "#fdca26"
             ],
             [
              1,
              "#f0f921"
             ]
            ],
            "type": "histogram2d"
           }
          ],
          "histogram2dcontour": [
           {
            "colorbar": {
             "outlinewidth": 0,
             "ticks": ""
            },
            "colorscale": [
             [
              0,
              "#0d0887"
             ],
             [
              0.1111111111111111,
              "#46039f"
             ],
             [
              0.2222222222222222,
              "#7201a8"
             ],
             [
              0.3333333333333333,
              "#9c179e"
             ],
             [
              0.4444444444444444,
              "#bd3786"
             ],
             [
              0.5555555555555556,
              "#d8576b"
             ],
             [
              0.6666666666666666,
              "#ed7953"
             ],
             [
              0.7777777777777778,
              "#fb9f3a"
             ],
             [
              0.8888888888888888,
              "#fdca26"
             ],
             [
              1,
              "#f0f921"
             ]
            ],
            "type": "histogram2dcontour"
           }
          ],
          "mesh3d": [
           {
            "colorbar": {
             "outlinewidth": 0,
             "ticks": ""
            },
            "type": "mesh3d"
           }
          ],
          "parcoords": [
           {
            "line": {
             "colorbar": {
              "outlinewidth": 0,
              "ticks": ""
             }
            },
            "type": "parcoords"
           }
          ],
          "pie": [
           {
            "automargin": true,
            "type": "pie"
           }
          ],
          "scatter": [
           {
            "fillpattern": {
             "fillmode": "overlay",
             "size": 10,
             "solidity": 0.2
            },
            "type": "scatter"
           }
          ],
          "scatter3d": [
           {
            "line": {
             "colorbar": {
              "outlinewidth": 0,
              "ticks": ""
             }
            },
            "marker": {
             "colorbar": {
              "outlinewidth": 0,
              "ticks": ""
             }
            },
            "type": "scatter3d"
           }
          ],
          "scattercarpet": [
           {
            "marker": {
             "colorbar": {
              "outlinewidth": 0,
              "ticks": ""
             }
            },
            "type": "scattercarpet"
           }
          ],
          "scattergeo": [
           {
            "marker": {
             "colorbar": {
              "outlinewidth": 0,
              "ticks": ""
             }
            },
            "type": "scattergeo"
           }
          ],
          "scattergl": [
           {
            "marker": {
             "colorbar": {
              "outlinewidth": 0,
              "ticks": ""
             }
            },
            "type": "scattergl"
           }
          ],
          "scattermapbox": [
           {
            "marker": {
             "colorbar": {
              "outlinewidth": 0,
              "ticks": ""
             }
            },
            "type": "scattermapbox"
           }
          ],
          "scatterpolar": [
           {
            "marker": {
             "colorbar": {
              "outlinewidth": 0,
              "ticks": ""
             }
            },
            "type": "scatterpolar"
           }
          ],
          "scatterpolargl": [
           {
            "marker": {
             "colorbar": {
              "outlinewidth": 0,
              "ticks": ""
             }
            },
            "type": "scatterpolargl"
           }
          ],
          "scatterternary": [
           {
            "marker": {
             "colorbar": {
              "outlinewidth": 0,
              "ticks": ""
             }
            },
            "type": "scatterternary"
           }
          ],
          "surface": [
           {
            "colorbar": {
             "outlinewidth": 0,
             "ticks": ""
            },
            "colorscale": [
             [
              0,
              "#0d0887"
             ],
             [
              0.1111111111111111,
              "#46039f"
             ],
             [
              0.2222222222222222,
              "#7201a8"
             ],
             [
              0.3333333333333333,
              "#9c179e"
             ],
             [
              0.4444444444444444,
              "#bd3786"
             ],
             [
              0.5555555555555556,
              "#d8576b"
             ],
             [
              0.6666666666666666,
              "#ed7953"
             ],
             [
              0.7777777777777778,
              "#fb9f3a"
             ],
             [
              0.8888888888888888,
              "#fdca26"
             ],
             [
              1,
              "#f0f921"
             ]
            ],
            "type": "surface"
           }
          ],
          "table": [
           {
            "cells": {
             "fill": {
              "color": "#EBF0F8"
             },
             "line": {
              "color": "white"
             }
            },
            "header": {
             "fill": {
              "color": "#C8D4E3"
             },
             "line": {
              "color": "white"
             }
            },
            "type": "table"
           }
          ]
         },
         "layout": {
          "annotationdefaults": {
           "arrowcolor": "#2a3f5f",
           "arrowhead": 0,
           "arrowwidth": 1
          },
          "autotypenumbers": "strict",
          "coloraxis": {
           "colorbar": {
            "outlinewidth": 0,
            "ticks": ""
           }
          },
          "colorscale": {
           "diverging": [
            [
             0,
             "#8e0152"
            ],
            [
             0.1,
             "#c51b7d"
            ],
            [
             0.2,
             "#de77ae"
            ],
            [
             0.3,
             "#f1b6da"
            ],
            [
             0.4,
             "#fde0ef"
            ],
            [
             0.5,
             "#f7f7f7"
            ],
            [
             0.6,
             "#e6f5d0"
            ],
            [
             0.7,
             "#b8e186"
            ],
            [
             0.8,
             "#7fbc41"
            ],
            [
             0.9,
             "#4d9221"
            ],
            [
             1,
             "#276419"
            ]
           ],
           "sequential": [
            [
             0,
             "#0d0887"
            ],
            [
             0.1111111111111111,
             "#46039f"
            ],
            [
             0.2222222222222222,
             "#7201a8"
            ],
            [
             0.3333333333333333,
             "#9c179e"
            ],
            [
             0.4444444444444444,
             "#bd3786"
            ],
            [
             0.5555555555555556,
             "#d8576b"
            ],
            [
             0.6666666666666666,
             "#ed7953"
            ],
            [
             0.7777777777777778,
             "#fb9f3a"
            ],
            [
             0.8888888888888888,
             "#fdca26"
            ],
            [
             1,
             "#f0f921"
            ]
           ],
           "sequentialminus": [
            [
             0,
             "#0d0887"
            ],
            [
             0.1111111111111111,
             "#46039f"
            ],
            [
             0.2222222222222222,
             "#7201a8"
            ],
            [
             0.3333333333333333,
             "#9c179e"
            ],
            [
             0.4444444444444444,
             "#bd3786"
            ],
            [
             0.5555555555555556,
             "#d8576b"
            ],
            [
             0.6666666666666666,
             "#ed7953"
            ],
            [
             0.7777777777777778,
             "#fb9f3a"
            ],
            [
             0.8888888888888888,
             "#fdca26"
            ],
            [
             1,
             "#f0f921"
            ]
           ]
          },
          "colorway": [
           "#636efa",
           "#EF553B",
           "#00cc96",
           "#ab63fa",
           "#FFA15A",
           "#19d3f3",
           "#FF6692",
           "#B6E880",
           "#FF97FF",
           "#FECB52"
          ],
          "font": {
           "color": "#2a3f5f"
          },
          "geo": {
           "bgcolor": "white",
           "lakecolor": "white",
           "landcolor": "#E5ECF6",
           "showlakes": true,
           "showland": true,
           "subunitcolor": "white"
          },
          "hoverlabel": {
           "align": "left"
          },
          "hovermode": "closest",
          "mapbox": {
           "style": "light"
          },
          "paper_bgcolor": "white",
          "plot_bgcolor": "#E5ECF6",
          "polar": {
           "angularaxis": {
            "gridcolor": "white",
            "linecolor": "white",
            "ticks": ""
           },
           "bgcolor": "#E5ECF6",
           "radialaxis": {
            "gridcolor": "white",
            "linecolor": "white",
            "ticks": ""
           }
          },
          "scene": {
           "xaxis": {
            "backgroundcolor": "#E5ECF6",
            "gridcolor": "white",
            "gridwidth": 2,
            "linecolor": "white",
            "showbackground": true,
            "ticks": "",
            "zerolinecolor": "white"
           },
           "yaxis": {
            "backgroundcolor": "#E5ECF6",
            "gridcolor": "white",
            "gridwidth": 2,
            "linecolor": "white",
            "showbackground": true,
            "ticks": "",
            "zerolinecolor": "white"
           },
           "zaxis": {
            "backgroundcolor": "#E5ECF6",
            "gridcolor": "white",
            "gridwidth": 2,
            "linecolor": "white",
            "showbackground": true,
            "ticks": "",
            "zerolinecolor": "white"
           }
          },
          "shapedefaults": {
           "line": {
            "color": "#2a3f5f"
           }
          },
          "ternary": {
           "aaxis": {
            "gridcolor": "white",
            "linecolor": "white",
            "ticks": ""
           },
           "baxis": {
            "gridcolor": "white",
            "linecolor": "white",
            "ticks": ""
           },
           "bgcolor": "#E5ECF6",
           "caxis": {
            "gridcolor": "white",
            "linecolor": "white",
            "ticks": ""
           }
          },
          "title": {
           "x": 0.05
          },
          "xaxis": {
           "automargin": true,
           "gridcolor": "white",
           "linecolor": "white",
           "ticks": "",
           "title": {
            "standoff": 15
           },
           "zerolinecolor": "white",
           "zerolinewidth": 2
          },
          "yaxis": {
           "automargin": true,
           "gridcolor": "white",
           "linecolor": "white",
           "ticks": "",
           "title": {
            "standoff": 15
           },
           "zerolinecolor": "white",
           "zerolinewidth": 2
          }
         }
        },
        "title": {
         "text": "Test ROC Curve (AUC=0.8404)"
        },
        "width": 700,
        "xaxis": {
         "anchor": "y",
         "constrain": "domain",
         "domain": [
          0,
          1
         ],
         "title": {
          "text": "False Positive Rate"
         }
        },
        "yaxis": {
         "anchor": "x",
         "domain": [
          0,
          1
         ],
         "scaleanchor": "x",
         "scaleratio": 1,
         "title": {
          "text": "True Positive Rate"
         }
        }
       }
      },
      "text/html": [
       "<div>                            <div id=\"148f1722-a3c6-4ad8-aa55-7768dad8f69b\" class=\"plotly-graph-div\" style=\"height:500px; width:700px;\"></div>            <script type=\"text/javascript\">                require([\"plotly\"], function(Plotly) {                    window.PLOTLYENV=window.PLOTLYENV || {};                                    if (document.getElementById(\"148f1722-a3c6-4ad8-aa55-7768dad8f69b\")) {                    Plotly.newPlot(                        \"148f1722-a3c6-4ad8-aa55-7768dad8f69b\",                        [{\"fillpattern\":{\"shape\":\"\"},\"hovertemplate\":\"False Positive Rate=%{x}<br>True Positive Rate=%{y}<extra></extra>\",\"legendgroup\":\"\",\"line\":{\"color\":\"#636efa\"},\"marker\":{\"symbol\":\"circle\"},\"mode\":\"lines\",\"name\":\"\",\"orientation\":\"v\",\"showlegend\":false,\"stackgroup\":\"1\",\"x\":[0.0,0.0,0.0,0.0006211180124223603,0.0006211180124223603,0.0012422360248447205,0.0012422360248447205,0.0018633540372670807,0.0018633540372670807,0.002484472049689441,0.002484472049689441,0.003105590062111801,0.003105590062111801,0.0037267080745341614,0.0037267080745341614,0.004347826086956522,0.004347826086956522,0.004968944099378882,0.004968944099378882,0.006211180124223602,0.006211180124223602,0.0068322981366459624,0.0068322981366459624,0.007453416149068323,0.007453416149068323,0.008074534161490683,0.008074534161490683,0.008695652173913044,0.008695652173913044,0.009937888198757764,0.009937888198757764,0.010559006211180125,0.010559006211180125,0.011180124223602485,0.011180124223602485,0.012422360248447204,0.012422360248447204,0.013043478260869565,0.013043478260869565,0.013664596273291925,0.013664596273291925,0.014906832298136646,0.014906832298136646,0.016770186335403725,0.016770186335403725,0.017391304347826087,0.017391304347826087,0.019254658385093167,0.019254658385093167,0.02111801242236025,0.02111801242236025,0.021739130434782608,0.021739130434782608,0.02236024844720497,0.02236024844720497,0.02298136645962733,0.02298136645962733,0.02360248447204969,0.02360248447204969,0.02608695652173913,0.02608695652173913,0.02670807453416149,0.02670807453416149,0.02732919254658385,0.02732919254658385,0.027950310559006212,0.027950310559006212,0.02857142857142857,0.02857142857142857,0.03229813664596273,0.03229813664596273,0.03354037267080745,0.03354037267080745,0.034782608695652174,0.034782608695652174,0.03602484472049689,0.03602484472049689,0.037267080745341616,0.037267080745341616,0.03850931677018633,0.03850931677018633,0.03975155279503106,0.03975155279503106,0.040993788819875775,0.040993788819875775,0.04161490683229813,0.04161490683229813,0.04285714285714286,0.04285714285714286,0.04596273291925466,0.04596273291925466,0.04782608695652174,0.04782608695652174,0.05093167701863354,0.05093167701863354,0.0515527950310559,0.0515527950310559,0.052795031055900624,0.052795031055900624,0.05341614906832298,0.05341614906832298,0.05403726708074534,0.05403726708074534,0.055279503105590065,0.055279503105590065,0.055900621118012424,0.055900621118012424,0.05652173913043478,0.05652173913043478,0.05714285714285714,0.05714285714285714,0.0577639751552795,0.0577639751552795,0.05962732919254658,0.05962732919254658,0.061490683229813665,0.061490683229813665,0.06273291925465839,0.06273291925465839,0.06459627329192547,0.06459627329192547,0.06645962732919254,0.06645962732919254,0.06770186335403727,0.06770186335403727,0.07080745341614907,0.07080745341614907,0.07391304347826087,0.07391304347826087,0.07639751552795031,0.07639751552795031,0.07701863354037267,0.07701863354037267,0.07763975155279502,0.07763975155279502,0.08012422360248447,0.08012422360248447,0.08260869565217391,0.08260869565217391,0.08385093167701864,0.08385093167701864,0.084472049689441,0.084472049689441,0.08881987577639752,0.08881987577639752,0.09130434782608696,0.09130434782608696,0.09565217391304348,0.09565217391304348,0.09813664596273292,0.09813664596273292,0.10062111801242236,0.10062111801242236,0.10248447204968944,0.10248447204968944,0.10496894409937889,0.10496894409937889,0.10993788819875776,0.10993788819875776,0.11055900621118013,0.11055900621118013,0.11118012422360249,0.11118012422360249,0.11366459627329192,0.11366459627329192,0.11739130434782609,0.11739130434782609,0.1186335403726708,0.1186335403726708,0.11987577639751552,0.11987577639751552,0.12049689440993788,0.12049689440993788,0.1248447204968944,0.1248447204968944,0.12608695652173912,0.12608695652173912,0.13354037267080746,0.13354037267080746,0.13478260869565217,0.13478260869565217,0.14037267080745341,0.14037267080745341,0.1409937888198758,0.1409937888198758,0.1422360248447205,0.1422360248447205,0.14409937888198757,0.14409937888198757,0.14720496894409937,0.14720496894409937,0.1484472049689441,0.1484472049689441,0.14906832298136646,0.14906832298136646,0.15093167701863355,0.15093167701863355,0.15279503105590062,0.15279503105590062,0.15403726708074533,0.15403726708074533,0.1546583850931677,0.1546583850931677,0.15714285714285714,0.15714285714285714,0.15962732919254657,0.15962732919254657,0.16024844720496895,0.16024844720496895,0.16211180124223604,0.16211180124223604,0.1639751552795031,0.1639751552795031,0.168944099378882,0.168944099378882,0.1701863354037267,0.1701863354037267,0.1763975155279503,0.1763975155279503,0.17701863354037267,0.17701863354037267,0.17763975155279504,0.17763975155279504,0.18322981366459629,0.18322981366459629,0.18944099378881987,0.18944099378881987,0.19130434782608696,0.19130434782608696,0.19937888198757764,0.19937888198757764,0.20683229813664597,0.20683229813664597,0.20745341614906831,0.20745341614906831,0.21304347826086956,0.21304347826086956,0.21614906832298136,0.21614906832298136,0.2267080745341615,0.2267080745341615,0.22981366459627328,0.22981366459627328,0.2329192546583851,0.2329192546583851,0.23354037267080746,0.23354037267080746,0.23478260869565218,0.23478260869565218,0.23540372670807452,0.23540372670807452,0.23850931677018633,0.23850931677018633,0.23975155279503105,0.23975155279503105,0.24472049689440994,0.24472049689440994,0.2453416149068323,0.2453416149068323,0.246583850931677,0.246583850931677,0.24782608695652175,0.24782608695652175,0.25527950310559006,0.25527950310559006,0.25900621118012424,0.25900621118012424,0.26583850931677017,0.26583850931677017,0.26956521739130435,0.26956521739130435,0.2714285714285714,0.2714285714285714,0.27701863354037265,0.27701863354037265,0.2795031055900621,0.2795031055900621,0.2826086956521739,0.2826086956521739,0.28695652173913044,0.28695652173913044,0.29440993788819875,0.29440993788819875,0.30496894409937886,0.30496894409937886,0.30745341614906835,0.30745341614906835,0.3093167701863354,0.3093167701863354,0.315527950310559,0.315527950310559,0.31614906832298134,0.31614906832298134,0.31925465838509315,0.31925465838509315,0.3198757763975155,0.3198757763975155,0.3248447204968944,0.3248447204968944,0.3316770186335404,0.3316770186335404,0.3341614906832298,0.3341614906832298,0.3416149068322981,0.3416149068322981,0.3422360248447205,0.3422360248447205,0.34968944099378885,0.34968944099378885,0.35714285714285715,0.35714285714285715,0.3596273291925466,0.3596273291925466,0.36024844720496896,0.36024844720496896,0.37267080745341613,0.37267080745341613,0.3770186335403727,0.3770186335403727,0.3782608695652174,0.3782608695652174,0.38509316770186336,0.38509316770186336,0.39006211180124223,0.39006211180124223,0.3968944099378882,0.3968944099378882,0.40248447204968946,0.40248447204968946,0.4111801242236025,0.4111801242236025,0.41801242236024844,0.41801242236024844,0.41987577639751555,0.41987577639751555,0.4248447204968944,0.4248447204968944,0.4267080745341615,0.4267080745341615,0.43167701863354035,0.43167701863354035,0.4422360248447205,0.4422360248447205,0.4440993788819876,0.4440993788819876,0.4484472049689441,0.4484472049689441,0.4515527950310559,0.4515527950310559,0.4614906832298137,0.4614906832298137,0.4714285714285714,0.4714285714285714,0.4745341614906832,0.4745341614906832,0.48509316770186334,0.48509316770186334,0.4863354037267081,0.4863354037267081,0.4888198757763975,0.4888198757763975,0.49813664596273294,0.49813664596273294,0.5161490683229814,0.5161490683229814,0.5267080745341615,0.5267080745341615,0.5298136645962733,0.5298136645962733,0.5304347826086957,0.5304347826086957,0.5503105590062112,0.5503105590062112,0.5565217391304348,0.5565217391304348,0.5645962732919255,0.5645962732919255,0.568944099378882,0.568944099378882,0.5695652173913044,0.5695652173913044,0.575776397515528,0.575776397515528,0.5869565217391305,0.5869565217391305,0.6086956521739131,0.6086956521739131,0.6124223602484472,0.6124223602484472,0.6192546583850932,0.6192546583850932,0.6503105590062112,0.6503105590062112,0.6527950310559006,0.6527950310559006,0.668944099378882,0.668944099378882,0.6900621118012422,0.6900621118012422,0.7111801242236024,0.7111801242236024,0.7124223602484472,0.7124223602484472,0.7304347826086957,0.7304347826086957,0.739751552795031,0.739751552795031,0.7546583850931677,0.7546583850931677,0.7670807453416149,0.7670807453416149,0.7739130434782608,0.7739130434782608,0.7850931677018633,0.7850931677018633,0.7950310559006211,0.7950310559006211,0.8043478260869565,0.8043478260869565,0.824223602484472,0.824223602484472,0.831055900621118,0.831055900621118,0.8434782608695652,0.8434782608695652,0.9316770186335404,0.9316770186335404,1.0],\"xaxis\":\"x\",\"y\":[0.0,0.002564102564102564,0.08974358974358974,0.08974358974358974,0.11538461538461539,0.11538461538461539,0.11794871794871795,0.11794871794871795,0.15897435897435896,0.15897435897435896,0.16153846153846155,0.16153846153846155,0.19487179487179487,0.19487179487179487,0.19743589743589743,0.19743589743589743,0.20256410256410257,0.20256410256410257,0.2076923076923077,0.2076923076923077,0.2205128205128205,0.2205128205128205,0.25384615384615383,0.25384615384615383,0.2692307692307692,0.2692307692307692,0.2743589743589744,0.2743589743589744,0.27692307692307694,0.27692307692307694,0.2948717948717949,0.2948717948717949,0.3,0.3,0.3076923076923077,0.3076923076923077,0.3128205128205128,0.3128205128205128,0.3153846153846154,0.3153846153846154,0.31794871794871793,0.31794871794871793,0.32051282051282054,0.32051282051282054,0.3230769230769231,0.3230769230769231,0.32564102564102565,0.32564102564102565,0.3282051282051282,0.3282051282051282,0.3333333333333333,0.3333333333333333,0.3384615384615385,0.3384615384615385,0.3487179487179487,0.3487179487179487,0.35128205128205126,0.35128205128205126,0.358974358974359,0.358974358974359,0.36153846153846153,0.36153846153846153,0.3641025641025641,0.3641025641025641,0.3717948717948718,0.3717948717948718,0.3769230769230769,0.3769230769230769,0.38461538461538464,0.38461538461538464,0.3974358974358974,0.3974358974358974,0.4,0.4,0.40512820512820513,0.40512820512820513,0.4076923076923077,0.4076923076923077,0.41025641025641024,0.41025641025641024,0.4205128205128205,0.4205128205128205,0.4230769230769231,0.4230769230769231,0.4282051282051282,0.4282051282051282,0.4307692307692308,0.4307692307692308,0.43846153846153846,0.43846153846153846,0.441025641025641,0.441025641025641,0.44358974358974357,0.44358974358974357,0.44871794871794873,0.44871794871794873,0.4512820512820513,0.4512820512820513,0.4564102564102564,0.4564102564102564,0.45897435897435895,0.45897435897435895,0.46153846153846156,0.46153846153846156,0.47435897435897434,0.47435897435897434,0.4794871794871795,0.4794871794871795,0.48717948717948717,0.48717948717948717,0.4897435897435897,0.4897435897435897,0.49230769230769234,0.49230769230769234,0.4948717948717949,0.4948717948717949,0.5,0.5,0.5025641025641026,0.5025641025641026,0.5076923076923077,0.5076923076923077,0.5153846153846153,0.5153846153846153,0.5230769230769231,0.5230769230769231,0.5282051282051282,0.5282051282051282,0.5333333333333333,0.5333333333333333,0.5384615384615384,0.5384615384615384,0.541025641025641,0.541025641025641,0.5435897435897435,0.5435897435897435,0.5461538461538461,0.5461538461538461,0.5487179487179488,0.5487179487179488,0.5512820512820513,0.5512820512820513,0.5538461538461539,0.5538461538461539,0.5564102564102564,0.5564102564102564,0.558974358974359,0.558974358974359,0.5666666666666667,0.5666666666666667,0.5692307692307692,0.5692307692307692,0.5717948717948718,0.5717948717948718,0.5743589743589743,0.5743589743589743,0.5794871794871795,0.5794871794871795,0.5846153846153846,0.5846153846153846,0.5871794871794872,0.5871794871794872,0.5897435897435898,0.5897435897435898,0.5948717948717949,0.5948717948717949,0.5974358974358974,0.5974358974358974,0.6,0.6,0.6025641025641025,0.6025641025641025,0.6051282051282051,0.6051282051282051,0.6076923076923076,0.6076923076923076,0.6102564102564103,0.6102564102564103,0.6128205128205129,0.6128205128205129,0.6153846153846154,0.6153846153846154,0.617948717948718,0.617948717948718,0.6205128205128205,0.6205128205128205,0.6256410256410256,0.6256410256410256,0.6282051282051282,0.6282051282051282,0.6307692307692307,0.6307692307692307,0.6333333333333333,0.6333333333333333,0.6358974358974359,0.6358974358974359,0.6384615384615384,0.6384615384615384,0.6435897435897436,0.6435897435897436,0.6461538461538462,0.6461538461538462,0.6487179487179487,0.6487179487179487,0.6512820512820513,0.6512820512820513,0.6564102564102564,0.6564102564102564,0.658974358974359,0.658974358974359,0.6641025641025641,0.6641025641025641,0.6717948717948717,0.6717948717948717,0.6743589743589744,0.6743589743589744,0.6794871794871795,0.6794871794871795,0.6820512820512821,0.6820512820512821,0.6871794871794872,0.6871794871794872,0.6897435897435897,0.6897435897435897,0.6948717948717948,0.6948717948717948,0.6974358974358974,0.6974358974358974,0.7,0.7,0.7025641025641025,0.7025641025641025,0.7076923076923077,0.7076923076923077,0.7102564102564103,0.7102564102564103,0.7128205128205128,0.7128205128205128,0.7153846153846154,0.7153846153846154,0.717948717948718,0.717948717948718,0.7205128205128205,0.7205128205128205,0.7230769230769231,0.7230769230769231,0.7282051282051282,0.7282051282051282,0.7307692307692307,0.7307692307692307,0.7333333333333333,0.7333333333333333,0.735897435897436,0.735897435897436,0.7410256410256411,0.7410256410256411,0.7435897435897436,0.7435897435897436,0.7538461538461538,0.7538461538461538,0.7564102564102564,0.7564102564102564,0.7615384615384615,0.7615384615384615,0.764102564102564,0.764102564102564,0.7666666666666667,0.7666666666666667,0.7692307692307693,0.7692307692307693,0.7743589743589744,0.7743589743589744,0.7769230769230769,0.7769230769230769,0.7794871794871795,0.7794871794871795,0.7846153846153846,0.7846153846153846,0.7871794871794872,0.7871794871794872,0.7897435897435897,0.7897435897435897,0.7923076923076923,0.7923076923076923,0.8,0.8,0.8025641025641026,0.8025641025641026,0.8076923076923077,0.8076923076923077,0.8102564102564103,0.8102564102564103,0.8128205128205128,0.8128205128205128,0.8153846153846154,0.8153846153846154,0.8179487179487179,0.8179487179487179,0.8205128205128205,0.8205128205128205,0.8256410256410256,0.8256410256410256,0.8282051282051283,0.8282051282051283,0.8307692307692308,0.8307692307692308,0.8333333333333334,0.8333333333333334,0.8384615384615385,0.8384615384615385,0.841025641025641,0.841025641025641,0.8435897435897436,0.8435897435897436,0.8461538461538461,0.8461538461538461,0.8487179487179487,0.8487179487179487,0.8512820512820513,0.8512820512820513,0.8538461538461538,0.8538461538461538,0.8564102564102564,0.8564102564102564,0.8615384615384616,0.8615384615384616,0.8641025641025641,0.8641025641025641,0.8666666666666667,0.8666666666666667,0.8692307692307693,0.8692307692307693,0.8717948717948718,0.8717948717948718,0.8743589743589744,0.8743589743589744,0.8769230769230769,0.8769230769230769,0.8794871794871795,0.8794871794871795,0.882051282051282,0.882051282051282,0.8846153846153846,0.8846153846153846,0.8871794871794871,0.8871794871794871,0.8897435897435897,0.8897435897435897,0.8923076923076924,0.8923076923076924,0.8974358974358975,0.8974358974358975,0.9025641025641026,0.9025641025641026,0.9051282051282051,0.9051282051282051,0.9076923076923077,0.9076923076923077,0.9102564102564102,0.9102564102564102,0.9128205128205128,0.9128205128205128,0.9153846153846154,0.9153846153846154,0.9179487179487179,0.9179487179487179,0.9205128205128205,0.9205128205128205,0.9230769230769231,0.9230769230769231,0.9282051282051282,0.9282051282051282,0.9307692307692308,0.9307692307692308,0.9333333333333333,0.9333333333333333,0.9358974358974359,0.9358974358974359,0.9384615384615385,0.9384615384615385,0.941025641025641,0.941025641025641,0.9435897435897436,0.9435897435897436,0.9461538461538461,0.9461538461538461,0.9487179487179487,0.9487179487179487,0.9512820512820512,0.9512820512820512,0.9538461538461539,0.9538461538461539,0.9564102564102565,0.9564102564102565,0.958974358974359,0.958974358974359,0.9615384615384616,0.9615384615384616,0.9641025641025641,0.9641025641025641,0.9666666666666667,0.9666666666666667,0.9692307692307692,0.9692307692307692,0.9717948717948718,0.9717948717948718,0.9743589743589743,0.9743589743589743,0.9769230769230769,0.9769230769230769,0.9794871794871794,0.9794871794871794,0.982051282051282,0.982051282051282,0.9846153846153847,0.9846153846153847,0.9871794871794872,0.9871794871794872,0.9897435897435898,0.9897435897435898,0.9923076923076923,0.9923076923076923,0.9948717948717949,0.9948717948717949,0.9974358974358974,0.9974358974358974,1.0,1.0],\"yaxis\":\"y\",\"type\":\"scatter\"}],                        {\"template\":{\"data\":{\"histogram2dcontour\":[{\"type\":\"histogram2dcontour\",\"colorbar\":{\"outlinewidth\":0,\"ticks\":\"\"},\"colorscale\":[[0.0,\"#0d0887\"],[0.1111111111111111,\"#46039f\"],[0.2222222222222222,\"#7201a8\"],[0.3333333333333333,\"#9c179e\"],[0.4444444444444444,\"#bd3786\"],[0.5555555555555556,\"#d8576b\"],[0.6666666666666666,\"#ed7953\"],[0.7777777777777778,\"#fb9f3a\"],[0.8888888888888888,\"#fdca26\"],[1.0,\"#f0f921\"]]}],\"choropleth\":[{\"type\":\"choropleth\",\"colorbar\":{\"outlinewidth\":0,\"ticks\":\"\"}}],\"histogram2d\":[{\"type\":\"histogram2d\",\"colorbar\":{\"outlinewidth\":0,\"ticks\":\"\"},\"colorscale\":[[0.0,\"#0d0887\"],[0.1111111111111111,\"#46039f\"],[0.2222222222222222,\"#7201a8\"],[0.3333333333333333,\"#9c179e\"],[0.4444444444444444,\"#bd3786\"],[0.5555555555555556,\"#d8576b\"],[0.6666666666666666,\"#ed7953\"],[0.7777777777777778,\"#fb9f3a\"],[0.8888888888888888,\"#fdca26\"],[1.0,\"#f0f921\"]]}],\"heatmap\":[{\"type\":\"heatmap\",\"colorbar\":{\"outlinewidth\":0,\"ticks\":\"\"},\"colorscale\":[[0.0,\"#0d0887\"],[0.1111111111111111,\"#46039f\"],[0.2222222222222222,\"#7201a8\"],[0.3333333333333333,\"#9c179e\"],[0.4444444444444444,\"#bd3786\"],[0.5555555555555556,\"#d8576b\"],[0.6666666666666666,\"#ed7953\"],[0.7777777777777778,\"#fb9f3a\"],[0.8888888888888888,\"#fdca26\"],[1.0,\"#f0f921\"]]}],\"heatmapgl\":[{\"type\":\"heatmapgl\",\"colorbar\":{\"outlinewidth\":0,\"ticks\":\"\"},\"colorscale\":[[0.0,\"#0d0887\"],[0.1111111111111111,\"#46039f\"],[0.2222222222222222,\"#7201a8\"],[0.3333333333333333,\"#9c179e\"],[0.4444444444444444,\"#bd3786\"],[0.5555555555555556,\"#d8576b\"],[0.6666666666666666,\"#ed7953\"],[0.7777777777777778,\"#fb9f3a\"],[0.8888888888888888,\"#fdca26\"],[1.0,\"#f0f921\"]]}],\"contourcarpet\":[{\"type\":\"contourcarpet\",\"colorbar\":{\"outlinewidth\":0,\"ticks\":\"\"}}],\"contour\":[{\"type\":\"contour\",\"colorbar\":{\"outlinewidth\":0,\"ticks\":\"\"},\"colorscale\":[[0.0,\"#0d0887\"],[0.1111111111111111,\"#46039f\"],[0.2222222222222222,\"#7201a8\"],[0.3333333333333333,\"#9c179e\"],[0.4444444444444444,\"#bd3786\"],[0.5555555555555556,\"#d8576b\"],[0.6666666666666666,\"#ed7953\"],[0.7777777777777778,\"#fb9f3a\"],[0.8888888888888888,\"#fdca26\"],[1.0,\"#f0f921\"]]}],\"surface\":[{\"type\":\"surface\",\"colorbar\":{\"outlinewidth\":0,\"ticks\":\"\"},\"colorscale\":[[0.0,\"#0d0887\"],[0.1111111111111111,\"#46039f\"],[0.2222222222222222,\"#7201a8\"],[0.3333333333333333,\"#9c179e\"],[0.4444444444444444,\"#bd3786\"],[0.5555555555555556,\"#d8576b\"],[0.6666666666666666,\"#ed7953\"],[0.7777777777777778,\"#fb9f3a\"],[0.8888888888888888,\"#fdca26\"],[1.0,\"#f0f921\"]]}],\"mesh3d\":[{\"type\":\"mesh3d\",\"colorbar\":{\"outlinewidth\":0,\"ticks\":\"\"}}],\"scatter\":[{\"fillpattern\":{\"fillmode\":\"overlay\",\"size\":10,\"solidity\":0.2},\"type\":\"scatter\"}],\"parcoords\":[{\"type\":\"parcoords\",\"line\":{\"colorbar\":{\"outlinewidth\":0,\"ticks\":\"\"}}}],\"scatterpolargl\":[{\"type\":\"scatterpolargl\",\"marker\":{\"colorbar\":{\"outlinewidth\":0,\"ticks\":\"\"}}}],\"bar\":[{\"error_x\":{\"color\":\"#2a3f5f\"},\"error_y\":{\"color\":\"#2a3f5f\"},\"marker\":{\"line\":{\"color\":\"#E5ECF6\",\"width\":0.5},\"pattern\":{\"fillmode\":\"overlay\",\"size\":10,\"solidity\":0.2}},\"type\":\"bar\"}],\"scattergeo\":[{\"type\":\"scattergeo\",\"marker\":{\"colorbar\":{\"outlinewidth\":0,\"ticks\":\"\"}}}],\"scatterpolar\":[{\"type\":\"scatterpolar\",\"marker\":{\"colorbar\":{\"outlinewidth\":0,\"ticks\":\"\"}}}],\"histogram\":[{\"marker\":{\"pattern\":{\"fillmode\":\"overlay\",\"size\":10,\"solidity\":0.2}},\"type\":\"histogram\"}],\"scattergl\":[{\"type\":\"scattergl\",\"marker\":{\"colorbar\":{\"outlinewidth\":0,\"ticks\":\"\"}}}],\"scatter3d\":[{\"type\":\"scatter3d\",\"line\":{\"colorbar\":{\"outlinewidth\":0,\"ticks\":\"\"}},\"marker\":{\"colorbar\":{\"outlinewidth\":0,\"ticks\":\"\"}}}],\"scattermapbox\":[{\"type\":\"scattermapbox\",\"marker\":{\"colorbar\":{\"outlinewidth\":0,\"ticks\":\"\"}}}],\"scatterternary\":[{\"type\":\"scatterternary\",\"marker\":{\"colorbar\":{\"outlinewidth\":0,\"ticks\":\"\"}}}],\"scattercarpet\":[{\"type\":\"scattercarpet\",\"marker\":{\"colorbar\":{\"outlinewidth\":0,\"ticks\":\"\"}}}],\"carpet\":[{\"aaxis\":{\"endlinecolor\":\"#2a3f5f\",\"gridcolor\":\"white\",\"linecolor\":\"white\",\"minorgridcolor\":\"white\",\"startlinecolor\":\"#2a3f5f\"},\"baxis\":{\"endlinecolor\":\"#2a3f5f\",\"gridcolor\":\"white\",\"linecolor\":\"white\",\"minorgridcolor\":\"white\",\"startlinecolor\":\"#2a3f5f\"},\"type\":\"carpet\"}],\"table\":[{\"cells\":{\"fill\":{\"color\":\"#EBF0F8\"},\"line\":{\"color\":\"white\"}},\"header\":{\"fill\":{\"color\":\"#C8D4E3\"},\"line\":{\"color\":\"white\"}},\"type\":\"table\"}],\"barpolar\":[{\"marker\":{\"line\":{\"color\":\"#E5ECF6\",\"width\":0.5},\"pattern\":{\"fillmode\":\"overlay\",\"size\":10,\"solidity\":0.2}},\"type\":\"barpolar\"}],\"pie\":[{\"automargin\":true,\"type\":\"pie\"}]},\"layout\":{\"autotypenumbers\":\"strict\",\"colorway\":[\"#636efa\",\"#EF553B\",\"#00cc96\",\"#ab63fa\",\"#FFA15A\",\"#19d3f3\",\"#FF6692\",\"#B6E880\",\"#FF97FF\",\"#FECB52\"],\"font\":{\"color\":\"#2a3f5f\"},\"hovermode\":\"closest\",\"hoverlabel\":{\"align\":\"left\"},\"paper_bgcolor\":\"white\",\"plot_bgcolor\":\"#E5ECF6\",\"polar\":{\"bgcolor\":\"#E5ECF6\",\"angularaxis\":{\"gridcolor\":\"white\",\"linecolor\":\"white\",\"ticks\":\"\"},\"radialaxis\":{\"gridcolor\":\"white\",\"linecolor\":\"white\",\"ticks\":\"\"}},\"ternary\":{\"bgcolor\":\"#E5ECF6\",\"aaxis\":{\"gridcolor\":\"white\",\"linecolor\":\"white\",\"ticks\":\"\"},\"baxis\":{\"gridcolor\":\"white\",\"linecolor\":\"white\",\"ticks\":\"\"},\"caxis\":{\"gridcolor\":\"white\",\"linecolor\":\"white\",\"ticks\":\"\"}},\"coloraxis\":{\"colorbar\":{\"outlinewidth\":0,\"ticks\":\"\"}},\"colorscale\":{\"sequential\":[[0.0,\"#0d0887\"],[0.1111111111111111,\"#46039f\"],[0.2222222222222222,\"#7201a8\"],[0.3333333333333333,\"#9c179e\"],[0.4444444444444444,\"#bd3786\"],[0.5555555555555556,\"#d8576b\"],[0.6666666666666666,\"#ed7953\"],[0.7777777777777778,\"#fb9f3a\"],[0.8888888888888888,\"#fdca26\"],[1.0,\"#f0f921\"]],\"sequentialminus\":[[0.0,\"#0d0887\"],[0.1111111111111111,\"#46039f\"],[0.2222222222222222,\"#7201a8\"],[0.3333333333333333,\"#9c179e\"],[0.4444444444444444,\"#bd3786\"],[0.5555555555555556,\"#d8576b\"],[0.6666666666666666,\"#ed7953\"],[0.7777777777777778,\"#fb9f3a\"],[0.8888888888888888,\"#fdca26\"],[1.0,\"#f0f921\"]],\"diverging\":[[0,\"#8e0152\"],[0.1,\"#c51b7d\"],[0.2,\"#de77ae\"],[0.3,\"#f1b6da\"],[0.4,\"#fde0ef\"],[0.5,\"#f7f7f7\"],[0.6,\"#e6f5d0\"],[0.7,\"#b8e186\"],[0.8,\"#7fbc41\"],[0.9,\"#4d9221\"],[1,\"#276419\"]]},\"xaxis\":{\"gridcolor\":\"white\",\"linecolor\":\"white\",\"ticks\":\"\",\"title\":{\"standoff\":15},\"zerolinecolor\":\"white\",\"automargin\":true,\"zerolinewidth\":2},\"yaxis\":{\"gridcolor\":\"white\",\"linecolor\":\"white\",\"ticks\":\"\",\"title\":{\"standoff\":15},\"zerolinecolor\":\"white\",\"automargin\":true,\"zerolinewidth\":2},\"scene\":{\"xaxis\":{\"backgroundcolor\":\"#E5ECF6\",\"gridcolor\":\"white\",\"linecolor\":\"white\",\"showbackground\":true,\"ticks\":\"\",\"zerolinecolor\":\"white\",\"gridwidth\":2},\"yaxis\":{\"backgroundcolor\":\"#E5ECF6\",\"gridcolor\":\"white\",\"linecolor\":\"white\",\"showbackground\":true,\"ticks\":\"\",\"zerolinecolor\":\"white\",\"gridwidth\":2},\"zaxis\":{\"backgroundcolor\":\"#E5ECF6\",\"gridcolor\":\"white\",\"linecolor\":\"white\",\"showbackground\":true,\"ticks\":\"\",\"zerolinecolor\":\"white\",\"gridwidth\":2}},\"shapedefaults\":{\"line\":{\"color\":\"#2a3f5f\"}},\"annotationdefaults\":{\"arrowcolor\":\"#2a3f5f\",\"arrowhead\":0,\"arrowwidth\":1},\"geo\":{\"bgcolor\":\"white\",\"landcolor\":\"#E5ECF6\",\"subunitcolor\":\"white\",\"showland\":true,\"showlakes\":true,\"lakecolor\":\"white\"},\"title\":{\"x\":0.05},\"mapbox\":{\"style\":\"light\"}}},\"xaxis\":{\"anchor\":\"y\",\"domain\":[0.0,1.0],\"title\":{\"text\":\"False Positive Rate\"},\"constrain\":\"domain\"},\"yaxis\":{\"anchor\":\"x\",\"domain\":[0.0,1.0],\"title\":{\"text\":\"True Positive Rate\"},\"scaleanchor\":\"x\",\"scaleratio\":1},\"legend\":{\"tracegroupgap\":0},\"title\":{\"text\":\"Test ROC Curve (AUC=0.8404)\"},\"height\":500,\"width\":700,\"shapes\":[{\"line\":{\"dash\":\"dash\"},\"type\":\"line\",\"x0\":0,\"x1\":1,\"y0\":0,\"y1\":1}]},                        {\"responsive\": true}                    ).then(function(){\n",
       "                            \n",
       "var gd = document.getElementById('148f1722-a3c6-4ad8-aa55-7768dad8f69b');\n",
       "var x = new MutationObserver(function (mutations, observer) {{\n",
       "        var display = window.getComputedStyle(gd).display;\n",
       "        if (!display || display === 'none') {{\n",
       "            console.log([gd, 'removed!']);\n",
       "            Plotly.purge(gd);\n",
       "            observer.disconnect();\n",
       "        }}\n",
       "}});\n",
       "\n",
       "// Listen for the removal of the full notebook cells\n",
       "var notebookContainer = gd.closest('#notebook-container');\n",
       "if (notebookContainer) {{\n",
       "    x.observe(notebookContainer, {childList: true});\n",
       "}}\n",
       "\n",
       "// Listen for the clearing of the current output cell\n",
       "var outputEl = gd.closest('.output');\n",
       "if (outputEl) {{\n",
       "    x.observe(outputEl, {childList: true});\n",
       "}}\n",
       "\n",
       "                        })                };                });            </script>        </div>"
      ]
     },
     "metadata": {},
     "output_type": "display_data"
    }
   ],
   "source": [
    "# Plotting the metrics for evaluation\n",
    "# For loss function\n",
    "plt.figure(figsize=(12,8))\n",
    "plt.plot(mlp_history.history['loss'], label=\"Loss\")\n",
    "plt.plot(mlp_history.history['val_loss'], label=\"Val_loss\")\n",
    "plt.xlabel(\"Epoch\")\n",
    "plt.ylabel(\"Loss\")\n",
    "plt.legend()\n",
    "plt.show()\n",
    "\n",
    "# For ROC - AUC metric\n",
    "plt.figure(figsize=(12,8))\n",
    "plt.plot(mlp_history.history['auc'], label=\"AUC\")\n",
    "plt.plot(mlp_history.history['val_auc'], label=\"Val_AUC\")\n",
    "plt.xlabel(\"Epoch\")\n",
    "plt.ylabel(\"AUC\")\n",
    "plt.legend()\n",
    "plt.show()\n",
    "\n",
    "# For Accuracy metric\n",
    "plt.figure(figsize=(12,8))\n",
    "plt.plot(mlp_history.history['Accuracy'], label=\"Accuracy\")\n",
    "plt.plot(mlp_history.history['val_Accuracy'], label=\"Val_accuracy\")\n",
    "plt.xlabel(\"Epoch\")\n",
    "plt.ylabel(\"Accuracy\")\n",
    "plt.legend()\n",
    "plt.show()\n",
    "\n",
    "#ROC plot - this part is taken from plotly.express website.\n",
    "mlp_fpr, mlp_tpr, mlp_thresholds = roc_curve(ytest, y_pred)\n",
    "fig = px.area(\n",
    "    x=mlp_fpr, y=mlp_tpr,\n",
    "    title=f'Test ROC Curve (AUC={auc(mlp_fpr, mlp_tpr):.4f})',\n",
    "    labels=dict(x='False Positive Rate', y='True Positive Rate'),\n",
    "    width=700, height=500\n",
    ")\n",
    "fig.add_shape(\n",
    "    type='line', line=dict(dash='dash'),\n",
    "    x0=0, x1=1, y0=0, y1=1\n",
    ")\n",
    "\n",
    "fig.update_yaxes(scaleanchor=\"x\", scaleratio=1)\n",
    "fig.update_xaxes(constrain='domain')\n",
    "fig.show()"
   ]
  },
  {
   "cell_type": "markdown",
   "metadata": {},
   "source": [
    "**Evaluation Comments:** \n",
    "\n",
    " - While our base AUC is 0.5 and base accuracy is 0.79, The MLP Model has higher both AUC (learn AUC: 0.8894, test AUC: 0.8477) and accuracy (learn Acc: 0.8737, test Acc: 0.8540).\n",
    " - To deal with overfitting, only dropout layers were used since regularization methods gave worse results. \n",
    " - Early stopping was used to prevent computation overload. \n",
    " - In fit part, class weight was not used since it gave worse results. However, I will also try under sampling to improve the results in the following section.\n",
    " - Because of initialization, the number of epochs can change and as a result, the graphs change too. For example, sometimes the model loss starts from around 0.35 and stops at around 0.30 after a few epochs, but it gives similar AUC and accuracy results. \n",
    " - We still have a little bit overfitting issue. It may be improved by using regularization, dropout layers or decreasing nodes in hidden layers. However, I could not get better results by adding them into the model.\n",
    " "
   ]
  },
  {
   "cell_type": "markdown",
   "metadata": {},
   "source": [
    "### 5) Another Trial with a Sampling Method for Imbalanced Datasets\n",
    "\n",
    "For imbalanced datasets, some methods like class weight, over or under sampling can be applied to increase the metrics. At the first model, class_weight was tried and did not give better results. In this model, an undersampling method called TOMEKLinks is used. Oversampling methods like SMOTE were also tried. However, the slightly improved results obtained from TOMEK are given below. "
   ]
  },
  {
   "cell_type": "code",
   "execution_count": 32,
   "metadata": {},
   "outputs": [
    {
     "name": "stdout",
     "output_type": "stream",
     "text": [
      "Xtrain shape: (8000, 12), After sampling, Xtrain Shape: (7611, 12)\n",
      "After sampling, ytrain positive percent: 21.64\n"
     ]
    }
   ],
   "source": [
    "import imblearn # a library for dealing with imbalanced datasets\n",
    "#!pip install imbalanced-learn\n",
    "undersample = imblearn.under_sampling.TomekLinks()   \n",
    "\n",
    "# before training, I used TomekLinks\n",
    "Xtrain_new, ytrain_new = undersample.fit_resample(XtrainP, ytrain)\n",
    "XlearnS, XvalS, ylearnS, yvalS = train_test_split(Xtrain_new, ytrain_new, test_size = 0.20,\n",
    "                                              random_state = 1234,\n",
    "                                              stratify = ytrain_new, # still have imbalanced dataset\n",
    "                                              shuffle = True)\n",
    "\n",
    "print(f'Xtrain shape: {XtrainP.shape}, After sampling, Xtrain Shape: {Xtrain_new.shape}')\n",
    "print(f'After sampling, ytrain positive percent: {round((ytrain_new.value_counts()[1]/ytrain_new.shape[0])*100,2)}')"
   ]
  },
  {
   "cell_type": "code",
   "execution_count": 33,
   "metadata": {},
   "outputs": [
    {
     "name": "stdout",
     "output_type": "stream",
     "text": [
      "Epoch 1/200\n",
      "96/96 [==============================] - 0s 2ms/step - loss: 0.6622 - Accuracy: 0.6033 - auc: 0.5017 - val_loss: 0.5991 - val_Accuracy: 0.7479 - val_auc: 0.5268\n",
      "Epoch 2/200\n",
      "96/96 [==============================] - 0s 758us/step - loss: 0.5962 - Accuracy: 0.7305 - auc: 0.5054 - val_loss: 0.5479 - val_Accuracy: 0.7820 - val_auc: 0.5788\n",
      "Epoch 3/200\n",
      "96/96 [==============================] - 0s 761us/step - loss: 0.5510 - Accuracy: 0.7677 - auc: 0.5608 - val_loss: 0.5168 - val_Accuracy: 0.7833 - val_auc: 0.6403\n",
      "Epoch 4/200\n",
      "96/96 [==============================] - 0s 769us/step - loss: 0.5245 - Accuracy: 0.7791 - auc: 0.5990 - val_loss: 0.4967 - val_Accuracy: 0.7833 - val_auc: 0.6916\n",
      "Epoch 5/200\n",
      "96/96 [==============================] - 0s 760us/step - loss: 0.5071 - Accuracy: 0.7802 - auc: 0.6393 - val_loss: 0.4829 - val_Accuracy: 0.7833 - val_auc: 0.7244\n",
      "Epoch 6/200\n",
      "96/96 [==============================] - 0s 767us/step - loss: 0.4964 - Accuracy: 0.7820 - auc: 0.6612 - val_loss: 0.4724 - val_Accuracy: 0.7853 - val_auc: 0.7446\n",
      "Epoch 7/200\n",
      "96/96 [==============================] - 0s 767us/step - loss: 0.4835 - Accuracy: 0.7883 - auc: 0.6912 - val_loss: 0.4635 - val_Accuracy: 0.7853 - val_auc: 0.7576\n",
      "Epoch 8/200\n",
      "96/96 [==============================] - 0s 764us/step - loss: 0.4770 - Accuracy: 0.7896 - auc: 0.7048 - val_loss: 0.4561 - val_Accuracy: 0.7873 - val_auc: 0.7661\n",
      "Epoch 9/200\n",
      "96/96 [==============================] - 0s 768us/step - loss: 0.4706 - Accuracy: 0.7917 - auc: 0.7179 - val_loss: 0.4501 - val_Accuracy: 0.7899 - val_auc: 0.7723\n",
      "Epoch 10/200\n",
      "96/96 [==============================] - 0s 764us/step - loss: 0.4663 - Accuracy: 0.7947 - auc: 0.7245 - val_loss: 0.4449 - val_Accuracy: 0.7945 - val_auc: 0.7775\n",
      "Epoch 11/200\n",
      "96/96 [==============================] - 0s 760us/step - loss: 0.4628 - Accuracy: 0.7940 - auc: 0.7350 - val_loss: 0.4404 - val_Accuracy: 0.7991 - val_auc: 0.7817\n",
      "Epoch 12/200\n",
      "96/96 [==============================] - 0s 770us/step - loss: 0.4576 - Accuracy: 0.7973 - auc: 0.7428 - val_loss: 0.4366 - val_Accuracy: 0.8011 - val_auc: 0.7850\n",
      "Epoch 13/200\n",
      "96/96 [==============================] - 0s 762us/step - loss: 0.4542 - Accuracy: 0.8008 - auc: 0.7465 - val_loss: 0.4331 - val_Accuracy: 0.8076 - val_auc: 0.7883\n",
      "Epoch 14/200\n",
      "96/96 [==============================] - 0s 768us/step - loss: 0.4473 - Accuracy: 0.8011 - auc: 0.7589 - val_loss: 0.4297 - val_Accuracy: 0.8116 - val_auc: 0.7912\n",
      "Epoch 15/200\n",
      "96/96 [==============================] - 0s 764us/step - loss: 0.4468 - Accuracy: 0.8052 - auc: 0.7598 - val_loss: 0.4269 - val_Accuracy: 0.8168 - val_auc: 0.7944\n",
      "Epoch 16/200\n",
      "96/96 [==============================] - 0s 781us/step - loss: 0.4378 - Accuracy: 0.8101 - auc: 0.7735 - val_loss: 0.4242 - val_Accuracy: 0.8201 - val_auc: 0.7970\n",
      "Epoch 17/200\n",
      "96/96 [==============================] - 0s 807us/step - loss: 0.4368 - Accuracy: 0.8095 - auc: 0.7741 - val_loss: 0.4216 - val_Accuracy: 0.8214 - val_auc: 0.7993\n",
      "Epoch 18/200\n",
      "96/96 [==============================] - 0s 816us/step - loss: 0.4365 - Accuracy: 0.8106 - auc: 0.7739 - val_loss: 0.4193 - val_Accuracy: 0.8214 - val_auc: 0.8014\n",
      "Epoch 19/200\n",
      "96/96 [==============================] - 0s 791us/step - loss: 0.4326 - Accuracy: 0.8141 - auc: 0.7805 - val_loss: 0.4172 - val_Accuracy: 0.8253 - val_auc: 0.8032\n",
      "Epoch 20/200\n",
      "96/96 [==============================] - 0s 784us/step - loss: 0.4345 - Accuracy: 0.8160 - auc: 0.7754 - val_loss: 0.4152 - val_Accuracy: 0.8253 - val_auc: 0.8060\n",
      "Epoch 21/200\n",
      "96/96 [==============================] - 0s 776us/step - loss: 0.4248 - Accuracy: 0.8144 - auc: 0.7909 - val_loss: 0.4131 - val_Accuracy: 0.8260 - val_auc: 0.8076\n",
      "Epoch 22/200\n",
      "96/96 [==============================] - 0s 787us/step - loss: 0.4213 - Accuracy: 0.8213 - auc: 0.7932 - val_loss: 0.4111 - val_Accuracy: 0.8293 - val_auc: 0.8092\n",
      "Epoch 23/200\n",
      "96/96 [==============================] - 0s 779us/step - loss: 0.4192 - Accuracy: 0.8196 - auc: 0.7967 - val_loss: 0.4094 - val_Accuracy: 0.8280 - val_auc: 0.8110\n",
      "Epoch 24/200\n",
      "96/96 [==============================] - 0s 767us/step - loss: 0.4205 - Accuracy: 0.8213 - auc: 0.7940 - val_loss: 0.4076 - val_Accuracy: 0.8286 - val_auc: 0.8129\n",
      "Epoch 25/200\n",
      "96/96 [==============================] - 0s 778us/step - loss: 0.4168 - Accuracy: 0.8224 - auc: 0.7993 - val_loss: 0.4059 - val_Accuracy: 0.8293 - val_auc: 0.8141\n",
      "Epoch 26/200\n",
      "96/96 [==============================] - 0s 780us/step - loss: 0.4160 - Accuracy: 0.8229 - auc: 0.8011 - val_loss: 0.4042 - val_Accuracy: 0.8306 - val_auc: 0.8162\n",
      "Epoch 27/200\n",
      "96/96 [==============================] - 0s 787us/step - loss: 0.4135 - Accuracy: 0.8236 - auc: 0.8011 - val_loss: 0.4031 - val_Accuracy: 0.8313 - val_auc: 0.8175\n",
      "Epoch 28/200\n",
      "96/96 [==============================] - 0s 793us/step - loss: 0.4167 - Accuracy: 0.8269 - auc: 0.7959 - val_loss: 0.4014 - val_Accuracy: 0.8319 - val_auc: 0.8188\n",
      "Epoch 29/200\n",
      "96/96 [==============================] - 0s 794us/step - loss: 0.4135 - Accuracy: 0.8244 - auc: 0.8013 - val_loss: 0.4001 - val_Accuracy: 0.8326 - val_auc: 0.8203\n",
      "Epoch 30/200\n",
      "96/96 [==============================] - 0s 794us/step - loss: 0.4080 - Accuracy: 0.8300 - auc: 0.8085 - val_loss: 0.3986 - val_Accuracy: 0.8339 - val_auc: 0.8216\n",
      "Epoch 31/200\n",
      "96/96 [==============================] - 0s 796us/step - loss: 0.4090 - Accuracy: 0.8272 - auc: 0.8066 - val_loss: 0.3971 - val_Accuracy: 0.8352 - val_auc: 0.8230\n",
      "Epoch 32/200\n",
      "96/96 [==============================] - 0s 791us/step - loss: 0.4066 - Accuracy: 0.8282 - auc: 0.8092 - val_loss: 0.3956 - val_Accuracy: 0.8313 - val_auc: 0.8244\n",
      "Epoch 33/200\n",
      "96/96 [==============================] - 0s 797us/step - loss: 0.4047 - Accuracy: 0.8313 - auc: 0.8098 - val_loss: 0.3941 - val_Accuracy: 0.8326 - val_auc: 0.8256\n",
      "Epoch 34/200\n",
      "96/96 [==============================] - 0s 790us/step - loss: 0.4076 - Accuracy: 0.8331 - auc: 0.8081 - val_loss: 0.3927 - val_Accuracy: 0.8332 - val_auc: 0.8270\n",
      "Epoch 35/200\n",
      "96/96 [==============================] - 0s 792us/step - loss: 0.4057 - Accuracy: 0.8275 - auc: 0.8105 - val_loss: 0.3914 - val_Accuracy: 0.8365 - val_auc: 0.8284\n",
      "Epoch 36/200\n",
      "96/96 [==============================] - 0s 812us/step - loss: 0.3975 - Accuracy: 0.8307 - auc: 0.8194 - val_loss: 0.3901 - val_Accuracy: 0.8385 - val_auc: 0.8294\n",
      "Epoch 37/200\n",
      "96/96 [==============================] - 0s 783us/step - loss: 0.4007 - Accuracy: 0.8315 - auc: 0.8167 - val_loss: 0.3889 - val_Accuracy: 0.8385 - val_auc: 0.8306\n",
      "Epoch 38/200\n",
      "96/96 [==============================] - 0s 775us/step - loss: 0.4017 - Accuracy: 0.8284 - auc: 0.8149 - val_loss: 0.3879 - val_Accuracy: 0.8424 - val_auc: 0.8315\n",
      "Epoch 39/200\n",
      "96/96 [==============================] - 0s 774us/step - loss: 0.3930 - Accuracy: 0.8362 - auc: 0.8248 - val_loss: 0.3867 - val_Accuracy: 0.8431 - val_auc: 0.8329\n",
      "Epoch 40/200\n",
      "96/96 [==============================] - 0s 777us/step - loss: 0.4004 - Accuracy: 0.8341 - auc: 0.8145 - val_loss: 0.3856 - val_Accuracy: 0.8431 - val_auc: 0.8334\n",
      "Epoch 41/200\n",
      "96/96 [==============================] - 0s 782us/step - loss: 0.3921 - Accuracy: 0.8349 - auc: 0.8249 - val_loss: 0.3846 - val_Accuracy: 0.8431 - val_auc: 0.8341\n",
      "Epoch 42/200\n",
      "96/96 [==============================] - 0s 782us/step - loss: 0.3935 - Accuracy: 0.8330 - auc: 0.8240 - val_loss: 0.3836 - val_Accuracy: 0.8444 - val_auc: 0.8350\n",
      "Epoch 43/200\n",
      "96/96 [==============================] - 0s 779us/step - loss: 0.3932 - Accuracy: 0.8336 - auc: 0.8241 - val_loss: 0.3825 - val_Accuracy: 0.8444 - val_auc: 0.8356\n",
      "Epoch 44/200\n",
      "96/96 [==============================] - 0s 780us/step - loss: 0.3929 - Accuracy: 0.8320 - auc: 0.8235 - val_loss: 0.3816 - val_Accuracy: 0.8450 - val_auc: 0.8366\n",
      "Epoch 45/200\n",
      "96/96 [==============================] - 0s 781us/step - loss: 0.3928 - Accuracy: 0.8385 - auc: 0.8230 - val_loss: 0.3807 - val_Accuracy: 0.8444 - val_auc: 0.8375\n",
      "Epoch 46/200\n",
      "96/96 [==============================] - 0s 774us/step - loss: 0.3894 - Accuracy: 0.8366 - auc: 0.8289 - val_loss: 0.3798 - val_Accuracy: 0.8444 - val_auc: 0.8383\n",
      "Epoch 47/200\n",
      "96/96 [==============================] - 0s 786us/step - loss: 0.3862 - Accuracy: 0.8382 - auc: 0.8308 - val_loss: 0.3787 - val_Accuracy: 0.8470 - val_auc: 0.8393\n",
      "Epoch 48/200\n",
      "96/96 [==============================] - 0s 792us/step - loss: 0.3846 - Accuracy: 0.8433 - auc: 0.8312 - val_loss: 0.3778 - val_Accuracy: 0.8477 - val_auc: 0.8398\n",
      "Epoch 49/200\n",
      "96/96 [==============================] - 0s 807us/step - loss: 0.3868 - Accuracy: 0.8397 - auc: 0.8292 - val_loss: 0.3768 - val_Accuracy: 0.8483 - val_auc: 0.8407\n",
      "Epoch 50/200\n",
      "96/96 [==============================] - 0s 834us/step - loss: 0.3855 - Accuracy: 0.8412 - auc: 0.8321 - val_loss: 0.3762 - val_Accuracy: 0.8483 - val_auc: 0.8416\n",
      "Epoch 51/200\n",
      "96/96 [==============================] - 0s 805us/step - loss: 0.3869 - Accuracy: 0.8369 - auc: 0.8291 - val_loss: 0.3752 - val_Accuracy: 0.8516 - val_auc: 0.8423\n",
      "Epoch 52/200\n",
      "96/96 [==============================] - 0s 798us/step - loss: 0.3820 - Accuracy: 0.8412 - auc: 0.8329 - val_loss: 0.3745 - val_Accuracy: 0.8503 - val_auc: 0.8434\n",
      "Epoch 53/200\n",
      "96/96 [==============================] - 0s 794us/step - loss: 0.3874 - Accuracy: 0.8387 - auc: 0.8287 - val_loss: 0.3738 - val_Accuracy: 0.8503 - val_auc: 0.8437\n",
      "Epoch 54/200\n",
      "96/96 [==============================] - 0s 815us/step - loss: 0.3839 - Accuracy: 0.8387 - auc: 0.8326 - val_loss: 0.3732 - val_Accuracy: 0.8510 - val_auc: 0.8439\n",
      "Epoch 55/200\n",
      "96/96 [==============================] - 0s 811us/step - loss: 0.3815 - Accuracy: 0.8389 - auc: 0.8338 - val_loss: 0.3725 - val_Accuracy: 0.8516 - val_auc: 0.8443\n",
      "Epoch 56/200\n",
      "96/96 [==============================] - 0s 796us/step - loss: 0.3787 - Accuracy: 0.8420 - auc: 0.8363 - val_loss: 0.3718 - val_Accuracy: 0.8516 - val_auc: 0.8451\n",
      "Epoch 57/200\n",
      "96/96 [==============================] - 0s 807us/step - loss: 0.3757 - Accuracy: 0.8415 - auc: 0.8399 - val_loss: 0.3713 - val_Accuracy: 0.8516 - val_auc: 0.8457\n",
      "Epoch 58/200\n",
      "96/96 [==============================] - 0s 811us/step - loss: 0.3714 - Accuracy: 0.8469 - auc: 0.8448 - val_loss: 0.3704 - val_Accuracy: 0.8523 - val_auc: 0.8462\n",
      "Epoch 59/200\n",
      "96/96 [==============================] - 0s 812us/step - loss: 0.3776 - Accuracy: 0.8433 - auc: 0.8370 - val_loss: 0.3699 - val_Accuracy: 0.8536 - val_auc: 0.8466\n",
      "Epoch 60/200\n",
      "96/96 [==============================] - 0s 796us/step - loss: 0.3756 - Accuracy: 0.8461 - auc: 0.8403 - val_loss: 0.3692 - val_Accuracy: 0.8536 - val_auc: 0.8474\n",
      "Epoch 61/200\n",
      "96/96 [==============================] - 0s 804us/step - loss: 0.3757 - Accuracy: 0.8398 - auc: 0.8399 - val_loss: 0.3685 - val_Accuracy: 0.8542 - val_auc: 0.8479\n",
      "Epoch 62/200\n",
      "96/96 [==============================] - 0s 819us/step - loss: 0.3757 - Accuracy: 0.8476 - auc: 0.8389 - val_loss: 0.3676 - val_Accuracy: 0.8542 - val_auc: 0.8484\n",
      "Epoch 63/200\n",
      "96/96 [==============================] - 0s 823us/step - loss: 0.3763 - Accuracy: 0.8438 - auc: 0.8400 - val_loss: 0.3670 - val_Accuracy: 0.8549 - val_auc: 0.8488\n",
      "Epoch 64/200\n",
      "96/96 [==============================] - 0s 800us/step - loss: 0.3725 - Accuracy: 0.8446 - auc: 0.8422 - val_loss: 0.3665 - val_Accuracy: 0.8542 - val_auc: 0.8491\n",
      "Epoch 65/200\n",
      "96/96 [==============================] - 0s 797us/step - loss: 0.3772 - Accuracy: 0.8403 - auc: 0.8373 - val_loss: 0.3660 - val_Accuracy: 0.8555 - val_auc: 0.8496\n",
      "Epoch 66/200\n",
      "96/96 [==============================] - 0s 807us/step - loss: 0.3712 - Accuracy: 0.8479 - auc: 0.8430 - val_loss: 0.3654 - val_Accuracy: 0.8549 - val_auc: 0.8502\n",
      "Epoch 67/200\n",
      "96/96 [==============================] - 0s 823us/step - loss: 0.3720 - Accuracy: 0.8453 - auc: 0.8431 - val_loss: 0.3652 - val_Accuracy: 0.8555 - val_auc: 0.8500\n",
      "Epoch 68/200\n",
      "96/96 [==============================] - 0s 811us/step - loss: 0.3663 - Accuracy: 0.8497 - auc: 0.8468 - val_loss: 0.3646 - val_Accuracy: 0.8562 - val_auc: 0.8502\n",
      "Epoch 69/200\n",
      "96/96 [==============================] - 0s 786us/step - loss: 0.3765 - Accuracy: 0.8461 - auc: 0.8374 - val_loss: 0.3639 - val_Accuracy: 0.8575 - val_auc: 0.8510\n",
      "Epoch 70/200\n",
      "96/96 [==============================] - 0s 778us/step - loss: 0.3690 - Accuracy: 0.8497 - auc: 0.8455 - val_loss: 0.3634 - val_Accuracy: 0.8569 - val_auc: 0.8513\n",
      "Epoch 71/200\n",
      "96/96 [==============================] - 0s 792us/step - loss: 0.3713 - Accuracy: 0.8456 - auc: 0.8435 - val_loss: 0.3629 - val_Accuracy: 0.8569 - val_auc: 0.8516\n",
      "Epoch 72/200\n",
      "96/96 [==============================] - 0s 786us/step - loss: 0.3685 - Accuracy: 0.8436 - auc: 0.8479 - val_loss: 0.3626 - val_Accuracy: 0.8562 - val_auc: 0.8518\n",
      "Epoch 73/200\n",
      "96/96 [==============================] - 0s 784us/step - loss: 0.3647 - Accuracy: 0.8481 - auc: 0.8505 - val_loss: 0.3623 - val_Accuracy: 0.8562 - val_auc: 0.8520\n",
      "Epoch 74/200\n",
      "96/96 [==============================] - 0s 785us/step - loss: 0.3661 - Accuracy: 0.8487 - auc: 0.8482 - val_loss: 0.3617 - val_Accuracy: 0.8562 - val_auc: 0.8522\n",
      "Epoch 75/200\n",
      "96/96 [==============================] - 0s 790us/step - loss: 0.3685 - Accuracy: 0.8489 - auc: 0.8458 - val_loss: 0.3614 - val_Accuracy: 0.8562 - val_auc: 0.8526\n",
      "Epoch 76/200\n",
      "96/96 [==============================] - 0s 796us/step - loss: 0.3635 - Accuracy: 0.8515 - auc: 0.8505 - val_loss: 0.3610 - val_Accuracy: 0.8555 - val_auc: 0.8530\n",
      "Epoch 77/200\n",
      "96/96 [==============================] - 0s 823us/step - loss: 0.3670 - Accuracy: 0.8476 - auc: 0.8476 - val_loss: 0.3605 - val_Accuracy: 0.8555 - val_auc: 0.8531\n",
      "Epoch 78/200\n",
      "96/96 [==============================] - 0s 815us/step - loss: 0.3673 - Accuracy: 0.8507 - auc: 0.8478 - val_loss: 0.3602 - val_Accuracy: 0.8555 - val_auc: 0.8535\n",
      "Epoch 79/200\n",
      "96/96 [==============================] - 0s 816us/step - loss: 0.3642 - Accuracy: 0.8505 - auc: 0.8496 - val_loss: 0.3600 - val_Accuracy: 0.8555 - val_auc: 0.8537\n",
      "Epoch 80/200\n",
      "96/96 [==============================] - 0s 808us/step - loss: 0.3640 - Accuracy: 0.8474 - auc: 0.8501 - val_loss: 0.3594 - val_Accuracy: 0.8582 - val_auc: 0.8542\n",
      "Epoch 81/200\n",
      "96/96 [==============================] - 0s 823us/step - loss: 0.3663 - Accuracy: 0.8471 - auc: 0.8482 - val_loss: 0.3590 - val_Accuracy: 0.8562 - val_auc: 0.8546\n",
      "Epoch 82/200\n",
      "96/96 [==============================] - 0s 797us/step - loss: 0.3688 - Accuracy: 0.8461 - auc: 0.8465 - val_loss: 0.3588 - val_Accuracy: 0.8575 - val_auc: 0.8548\n",
      "Epoch 83/200\n",
      "96/96 [==============================] - 0s 817us/step - loss: 0.3653 - Accuracy: 0.8494 - auc: 0.8469 - val_loss: 0.3584 - val_Accuracy: 0.8582 - val_auc: 0.8547\n",
      "Epoch 84/200\n",
      "96/96 [==============================] - 0s 804us/step - loss: 0.3624 - Accuracy: 0.8505 - auc: 0.8523 - val_loss: 0.3581 - val_Accuracy: 0.8595 - val_auc: 0.8549\n",
      "Epoch 85/200\n",
      "96/96 [==============================] - 0s 777us/step - loss: 0.3595 - Accuracy: 0.8484 - auc: 0.8552 - val_loss: 0.3579 - val_Accuracy: 0.8595 - val_auc: 0.8553\n",
      "Epoch 86/200\n",
      "96/96 [==============================] - 0s 796us/step - loss: 0.3602 - Accuracy: 0.8563 - auc: 0.8511 - val_loss: 0.3578 - val_Accuracy: 0.8608 - val_auc: 0.8556\n",
      "Epoch 87/200\n",
      "96/96 [==============================] - 0s 806us/step - loss: 0.3577 - Accuracy: 0.8530 - auc: 0.8544 - val_loss: 0.3574 - val_Accuracy: 0.8601 - val_auc: 0.8555\n",
      "Epoch 88/200\n",
      "96/96 [==============================] - 0s 787us/step - loss: 0.3629 - Accuracy: 0.8523 - auc: 0.8491 - val_loss: 0.3568 - val_Accuracy: 0.8588 - val_auc: 0.8558\n",
      "Epoch 89/200\n",
      "96/96 [==============================] - 0s 784us/step - loss: 0.3625 - Accuracy: 0.8472 - auc: 0.8516 - val_loss: 0.3568 - val_Accuracy: 0.8608 - val_auc: 0.8561\n",
      "Epoch 90/200\n",
      "96/96 [==============================] - 0s 795us/step - loss: 0.3598 - Accuracy: 0.8487 - auc: 0.8535 - val_loss: 0.3566 - val_Accuracy: 0.8601 - val_auc: 0.8558\n",
      "Epoch 91/200\n",
      "96/96 [==============================] - 0s 797us/step - loss: 0.3580 - Accuracy: 0.8546 - auc: 0.8549 - val_loss: 0.3564 - val_Accuracy: 0.8595 - val_auc: 0.8561\n",
      "Epoch 92/200\n",
      "96/96 [==============================] - 0s 801us/step - loss: 0.3595 - Accuracy: 0.8497 - auc: 0.8544 - val_loss: 0.3561 - val_Accuracy: 0.8601 - val_auc: 0.8559\n",
      "Epoch 93/200\n",
      "96/96 [==============================] - 0s 819us/step - loss: 0.3641 - Accuracy: 0.8500 - auc: 0.8489 - val_loss: 0.3559 - val_Accuracy: 0.8601 - val_auc: 0.8565\n"
     ]
    },
    {
     "name": "stdout",
     "output_type": "stream",
     "text": [
      "Epoch 94/200\n",
      "96/96 [==============================] - 0s 805us/step - loss: 0.3573 - Accuracy: 0.8466 - auc: 0.8571 - val_loss: 0.3557 - val_Accuracy: 0.8601 - val_auc: 0.8565\n",
      "Epoch 95/200\n",
      "96/96 [==============================] - 0s 785us/step - loss: 0.3570 - Accuracy: 0.8523 - auc: 0.8559 - val_loss: 0.3555 - val_Accuracy: 0.8588 - val_auc: 0.8566\n",
      "Epoch 96/200\n",
      "96/96 [==============================] - 0s 812us/step - loss: 0.3582 - Accuracy: 0.8548 - auc: 0.8534 - val_loss: 0.3555 - val_Accuracy: 0.8588 - val_auc: 0.8566\n",
      "Epoch 97/200\n",
      "96/96 [==============================] - 0s 824us/step - loss: 0.3569 - Accuracy: 0.8533 - auc: 0.8554 - val_loss: 0.3554 - val_Accuracy: 0.8601 - val_auc: 0.8568\n",
      "Epoch 98/200\n",
      "96/96 [==============================] - 0s 817us/step - loss: 0.3569 - Accuracy: 0.8528 - auc: 0.8568 - val_loss: 0.3552 - val_Accuracy: 0.8582 - val_auc: 0.8569\n",
      "Epoch 99/200\n",
      "96/96 [==============================] - 0s 801us/step - loss: 0.3577 - Accuracy: 0.8522 - auc: 0.8543 - val_loss: 0.3551 - val_Accuracy: 0.8608 - val_auc: 0.8570\n",
      "Epoch 100/200\n",
      "96/96 [==============================] - 0s 820us/step - loss: 0.3561 - Accuracy: 0.8551 - auc: 0.8560 - val_loss: 0.3548 - val_Accuracy: 0.8601 - val_auc: 0.8570\n",
      "Epoch 101/200\n",
      "96/96 [==============================] - 0s 835us/step - loss: 0.3577 - Accuracy: 0.8535 - auc: 0.8543 - val_loss: 0.3547 - val_Accuracy: 0.8601 - val_auc: 0.8576\n",
      "Epoch 102/200\n",
      "96/96 [==============================] - 0s 815us/step - loss: 0.3563 - Accuracy: 0.8532 - auc: 0.8569 - val_loss: 0.3544 - val_Accuracy: 0.8601 - val_auc: 0.8576\n",
      "Epoch 103/200\n",
      "96/96 [==============================] - 0s 812us/step - loss: 0.3546 - Accuracy: 0.8550 - auc: 0.8581 - val_loss: 0.3545 - val_Accuracy: 0.8601 - val_auc: 0.8578\n",
      "Epoch 104/200\n",
      "96/96 [==============================] - 0s 812us/step - loss: 0.3576 - Accuracy: 0.8517 - auc: 0.8547 - val_loss: 0.3541 - val_Accuracy: 0.8588 - val_auc: 0.8581\n",
      "Epoch 105/200\n",
      "96/96 [==============================] - 0s 799us/step - loss: 0.3559 - Accuracy: 0.8502 - auc: 0.8580 - val_loss: 0.3539 - val_Accuracy: 0.8601 - val_auc: 0.8579\n",
      "Epoch 106/200\n",
      "96/96 [==============================] - 0s 813us/step - loss: 0.3537 - Accuracy: 0.8512 - auc: 0.8594 - val_loss: 0.3538 - val_Accuracy: 0.8601 - val_auc: 0.8582\n",
      "Epoch 107/200\n",
      "96/96 [==============================] - 0s 810us/step - loss: 0.3558 - Accuracy: 0.8535 - auc: 0.8551 - val_loss: 0.3535 - val_Accuracy: 0.8601 - val_auc: 0.8582\n",
      "Epoch 108/200\n",
      "96/96 [==============================] - 0s 803us/step - loss: 0.3533 - Accuracy: 0.8551 - auc: 0.8595 - val_loss: 0.3533 - val_Accuracy: 0.8595 - val_auc: 0.8582\n",
      "Epoch 109/200\n",
      "96/96 [==============================] - 0s 788us/step - loss: 0.3544 - Accuracy: 0.8541 - auc: 0.8569 - val_loss: 0.3530 - val_Accuracy: 0.8601 - val_auc: 0.8585\n",
      "Epoch 110/200\n",
      "96/96 [==============================] - 0s 784us/step - loss: 0.3510 - Accuracy: 0.8520 - auc: 0.8617 - val_loss: 0.3527 - val_Accuracy: 0.8615 - val_auc: 0.8587\n",
      "Epoch 111/200\n",
      "96/96 [==============================] - 0s 783us/step - loss: 0.3541 - Accuracy: 0.8536 - auc: 0.8600 - val_loss: 0.3526 - val_Accuracy: 0.8608 - val_auc: 0.8585\n",
      "Epoch 112/200\n",
      "96/96 [==============================] - 0s 783us/step - loss: 0.3546 - Accuracy: 0.8517 - auc: 0.8564 - val_loss: 0.3525 - val_Accuracy: 0.8601 - val_auc: 0.8586\n",
      "Epoch 113/200\n",
      "96/96 [==============================] - 0s 785us/step - loss: 0.3556 - Accuracy: 0.8513 - auc: 0.8548 - val_loss: 0.3523 - val_Accuracy: 0.8608 - val_auc: 0.8590\n",
      "Epoch 114/200\n",
      "96/96 [==============================] - 0s 787us/step - loss: 0.3512 - Accuracy: 0.8555 - auc: 0.8597 - val_loss: 0.3523 - val_Accuracy: 0.8608 - val_auc: 0.8590\n",
      "Epoch 115/200\n",
      "96/96 [==============================] - 0s 794us/step - loss: 0.3534 - Accuracy: 0.8561 - auc: 0.8573 - val_loss: 0.3521 - val_Accuracy: 0.8615 - val_auc: 0.8590\n",
      "Epoch 116/200\n",
      "96/96 [==============================] - 0s 788us/step - loss: 0.3494 - Accuracy: 0.8589 - auc: 0.8613 - val_loss: 0.3520 - val_Accuracy: 0.8615 - val_auc: 0.8589\n",
      "Epoch 117/200\n",
      "96/96 [==============================] - 0s 784us/step - loss: 0.3489 - Accuracy: 0.8571 - auc: 0.8627 - val_loss: 0.3518 - val_Accuracy: 0.8608 - val_auc: 0.8591\n",
      "Epoch 118/200\n",
      "96/96 [==============================] - 0s 792us/step - loss: 0.3496 - Accuracy: 0.8555 - auc: 0.8613 - val_loss: 0.3517 - val_Accuracy: 0.8615 - val_auc: 0.8595\n",
      "Epoch 119/200\n",
      "96/96 [==============================] - 0s 783us/step - loss: 0.3516 - Accuracy: 0.8551 - auc: 0.8584 - val_loss: 0.3515 - val_Accuracy: 0.8601 - val_auc: 0.8598\n",
      "Epoch 120/200\n",
      "96/96 [==============================] - 0s 785us/step - loss: 0.3558 - Accuracy: 0.8587 - auc: 0.8560 - val_loss: 0.3515 - val_Accuracy: 0.8601 - val_auc: 0.8596\n",
      "Epoch 121/200\n",
      "96/96 [==============================] - 0s 790us/step - loss: 0.3504 - Accuracy: 0.8551 - auc: 0.8586 - val_loss: 0.3513 - val_Accuracy: 0.8588 - val_auc: 0.8596\n",
      "Epoch 122/200\n",
      "96/96 [==============================] - 0s 791us/step - loss: 0.3487 - Accuracy: 0.8578 - auc: 0.8619 - val_loss: 0.3511 - val_Accuracy: 0.8595 - val_auc: 0.8600\n",
      "Epoch 123/200\n",
      "96/96 [==============================] - 0s 785us/step - loss: 0.3548 - Accuracy: 0.8527 - auc: 0.8565 - val_loss: 0.3511 - val_Accuracy: 0.8595 - val_auc: 0.8599\n",
      "Epoch 124/200\n",
      "96/96 [==============================] - 0s 789us/step - loss: 0.3531 - Accuracy: 0.8520 - auc: 0.8593 - val_loss: 0.3509 - val_Accuracy: 0.8595 - val_auc: 0.8598\n",
      "Epoch 125/200\n",
      "96/96 [==============================] - 0s 785us/step - loss: 0.3477 - Accuracy: 0.8566 - auc: 0.8633 - val_loss: 0.3507 - val_Accuracy: 0.8608 - val_auc: 0.8599\n",
      "Epoch 126/200\n",
      "96/96 [==============================] - 0s 777us/step - loss: 0.3498 - Accuracy: 0.8576 - auc: 0.8611 - val_loss: 0.3508 - val_Accuracy: 0.8601 - val_auc: 0.8600\n",
      "Epoch 127/200\n",
      "96/96 [==============================] - 0s 778us/step - loss: 0.3479 - Accuracy: 0.8550 - auc: 0.8639 - val_loss: 0.3505 - val_Accuracy: 0.8608 - val_auc: 0.8604\n",
      "Epoch 128/200\n",
      "96/96 [==============================] - 0s 785us/step - loss: 0.3483 - Accuracy: 0.8558 - auc: 0.8634 - val_loss: 0.3504 - val_Accuracy: 0.8608 - val_auc: 0.8606\n",
      "Epoch 129/200\n",
      "96/96 [==============================] - 0s 810us/step - loss: 0.3488 - Accuracy: 0.8573 - auc: 0.8623 - val_loss: 0.3503 - val_Accuracy: 0.8601 - val_auc: 0.8607\n",
      "Epoch 130/200\n",
      "96/96 [==============================] - 0s 811us/step - loss: 0.3479 - Accuracy: 0.8581 - auc: 0.8626 - val_loss: 0.3500 - val_Accuracy: 0.8601 - val_auc: 0.8607\n",
      "Epoch 131/200\n",
      "96/96 [==============================] - 0s 807us/step - loss: 0.3472 - Accuracy: 0.8581 - auc: 0.8628 - val_loss: 0.3501 - val_Accuracy: 0.8601 - val_auc: 0.8610\n",
      "Epoch 132/200\n",
      "96/96 [==============================] - 0s 809us/step - loss: 0.3586 - Accuracy: 0.8494 - auc: 0.8554 - val_loss: 0.3500 - val_Accuracy: 0.8608 - val_auc: 0.8608\n",
      "Epoch 133/200\n",
      "96/96 [==============================] - 0s 801us/step - loss: 0.3515 - Accuracy: 0.8564 - auc: 0.8613 - val_loss: 0.3499 - val_Accuracy: 0.8608 - val_auc: 0.8610\n",
      "Epoch 134/200\n",
      "96/96 [==============================] - 0s 808us/step - loss: 0.3505 - Accuracy: 0.8532 - auc: 0.8623 - val_loss: 0.3499 - val_Accuracy: 0.8608 - val_auc: 0.8610\n",
      "Epoch 135/200\n",
      "96/96 [==============================] - 0s 825us/step - loss: 0.3457 - Accuracy: 0.8564 - auc: 0.8661 - val_loss: 0.3499 - val_Accuracy: 0.8601 - val_auc: 0.8611\n",
      "Epoch 136/200\n",
      "96/96 [==============================] - 0s 824us/step - loss: 0.3452 - Accuracy: 0.8543 - auc: 0.8660 - val_loss: 0.3497 - val_Accuracy: 0.8608 - val_auc: 0.8613\n",
      "Epoch 137/200\n",
      "96/96 [==============================] - 0s 816us/step - loss: 0.3525 - Accuracy: 0.8558 - auc: 0.8604 - val_loss: 0.3495 - val_Accuracy: 0.8615 - val_auc: 0.8615\n",
      "Epoch 138/200\n",
      "96/96 [==============================] - 0s 795us/step - loss: 0.3486 - Accuracy: 0.8536 - auc: 0.8636 - val_loss: 0.3494 - val_Accuracy: 0.8608 - val_auc: 0.8611\n",
      "Epoch 139/200\n",
      "96/96 [==============================] - 0s 804us/step - loss: 0.3471 - Accuracy: 0.8530 - auc: 0.8644 - val_loss: 0.3491 - val_Accuracy: 0.8601 - val_auc: 0.8615\n",
      "Epoch 140/200\n",
      "96/96 [==============================] - 0s 802us/step - loss: 0.3447 - Accuracy: 0.8607 - auc: 0.8664 - val_loss: 0.3492 - val_Accuracy: 0.8608 - val_auc: 0.8613\n",
      "Epoch 141/200\n",
      "96/96 [==============================] - 0s 788us/step - loss: 0.3470 - Accuracy: 0.8564 - auc: 0.8641 - val_loss: 0.3491 - val_Accuracy: 0.8608 - val_auc: 0.8614\n",
      "Epoch 142/200\n",
      "96/96 [==============================] - 0s 835us/step - loss: 0.3483 - Accuracy: 0.8594 - auc: 0.8618 - val_loss: 0.3488 - val_Accuracy: 0.8621 - val_auc: 0.8617\n",
      "Epoch 143/200\n",
      "96/96 [==============================] - 0s 821us/step - loss: 0.3466 - Accuracy: 0.8548 - auc: 0.8658 - val_loss: 0.3487 - val_Accuracy: 0.8615 - val_auc: 0.8621\n",
      "Epoch 144/200\n",
      "96/96 [==============================] - 0s 807us/step - loss: 0.3462 - Accuracy: 0.8559 - auc: 0.8672 - val_loss: 0.3487 - val_Accuracy: 0.8615 - val_auc: 0.8616\n",
      "Epoch 145/200\n",
      "96/96 [==============================] - 0s 823us/step - loss: 0.3453 - Accuracy: 0.8573 - auc: 0.8641 - val_loss: 0.3488 - val_Accuracy: 0.8601 - val_auc: 0.8620\n",
      "Epoch 146/200\n",
      "96/96 [==============================] - 0s 897us/step - loss: 0.3403 - Accuracy: 0.8574 - auc: 0.8702 - val_loss: 0.3485 - val_Accuracy: 0.8608 - val_auc: 0.8621\n",
      "Epoch 147/200\n",
      "96/96 [==============================] - 0s 916us/step - loss: 0.3461 - Accuracy: 0.8579 - auc: 0.8643 - val_loss: 0.3485 - val_Accuracy: 0.8601 - val_auc: 0.8619\n",
      "Epoch 148/200\n",
      "96/96 [==============================] - 0s 920us/step - loss: 0.3463 - Accuracy: 0.8579 - auc: 0.8643 - val_loss: 0.3482 - val_Accuracy: 0.8615 - val_auc: 0.8622\n",
      "Epoch 149/200\n",
      "96/96 [==============================] - 0s 845us/step - loss: 0.3512 - Accuracy: 0.8568 - auc: 0.8613 - val_loss: 0.3481 - val_Accuracy: 0.8608 - val_auc: 0.8626\n",
      "Epoch 150/200\n",
      "96/96 [==============================] - 0s 834us/step - loss: 0.3443 - Accuracy: 0.8563 - auc: 0.8658 - val_loss: 0.3482 - val_Accuracy: 0.8608 - val_auc: 0.8624\n",
      "Epoch 151/200\n",
      "96/96 [==============================] - 0s 838us/step - loss: 0.3459 - Accuracy: 0.8594 - auc: 0.8656 - val_loss: 0.3482 - val_Accuracy: 0.8608 - val_auc: 0.8627\n",
      "Epoch 152/200\n",
      "96/96 [==============================] - 0s 827us/step - loss: 0.3398 - Accuracy: 0.8619 - auc: 0.8690 - val_loss: 0.3480 - val_Accuracy: 0.8601 - val_auc: 0.8628\n",
      "Epoch 153/200\n",
      "96/96 [==============================] - 0s 852us/step - loss: 0.3408 - Accuracy: 0.8643 - auc: 0.8695 - val_loss: 0.3480 - val_Accuracy: 0.8615 - val_auc: 0.8625\n",
      "Epoch 154/200\n",
      "96/96 [==============================] - 0s 846us/step - loss: 0.3448 - Accuracy: 0.8574 - auc: 0.8667 - val_loss: 0.3479 - val_Accuracy: 0.8615 - val_auc: 0.8630\n",
      "Epoch 155/200\n",
      "96/96 [==============================] - 0s 776us/step - loss: 0.3457 - Accuracy: 0.8541 - auc: 0.8666 - val_loss: 0.3478 - val_Accuracy: 0.8615 - val_auc: 0.8630\n",
      "Epoch 156/200\n",
      "96/96 [==============================] - 0s 812us/step - loss: 0.3461 - Accuracy: 0.8573 - auc: 0.8666 - val_loss: 0.3477 - val_Accuracy: 0.8608 - val_auc: 0.8631\n",
      "Epoch 157/200\n",
      "96/96 [==============================] - 0s 818us/step - loss: 0.3499 - Accuracy: 0.8592 - auc: 0.8624 - val_loss: 0.3477 - val_Accuracy: 0.8621 - val_auc: 0.8628\n",
      "Epoch 158/200\n",
      "96/96 [==============================] - 0s 822us/step - loss: 0.3446 - Accuracy: 0.8563 - auc: 0.8653 - val_loss: 0.3476 - val_Accuracy: 0.8601 - val_auc: 0.8631\n",
      "Epoch 159/200\n",
      "96/96 [==============================] - 0s 813us/step - loss: 0.3445 - Accuracy: 0.8601 - auc: 0.8649 - val_loss: 0.3477 - val_Accuracy: 0.8608 - val_auc: 0.8629\n",
      "Epoch 160/200\n",
      "96/96 [==============================] - 0s 793us/step - loss: 0.3451 - Accuracy: 0.8564 - auc: 0.8648 - val_loss: 0.3476 - val_Accuracy: 0.8628 - val_auc: 0.8631\n",
      "Epoch 161/200\n",
      "96/96 [==============================] - 0s 833us/step - loss: 0.3419 - Accuracy: 0.8612 - auc: 0.8687 - val_loss: 0.3475 - val_Accuracy: 0.8608 - val_auc: 0.8631\n",
      "Epoch 162/200\n",
      "96/96 [==============================] - 0s 815us/step - loss: 0.3476 - Accuracy: 0.8601 - auc: 0.8643 - val_loss: 0.3477 - val_Accuracy: 0.8615 - val_auc: 0.8626\n",
      "Epoch 163/200\n",
      "96/96 [==============================] - 0s 815us/step - loss: 0.3432 - Accuracy: 0.8586 - auc: 0.8656 - val_loss: 0.3474 - val_Accuracy: 0.8608 - val_auc: 0.8630\n",
      "Epoch 164/200\n",
      "96/96 [==============================] - 0s 802us/step - loss: 0.3434 - Accuracy: 0.8571 - auc: 0.8671 - val_loss: 0.3471 - val_Accuracy: 0.8608 - val_auc: 0.8633\n",
      "Epoch 165/200\n",
      "96/96 [==============================] - 0s 804us/step - loss: 0.3439 - Accuracy: 0.8569 - auc: 0.8661 - val_loss: 0.3469 - val_Accuracy: 0.8608 - val_auc: 0.8632\n",
      "Epoch 166/200\n",
      "96/96 [==============================] - 0s 817us/step - loss: 0.3465 - Accuracy: 0.8591 - auc: 0.8653 - val_loss: 0.3469 - val_Accuracy: 0.8621 - val_auc: 0.8632\n",
      "Epoch 167/200\n",
      "96/96 [==============================] - 0s 817us/step - loss: 0.3426 - Accuracy: 0.8589 - auc: 0.8677 - val_loss: 0.3468 - val_Accuracy: 0.8615 - val_auc: 0.8639\n",
      "Epoch 168/200\n",
      "96/96 [==============================] - 0s 795us/step - loss: 0.3434 - Accuracy: 0.8592 - auc: 0.8667 - val_loss: 0.3466 - val_Accuracy: 0.8621 - val_auc: 0.8639\n",
      "Epoch 169/200\n",
      "96/96 [==============================] - 0s 790us/step - loss: 0.3433 - Accuracy: 0.8610 - auc: 0.8681 - val_loss: 0.3465 - val_Accuracy: 0.8615 - val_auc: 0.8637\n",
      "Epoch 170/200\n",
      "96/96 [==============================] - 0s 793us/step - loss: 0.3413 - Accuracy: 0.8601 - auc: 0.8693 - val_loss: 0.3466 - val_Accuracy: 0.8608 - val_auc: 0.8640\n",
      "Epoch 171/200\n",
      "96/96 [==============================] - 0s 803us/step - loss: 0.3398 - Accuracy: 0.8543 - auc: 0.8699 - val_loss: 0.3465 - val_Accuracy: 0.8621 - val_auc: 0.8640\n",
      "Epoch 172/200\n",
      "96/96 [==============================] - 0s 816us/step - loss: 0.3393 - Accuracy: 0.8604 - auc: 0.8708 - val_loss: 0.3464 - val_Accuracy: 0.8621 - val_auc: 0.8644\n",
      "Epoch 173/200\n",
      "96/96 [==============================] - 0s 816us/step - loss: 0.3456 - Accuracy: 0.8571 - auc: 0.8650 - val_loss: 0.3464 - val_Accuracy: 0.8608 - val_auc: 0.8643\n",
      "Epoch 174/200\n",
      "96/96 [==============================] - 0s 815us/step - loss: 0.3420 - Accuracy: 0.8624 - auc: 0.8663 - val_loss: 0.3463 - val_Accuracy: 0.8601 - val_auc: 0.8643\n",
      "Epoch 175/200\n",
      "96/96 [==============================] - 0s 820us/step - loss: 0.3454 - Accuracy: 0.8550 - auc: 0.8659 - val_loss: 0.3463 - val_Accuracy: 0.8615 - val_auc: 0.8644\n",
      "Epoch 176/200\n",
      "96/96 [==============================] - 0s 813us/step - loss: 0.3416 - Accuracy: 0.8637 - auc: 0.8688 - val_loss: 0.3462 - val_Accuracy: 0.8628 - val_auc: 0.8646\n",
      "Epoch 177/200\n",
      "96/96 [==============================] - 0s 798us/step - loss: 0.3430 - Accuracy: 0.8592 - auc: 0.8653 - val_loss: 0.3459 - val_Accuracy: 0.8621 - val_auc: 0.8645\n",
      "Epoch 178/200\n",
      "96/96 [==============================] - 0s 807us/step - loss: 0.3435 - Accuracy: 0.8594 - auc: 0.8670 - val_loss: 0.3459 - val_Accuracy: 0.8608 - val_auc: 0.8645\n",
      "Epoch 179/200\n",
      "96/96 [==============================] - 0s 812us/step - loss: 0.3457 - Accuracy: 0.8558 - auc: 0.8639 - val_loss: 0.3459 - val_Accuracy: 0.8621 - val_auc: 0.8649\n",
      "Epoch 180/200\n",
      "96/96 [==============================] - 0s 803us/step - loss: 0.3415 - Accuracy: 0.8582 - auc: 0.8707 - val_loss: 0.3458 - val_Accuracy: 0.8621 - val_auc: 0.8650\n",
      "Epoch 181/200\n",
      "96/96 [==============================] - 0s 784us/step - loss: 0.3440 - Accuracy: 0.8619 - auc: 0.8660 - val_loss: 0.3459 - val_Accuracy: 0.8608 - val_auc: 0.8643\n",
      "Epoch 182/200\n",
      "96/96 [==============================] - 0s 780us/step - loss: 0.3398 - Accuracy: 0.8622 - auc: 0.8703 - val_loss: 0.3459 - val_Accuracy: 0.8601 - val_auc: 0.8646\n",
      "Epoch 183/200\n",
      "96/96 [==============================] - 0s 790us/step - loss: 0.3419 - Accuracy: 0.8612 - auc: 0.8679 - val_loss: 0.3458 - val_Accuracy: 0.8608 - val_auc: 0.8647\n",
      "Epoch 184/200\n",
      "96/96 [==============================] - 0s 789us/step - loss: 0.3366 - Accuracy: 0.8622 - auc: 0.8727 - val_loss: 0.3455 - val_Accuracy: 0.8628 - val_auc: 0.8647\n",
      "Epoch 185/200\n",
      "96/96 [==============================] - 0s 787us/step - loss: 0.3423 - Accuracy: 0.8604 - auc: 0.8695 - val_loss: 0.3457 - val_Accuracy: 0.8621 - val_auc: 0.8649\n",
      "Epoch 186/200\n"
     ]
    },
    {
     "name": "stdout",
     "output_type": "stream",
     "text": [
      "96/96 [==============================] - 0s 797us/step - loss: 0.3406 - Accuracy: 0.8540 - auc: 0.8699 - val_loss: 0.3455 - val_Accuracy: 0.8621 - val_auc: 0.8646\n",
      "Epoch 187/200\n",
      "96/96 [==============================] - 0s 774us/step - loss: 0.3431 - Accuracy: 0.8566 - auc: 0.8666 - val_loss: 0.3456 - val_Accuracy: 0.8615 - val_auc: 0.8650\n",
      "Epoch 188/200\n",
      "96/96 [==============================] - 0s 788us/step - loss: 0.3416 - Accuracy: 0.8589 - auc: 0.8690 - val_loss: 0.3455 - val_Accuracy: 0.8615 - val_auc: 0.8650\n",
      "Epoch 189/200\n",
      "96/96 [==============================] - 0s 776us/step - loss: 0.3402 - Accuracy: 0.8602 - auc: 0.8681 - val_loss: 0.3453 - val_Accuracy: 0.8615 - val_auc: 0.8649\n",
      "Epoch 190/200\n",
      "96/96 [==============================] - 0s 780us/step - loss: 0.3375 - Accuracy: 0.8609 - auc: 0.8722 - val_loss: 0.3453 - val_Accuracy: 0.8615 - val_auc: 0.8648\n",
      "Epoch 191/200\n",
      "96/96 [==============================] - 0s 773us/step - loss: 0.3414 - Accuracy: 0.8619 - auc: 0.8694 - val_loss: 0.3454 - val_Accuracy: 0.8615 - val_auc: 0.8646\n",
      "Epoch 192/200\n",
      "96/96 [==============================] - 0s 775us/step - loss: 0.3333 - Accuracy: 0.8624 - auc: 0.8759 - val_loss: 0.3453 - val_Accuracy: 0.8615 - val_auc: 0.8648\n",
      "Epoch 193/200\n",
      "96/96 [==============================] - 0s 778us/step - loss: 0.3362 - Accuracy: 0.8614 - auc: 0.8724 - val_loss: 0.3451 - val_Accuracy: 0.8621 - val_auc: 0.8649\n",
      "Epoch 194/200\n",
      "96/96 [==============================] - 0s 768us/step - loss: 0.3354 - Accuracy: 0.8627 - auc: 0.8748 - val_loss: 0.3451 - val_Accuracy: 0.8621 - val_auc: 0.8649\n",
      "Epoch 195/200\n",
      "96/96 [==============================] - 0s 773us/step - loss: 0.3385 - Accuracy: 0.8578 - auc: 0.8706 - val_loss: 0.3451 - val_Accuracy: 0.8608 - val_auc: 0.8652\n",
      "Epoch 196/200\n",
      "96/96 [==============================] - 0s 770us/step - loss: 0.3368 - Accuracy: 0.8604 - auc: 0.8732 - val_loss: 0.3451 - val_Accuracy: 0.8615 - val_auc: 0.8652\n",
      "Epoch 197/200\n",
      "96/96 [==============================] - 0s 774us/step - loss: 0.3406 - Accuracy: 0.8645 - auc: 0.8689 - val_loss: 0.3450 - val_Accuracy: 0.8615 - val_auc: 0.8649\n",
      "Epoch 198/200\n",
      "96/96 [==============================] - 0s 769us/step - loss: 0.3401 - Accuracy: 0.8614 - auc: 0.8715 - val_loss: 0.3449 - val_Accuracy: 0.8608 - val_auc: 0.8653\n",
      "Epoch 199/200\n",
      "96/96 [==============================] - 0s 783us/step - loss: 0.3439 - Accuracy: 0.8571 - auc: 0.8659 - val_loss: 0.3450 - val_Accuracy: 0.8628 - val_auc: 0.8648\n",
      "Epoch 200/200\n",
      "96/96 [==============================] - 0s 782us/step - loss: 0.3334 - Accuracy: 0.8647 - auc: 0.8743 - val_loss: 0.3450 - val_Accuracy: 0.8608 - val_auc: 0.8650\n"
     ]
    }
   ],
   "source": [
    "# The same model is created. Only data are different. \n",
    "mlp_model_sampling= keras.models.Sequential([\n",
    "    keras.layers.Input(name = \"input\", shape = (Xlearn.shape[1],)),\n",
    "    keras.layers.Dense(50, name = \"second_relu\", activation = \"relu\"),\n",
    "    keras.layers.Dropout(rate = 0.2),\n",
    "    keras.layers.Dense(25, name = \"third_relu\", activation = \"relu\"),\n",
    "    keras.layers.Dropout(rate = 0.2),\n",
    "    keras.layers.Dense(1, name = \"output\", activation = \"sigmoid\") \n",
    "])\n",
    "\n",
    "mlp_model_sampling.compile(loss = \"binary_crossentropy\",\n",
    "                  optimizer = keras.optimizers.Adam(learning_rate = 0.0001),\n",
    "                  metrics = [\"Accuracy\", \"AUC\"])\n",
    "# early stopping \n",
    "early_stopping1 = keras.callbacks.EarlyStopping(monitor = \"val_loss\", patience = 10,\n",
    "                                              restore_best_weights = True, \n",
    "                                              mode = 'auto' ) \n",
    "\n",
    "# Fit operation \n",
    "start = time.time()\n",
    "mlp_history_sampling = mlp_model_sampling.fit(XlearnS, ylearnS,\n",
    "                            epochs = 200,\n",
    "                            batch_size = 64,\n",
    "                            callbacks = [early_stopping1],\n",
    "                            verbose = 1,\n",
    "                            validation_data = (XvalS, yvalS))\n",
    "end = time.time()\n",
    "mlps_model_time_diff = round((end - start),2) # time difference to obtain the run time. (performance consideration) "
   ]
  },
  {
   "cell_type": "code",
   "execution_count": 35,
   "metadata": {
    "scrolled": false
   },
   "outputs": [
    {
     "name": "stdout",
     "output_type": "stream",
     "text": [
      "After sampling, MLP Model Time Difference: 16.05 seconds\n",
      "\n",
      "191/191 [==============================] - 0s 401us/step - loss: 0.3250 - Accuracy: 0.8663 - auc: 0.8820\n",
      "[0.3249720633029938, 0.8662943243980408, 0.8820083141326904]\n",
      "48/48 [==============================] - 0s 456us/step - loss: 0.3342 - Accuracy: 0.8621 - auc: 0.8763\n",
      "[0.3342036008834839, 0.8621142506599426, 0.8763062953948975]\n",
      "63/63 [==============================] - 0s 423us/step - loss: 0.3501 - Accuracy: 0.8555 - auc: 0.8404\n",
      "[0.35014715790748596, 0.8554999828338623, 0.840394139289856]\n",
      "63/63 [==============================] - 0s 324us/step\n"
     ]
    },
    {
     "data": {
      "image/png": "[encoded data removed]",
      "text/plain": [
       "<Figure size 1200x800 with 1 Axes>"
      ]
     },
     "metadata": {},
     "output_type": "display_data"
    },
    {
     "data": {
      "image/png": "[encoded data removed]",
      "text/plain": [
       "<Figure size 1200x800 with 1 Axes>"
      ]
     },
     "metadata": {},
     "output_type": "display_data"
    },
    {
     "data": {
      "image/png": "[encoded data removed]",
      "text/plain": [
       "<Figure size 1200x800 with 1 Axes>"
      ]
     },
     "metadata": {},
     "output_type": "display_data"
    },
    {
     "data": {
      "application/vnd.plotly.v1+json": {
       "config": {
        "plotlyServerURL": "https://plot.ly"
       },
       "data": [
        {
         "fillpattern": {
          "shape": ""
         },
         "hovertemplate": "False Positive Rate=%{x}<br>True Positive Rate=%{y}<extra></extra>",
         "legendgroup": "",
         "line": {
          "color": "#636efa"
         },
         "marker": {
          "symbol": "circle"
         },
         "mode": "lines",
         "name": "",
         "orientation": "v",
         "showlegend": false,
         "stackgroup": "1",
         "type": "scatter",
         "x": [
          0,
          0,
          0,
          0.0006211180124223603,
          0.0006211180124223603,
          0.0012422360248447205,
          0.0012422360248447205,
          0.0018633540372670807,
          0.0018633540372670807,
          0.002484472049689441,
          0.002484472049689441,
          0.003105590062111801,
          0.003105590062111801,
          0.0037267080745341614,
          0.0037267080745341614,
          0.004347826086956522,
          0.004347826086956522,
          0.004968944099378882,
          0.004968944099378882,
          0.0055900621118012426,
          0.0055900621118012426,
          0.006211180124223602,
          0.006211180124223602,
          0.007453416149068323,
          0.007453416149068323,
          0.008074534161490683,
          0.008074534161490683,
          0.008695652173913044,
          0.008695652173913044,
          0.009316770186335404,
          0.009316770186335404,
          0.010559006211180125,
          0.010559006211180125,
          0.011801242236024845,
          0.011801242236024845,
          0.012422360248447204,
          0.012422360248447204,
          0.013664596273291925,
          0.013664596273291925,
          0.014906832298136646,
          0.014906832298136646,
          0.015527950310559006,
          0.015527950310559006,
          0.017391304347826087,
          0.017391304347826087,
          0.018012422360248446,
          0.018012422360248446,
          0.018633540372670808,
          0.018633540372670808,
          0.019254658385093167,
          0.019254658385093167,
          0.02111801242236025,
          0.02111801242236025,
          0.021739130434782608,
          0.021739130434782608,
          0.02360248447204969,
          0.02360248447204969,
          0.024844720496894408,
          0.024844720496894408,
          0.02981366459627329,
          0.02981366459627329,
          0.031055900621118012,
          0.031055900621118012,
          0.03229813664596273,
          0.03229813664596273,
          0.034161490683229816,
          0.034161490683229816,
          0.034782608695652174,
          0.034782608695652174,
          0.03602484472049689,
          0.03602484472049689,
          0.03664596273291926,
          0.03664596273291926,
          0.037888198757763975,
          0.037888198757763975,
          0.0391304347826087,
          0.0391304347826087,
          0.040993788819875775,
          0.040993788819875775,
          0.0422360248447205,
          0.0422360248447205,
          0.04596273291925466,
          0.04596273291925466,
          0.04782608695652174,
          0.04782608695652174,
          0.0515527950310559,
          0.0515527950310559,
          0.05217391304347826,
          0.05217391304347826,
          0.05403726708074534,
          0.05403726708074534,
          0.055900621118012424,
          0.055900621118012424,
          0.05652173913043478,
          0.05652173913043478,
          0.059006211180124224,
          0.059006211180124224,
          0.05962732919254658,
          0.05962732919254658,
          0.06086956521739131,
          0.06086956521739131,
          0.06583850931677018,
          0.06583850931677018,
          0.0670807453416149,
          0.0670807453416149,
          0.06832298136645963,
          0.06832298136645963,
          0.06956521739130435,
          0.06956521739130435,
          0.07080745341614907,
          0.07080745341614907,
          0.07142857142857142,
          0.07142857142857142,
          0.07329192546583851,
          0.07329192546583851,
          0.07515527950310559,
          0.07515527950310559,
          0.07639751552795031,
          0.07639751552795031,
          0.07701863354037267,
          0.07701863354037267,
          0.0782608695652174,
          0.0782608695652174,
          0.08074534161490683,
          0.08074534161490683,
          0.08136645962732919,
          0.08136645962732919,
          0.08198757763975155,
          0.08198757763975155,
          0.08322981366459627,
          0.08322981366459627,
          0.084472049689441,
          0.084472049689441,
          0.08509316770186336,
          0.08509316770186336,
          0.08633540372670807,
          0.08633540372670807,
          0.08944099378881988,
          0.08944099378881988,
          0.0906832298136646,
          0.0906832298136646,
          0.09130434782608696,
          0.09130434782608696,
          0.09192546583850932,
          0.09192546583850932,
          0.09440993788819876,
          0.09440993788819876,
          0.1,
          0.1,
          0.10186335403726708,
          0.10186335403726708,
          0.10559006211180125,
          0.10559006211180125,
          0.10745341614906832,
          0.10745341614906832,
          0.10807453416149068,
          0.10807453416149068,
          0.115527950310559,
          0.115527950310559,
          0.11801242236024845,
          0.11801242236024845,
          0.11925465838509317,
          0.11925465838509317,
          0.12173913043478261,
          0.12173913043478261,
          0.12298136645962733,
          0.12298136645962733,
          0.12422360248447205,
          0.12422360248447205,
          0.1248447204968944,
          0.1248447204968944,
          0.12608695652173912,
          0.12608695652173912,
          0.12919254658385093,
          0.12919254658385093,
          0.13043478260869565,
          0.13043478260869565,
          0.13167701863354037,
          0.13167701863354037,
          0.13291925465838508,
          0.13291925465838508,
          0.13354037267080746,
          0.13354037267080746,
          0.13478260869565217,
          0.13478260869565217,
          0.1360248447204969,
          0.1360248447204969,
          0.1391304347826087,
          0.1391304347826087,
          0.14037267080745341,
          0.14037267080745341,
          0.1453416149068323,
          0.1453416149068323,
          0.1515527950310559,
          0.1515527950310559,
          0.15838509316770186,
          0.15838509316770186,
          0.15900621118012423,
          0.15900621118012423,
          0.16024844720496895,
          0.16024844720496895,
          0.16211180124223604,
          0.16211180124223604,
          0.1639751552795031,
          0.1639751552795031,
          0.16770186335403728,
          0.16770186335403728,
          0.1720496894409938,
          0.1720496894409938,
          0.17453416149068324,
          0.17453416149068324,
          0.17701863354037267,
          0.17701863354037267,
          0.1795031055900621,
          0.1795031055900621,
          0.18074534161490682,
          0.18074534161490682,
          0.18633540372670807,
          0.18633540372670807,
          0.18819875776397516,
          0.18819875776397516,
          0.1906832298136646,
          0.1906832298136646,
          0.1919254658385093,
          0.1919254658385093,
          0.19440993788819877,
          0.19440993788819877,
          0.1968944099378882,
          0.1968944099378882,
          0.19875776397515527,
          0.19875776397515527,
          0.2031055900621118,
          0.2031055900621118,
          0.2062111801242236,
          0.2062111801242236,
          0.2080745341614907,
          0.2080745341614907,
          0.20993788819875778,
          0.20993788819875778,
          0.2111801242236025,
          0.2111801242236025,
          0.21304347826086956,
          0.21304347826086956,
          0.21366459627329193,
          0.21366459627329193,
          0.21490683229813665,
          0.21490683229813665,
          0.21552795031055902,
          0.21552795031055902,
          0.21614906832298136,
          0.21614906832298136,
          0.21677018633540374,
          0.21677018633540374,
          0.21925465838509317,
          0.21925465838509317,
          0.22236024844720498,
          0.22236024844720498,
          0.22422360248447204,
          0.22422360248447204,
          0.22608695652173913,
          0.22608695652173913,
          0.2267080745341615,
          0.2267080745341615,
          0.22919254658385094,
          0.22919254658385094,
          0.22981366459627328,
          0.22981366459627328,
          0.23229813664596274,
          0.23229813664596274,
          0.24037267080745342,
          0.24037267080745342,
          0.24720496894409938,
          0.24720496894409938,
          0.24782608695652175,
          0.24782608695652175,
          0.2503105590062112,
          0.2503105590062112,
          0.2515527950310559,
          0.2515527950310559,
          0.25590062111801243,
          0.25590062111801243,
          0.2565217391304348,
          0.2565217391304348,
          0.2571428571428571,
          0.2571428571428571,
          0.2577639751552795,
          0.2577639751552795,
          0.2639751552795031,
          0.2639751552795031,
          0.2645962732919255,
          0.2645962732919255,
          0.26583850931677017,
          0.26583850931677017,
          0.268944099378882,
          0.268944099378882,
          0.2732919254658385,
          0.2732919254658385,
          0.28074534161490683,
          0.28074534161490683,
          0.284472049689441,
          0.284472049689441,
          0.29130434782608694,
          0.29130434782608694,
          0.30434782608695654,
          0.30434782608695654,
          0.30496894409937886,
          0.30496894409937886,
          0.30745341614906835,
          0.30745341614906835,
          0.30807453416149067,
          0.30807453416149067,
          0.31801242236024846,
          0.31801242236024846,
          0.33043478260869563,
          0.33043478260869563,
          0.34782608695652173,
          0.34782608695652173,
          0.3515527950310559,
          0.3515527950310559,
          0.36149068322981365,
          0.36149068322981365,
          0.36335403726708076,
          0.36335403726708076,
          0.3652173913043478,
          0.3652173913043478,
          0.36832298136645963,
          0.36832298136645963,
          0.3701863354037267,
          0.3701863354037267,
          0.37142857142857144,
          0.37142857142857144,
          0.38819875776397517,
          0.38819875776397517,
          0.4062111801242236,
          0.4062111801242236,
          0.40683229813664595,
          0.40683229813664595,
          0.4217391304347826,
          0.4217391304347826,
          0.42795031055900623,
          0.42795031055900623,
          0.4329192546583851,
          0.4329192546583851,
          0.4335403726708075,
          0.4335403726708075,
          0.43788819875776397,
          0.43788819875776397,
          0.4403726708074534,
          0.4403726708074534,
          0.44472049689440996,
          0.44472049689440996,
          0.4515527950310559,
          0.4515527950310559,
          0.45652173913043476,
          0.45652173913043476,
          0.4583850931677019,
          0.4583850931677019,
          0.45962732919254656,
          0.45962732919254656,
          0.462111801242236,
          0.462111801242236,
          0.47080745341614905,
          0.47080745341614905,
          0.48509316770186334,
          0.48509316770186334,
          0.4894409937888199,
          0.4894409937888199,
          0.5093167701863354,
          0.5093167701863354,
          0.5167701863354037,
          0.5167701863354037,
          0.5217391304347826,
          0.5217391304347826,
          0.5279503105590062,
          0.5279503105590062,
          0.5509316770186335,
          0.5509316770186335,
          0.5602484472049689,
          0.5602484472049689,
          0.5645962732919255,
          0.5645962732919255,
          0.5652173913043478,
          0.5652173913043478,
          0.5677018633540373,
          0.5677018633540373,
          0.5714285714285714,
          0.5714285714285714,
          0.5732919254658385,
          0.5732919254658385,
          0.5838509316770186,
          0.5838509316770186,
          0.5857142857142857,
          0.5857142857142857,
          0.5894409937888199,
          0.5894409937888199,
          0.6049689440993788,
          0.6049689440993788,
          0.6167701863354037,
          0.6167701863354037,
          0.6211180124223602,
          0.6211180124223602,
          0.6645962732919255,
          0.6645962732919255,
          0.6670807453416149,
          0.6670807453416149,
          0.6726708074534161,
          0.6726708074534161,
          0.684472049689441,
          0.684472049689441,
          0.7161490683229814,
          0.7161490683229814,
          0.7291925465838509,
          0.7291925465838509,
          0.7372670807453416,
          0.7372670807453416,
          0.7571428571428571,
          0.7571428571428571,
          0.7639751552795031,
          0.7639751552795031,
          0.7714285714285715,
          0.7714285714285715,
          0.7751552795031056,
          0.7751552795031056,
          0.7881987577639752,
          0.7881987577639752,
          0.8136645962732919,
          0.8136645962732919,
          0.8236024844720496,
          0.8236024844720496,
          0.8360248447204969,
          0.8360248447204969,
          0.8403726708074534,
          0.8403726708074534,
          0.9347826086956522,
          0.9347826086956522,
          1
         ],
         "xaxis": "x",
         "y": [
          0,
          0.002564102564102564,
          0.05897435897435897,
          0.05897435897435897,
          0.1,
          0.1,
          0.11538461538461539,
          0.11538461538461539,
          0.13076923076923078,
          0.13076923076923078,
          0.19487179487179487,
          0.19487179487179487,
          0.2076923076923077,
          0.2076923076923077,
          0.2230769230769231,
          0.2230769230769231,
          0.2282051282051282,
          0.2282051282051282,
          0.23333333333333334,
          0.23333333333333334,
          0.24615384615384617,
          0.24615384615384617,
          0.2512820512820513,
          0.2512820512820513,
          0.258974358974359,
          0.258974358974359,
          0.26153846153846155,
          0.26153846153846155,
          0.2641025641025641,
          0.2641025641025641,
          0.2743589743589744,
          0.2743589743589744,
          0.3,
          0.3,
          0.30512820512820515,
          0.30512820512820515,
          0.3076923076923077,
          0.3076923076923077,
          0.3128205128205128,
          0.3128205128205128,
          0.3153846153846154,
          0.3153846153846154,
          0.31794871794871793,
          0.31794871794871793,
          0.3282051282051282,
          0.3282051282051282,
          0.3333333333333333,
          0.3333333333333333,
          0.33589743589743587,
          0.33589743589743587,
          0.34102564102564104,
          0.34102564102564104,
          0.34615384615384615,
          0.34615384615384615,
          0.3487179487179487,
          0.3487179487179487,
          0.35384615384615387,
          0.35384615384615387,
          0.3564102564102564,
          0.3564102564102564,
          0.36923076923076925,
          0.36923076923076925,
          0.3717948717948718,
          0.3717948717948718,
          0.3871794871794872,
          0.3871794871794872,
          0.3923076923076923,
          0.3923076923076923,
          0.39487179487179486,
          0.39487179487179486,
          0.3974358974358974,
          0.3974358974358974,
          0.4,
          0.4,
          0.40512820512820513,
          0.40512820512820513,
          0.41025641025641024,
          0.41025641025641024,
          0.4128205128205128,
          0.4128205128205128,
          0.4230769230769231,
          0.4230769230769231,
          0.4282051282051282,
          0.4282051282051282,
          0.43333333333333335,
          0.43333333333333335,
          0.43846153846153846,
          0.43846153846153846,
          0.441025641025641,
          0.441025641025641,
          0.44871794871794873,
          0.44871794871794873,
          0.4666666666666667,
          0.4666666666666667,
          0.46923076923076923,
          0.46923076923076923,
          0.4794871794871795,
          0.4794871794871795,
          0.48205128205128206,
          0.48205128205128206,
          0.4846153846153846,
          0.4846153846153846,
          0.4897435897435897,
          0.4897435897435897,
          0.49230769230769234,
          0.49230769230769234,
          0.4948717948717949,
          0.4948717948717949,
          0.5,
          0.5,
          0.5025641025641026,
          0.5025641025641026,
          0.5051282051282051,
          0.5051282051282051,
          0.5076923076923077,
          0.5076923076923077,
          0.5102564102564102,
          0.5102564102564102,
          0.5128205128205128,
          0.5128205128205128,
          0.517948717948718,
          0.517948717948718,
          0.5205128205128206,
          0.5205128205128206,
          0.5230769230769231,
          0.5230769230769231,
          0.5256410256410257,
          0.5256410256410257,
          0.5358974358974359,
          0.5358974358974359,
          0.5384615384615384,
          0.5384615384615384,
          0.541025641025641,
          0.541025641025641,
          0.5435897435897435,
          0.5435897435897435,
          0.5461538461538461,
          0.5461538461538461,
          0.5487179487179488,
          0.5487179487179488,
          0.5512820512820513,
          0.5512820512820513,
          0.5564102564102564,
          0.5564102564102564,
          0.5641025641025641,
          0.5641025641025641,
          0.5666666666666667,
          0.5666666666666667,
          0.5692307692307692,
          0.5692307692307692,
          0.5717948717948718,
          0.5717948717948718,
          0.5743589743589743,
          0.5743589743589743,
          0.5769230769230769,
          0.5769230769230769,
          0.5794871794871795,
          0.5794871794871795,
          0.5820512820512821,
          0.5820512820512821,
          0.5897435897435898,
          0.5897435897435898,
          0.5923076923076923,
          0.5923076923076923,
          0.5948717948717949,
          0.5948717948717949,
          0.5974358974358974,
          0.5974358974358974,
          0.6,
          0.6,
          0.6051282051282051,
          0.6051282051282051,
          0.6102564102564103,
          0.6102564102564103,
          0.6128205128205129,
          0.6128205128205129,
          0.6153846153846154,
          0.6153846153846154,
          0.617948717948718,
          0.617948717948718,
          0.6230769230769231,
          0.6230769230769231,
          0.6256410256410256,
          0.6256410256410256,
          0.6282051282051282,
          0.6282051282051282,
          0.6307692307692307,
          0.6307692307692307,
          0.6333333333333333,
          0.6333333333333333,
          0.6384615384615384,
          0.6384615384615384,
          0.6410256410256411,
          0.6410256410256411,
          0.6435897435897436,
          0.6435897435897436,
          0.6487179487179487,
          0.6487179487179487,
          0.6512820512820513,
          0.6512820512820513,
          0.6538461538461539,
          0.6538461538461539,
          0.6564102564102564,
          0.6564102564102564,
          0.658974358974359,
          0.658974358974359,
          0.6615384615384615,
          0.6615384615384615,
          0.6666666666666666,
          0.6666666666666666,
          0.6692307692307692,
          0.6692307692307692,
          0.676923076923077,
          0.676923076923077,
          0.6794871794871795,
          0.6794871794871795,
          0.6871794871794872,
          0.6871794871794872,
          0.6897435897435897,
          0.6897435897435897,
          0.6948717948717948,
          0.6948717948717948,
          0.7,
          0.7,
          0.7025641025641025,
          0.7025641025641025,
          0.7051282051282052,
          0.7051282051282052,
          0.7076923076923077,
          0.7076923076923077,
          0.7102564102564103,
          0.7102564102564103,
          0.7128205128205128,
          0.7128205128205128,
          0.7153846153846154,
          0.7153846153846154,
          0.717948717948718,
          0.717948717948718,
          0.7205128205128205,
          0.7205128205128205,
          0.7230769230769231,
          0.7230769230769231,
          0.7256410256410256,
          0.7256410256410256,
          0.7307692307692307,
          0.7307692307692307,
          0.7333333333333333,
          0.7333333333333333,
          0.735897435897436,
          0.735897435897436,
          0.7384615384615385,
          0.7384615384615385,
          0.7410256410256411,
          0.7410256410256411,
          0.7435897435897436,
          0.7435897435897436,
          0.7487179487179487,
          0.7487179487179487,
          0.7512820512820513,
          0.7512820512820513,
          0.7564102564102564,
          0.7564102564102564,
          0.7589743589743589,
          0.7589743589743589,
          0.7615384615384615,
          0.7615384615384615,
          0.7666666666666667,
          0.7666666666666667,
          0.7692307692307693,
          0.7692307692307693,
          0.7717948717948718,
          0.7717948717948718,
          0.7743589743589744,
          0.7743589743589744,
          0.7769230769230769,
          0.7769230769230769,
          0.7794871794871795,
          0.7794871794871795,
          0.782051282051282,
          0.782051282051282,
          0.7846153846153846,
          0.7846153846153846,
          0.7871794871794872,
          0.7871794871794872,
          0.7897435897435897,
          0.7897435897435897,
          0.7923076923076923,
          0.7923076923076923,
          0.7948717948717948,
          0.7948717948717948,
          0.7974358974358975,
          0.7974358974358975,
          0.8025641025641026,
          0.8025641025641026,
          0.8051282051282052,
          0.8051282051282052,
          0.8076923076923077,
          0.8076923076923077,
          0.8102564102564103,
          0.8102564102564103,
          0.8128205128205128,
          0.8128205128205128,
          0.8153846153846154,
          0.8153846153846154,
          0.8179487179487179,
          0.8179487179487179,
          0.8205128205128205,
          0.8205128205128205,
          0.823076923076923,
          0.823076923076923,
          0.8282051282051283,
          0.8282051282051283,
          0.8307692307692308,
          0.8307692307692308,
          0.8358974358974359,
          0.8358974358974359,
          0.8384615384615385,
          0.8384615384615385,
          0.841025641025641,
          0.841025641025641,
          0.8435897435897436,
          0.8435897435897436,
          0.8461538461538461,
          0.8461538461538461,
          0.8487179487179487,
          0.8487179487179487,
          0.8512820512820513,
          0.8512820512820513,
          0.8538461538461538,
          0.8538461538461538,
          0.8564102564102564,
          0.8564102564102564,
          0.8589743589743589,
          0.8589743589743589,
          0.8615384615384616,
          0.8615384615384616,
          0.8641025641025641,
          0.8641025641025641,
          0.8666666666666667,
          0.8666666666666667,
          0.8692307692307693,
          0.8692307692307693,
          0.8717948717948718,
          0.8717948717948718,
          0.8743589743589744,
          0.8743589743589744,
          0.8769230769230769,
          0.8769230769230769,
          0.8794871794871795,
          0.8794871794871795,
          0.882051282051282,
          0.882051282051282,
          0.8846153846153846,
          0.8846153846153846,
          0.8871794871794871,
          0.8871794871794871,
          0.8897435897435897,
          0.8897435897435897,
          0.8923076923076924,
          0.8923076923076924,
          0.8948717948717949,
          0.8948717948717949,
          0.8974358974358975,
          0.8974358974358975,
          0.9,
          0.9,
          0.9025641025641026,
          0.9025641025641026,
          0.9076923076923077,
          0.9076923076923077,
          0.9128205128205128,
          0.9128205128205128,
          0.9179487179487179,
          0.9179487179487179,
          0.9205128205128205,
          0.9205128205128205,
          0.9230769230769231,
          0.9230769230769231,
          0.9256410256410257,
          0.9256410256410257,
          0.9282051282051282,
          0.9282051282051282,
          0.9307692307692308,
          0.9307692307692308,
          0.9333333333333333,
          0.9333333333333333,
          0.9384615384615385,
          0.9384615384615385,
          0.941025641025641,
          0.941025641025641,
          0.9435897435897436,
          0.9435897435897436,
          0.9461538461538461,
          0.9461538461538461,
          0.9487179487179487,
          0.9487179487179487,
          0.9512820512820512,
          0.9512820512820512,
          0.9538461538461539,
          0.9538461538461539,
          0.9564102564102565,
          0.9564102564102565,
          0.958974358974359,
          0.958974358974359,
          0.9615384615384616,
          0.9615384615384616,
          0.9641025641025641,
          0.9641025641025641,
          0.9666666666666667,
          0.9666666666666667,
          0.9692307692307692,
          0.9692307692307692,
          0.9717948717948718,
          0.9717948717948718,
          0.9743589743589743,
          0.9743589743589743,
          0.9769230769230769,
          0.9769230769230769,
          0.9794871794871794,
          0.9794871794871794,
          0.982051282051282,
          0.982051282051282,
          0.9846153846153847,
          0.9846153846153847,
          0.9871794871794872,
          0.9871794871794872,
          0.9897435897435898,
          0.9897435897435898,
          0.9923076923076923,
          0.9923076923076923,
          0.9948717948717949,
          0.9948717948717949,
          0.9974358974358974,
          0.9974358974358974,
          1,
          1
         ],
         "yaxis": "y"
        }
       ],
       "layout": {
        "height": 500,
        "legend": {
         "tracegroupgap": 0
        },
        "shapes": [
         {
          "line": {
           "dash": "dash"
          },
          "type": "line",
          "x0": 0,
          "x1": 1,
          "y0": 0,
          "y1": 1
         }
        ],
        "template": {
         "data": {
          "bar": [
           {
            "error_x": {
             "color": "#2a3f5f"
            },
            "error_y": {
             "color": "#2a3f5f"
            },
            "marker": {
             "line": {
              "color": "#E5ECF6",
              "width": 0.5
             },
             "pattern": {
              "fillmode": "overlay",
              "size": 10,
              "solidity": 0.2
             }
            },
            "type": "bar"
           }
          ],
          "barpolar": [
           {
            "marker": {
             "line": {
              "color": "#E5ECF6",
              "width": 0.5
             },
             "pattern": {
              "fillmode": "overlay",
              "size": 10,
              "solidity": 0.2
             }
            },
            "type": "barpolar"
           }
          ],
          "carpet": [
           {
            "aaxis": {
             "endlinecolor": "#2a3f5f",
             "gridcolor": "white",
             "linecolor": "white",
             "minorgridcolor": "white",
             "startlinecolor": "#2a3f5f"
            },
            "baxis": {
             "endlinecolor": "#2a3f5f",
             "gridcolor": "white",
             "linecolor": "white",
             "minorgridcolor": "white",
             "startlinecolor": "#2a3f5f"
            },
            "type": "carpet"
           }
          ],
          "choropleth": [
           {
            "colorbar": {
             "outlinewidth": 0,
             "ticks": ""
            },
            "type": "choropleth"
           }
          ],
          "contour": [
           {
            "colorbar": {
             "outlinewidth": 0,
             "ticks": ""
            },
            "colorscale": [
             [
              0,
              "#0d0887"
             ],
             [
              0.1111111111111111,
              "#46039f"
             ],
             [
              0.2222222222222222,
              "#7201a8"
             ],
             [
              0.3333333333333333,
              "#9c179e"
             ],
             [
              0.4444444444444444,
              "#bd3786"
             ],
             [
              0.5555555555555556,
              "#d8576b"
             ],
             [
              0.6666666666666666,
              "#ed7953"
             ],
             [
              0.7777777777777778,
              "#fb9f3a"
             ],
             [
              0.8888888888888888,
              "#fdca26"
             ],
             [
              1,
              "#f0f921"
             ]
            ],
            "type": "contour"
           }
          ],
          "contourcarpet": [
           {
            "colorbar": {
             "outlinewidth": 0,
             "ticks": ""
            },
            "type": "contourcarpet"
           }
          ],
          "heatmap": [
           {
            "colorbar": {
             "outlinewidth": 0,
             "ticks": ""
            },
            "colorscale": [
             [
              0,
              "#0d0887"
             ],
             [
              0.1111111111111111,
              "#46039f"
             ],
             [
              0.2222222222222222,
              "#7201a8"
             ],
             [
              0.3333333333333333,
              "#9c179e"
             ],
             [
              0.4444444444444444,
              "#bd3786"
             ],
             [
              0.5555555555555556,
              "#d8576b"
             ],
             [
              0.6666666666666666,
              "#ed7953"
             ],
             [
              0.7777777777777778,
              "#fb9f3a"
             ],
             [
              0.8888888888888888,
              "#fdca26"
             ],
             [
              1,
              "#f0f921"
             ]
            ],
            "type": "heatmap"
           }
          ],
          "heatmapgl": [
           {
            "colorbar": {
             "outlinewidth": 0,
             "ticks": ""
            },
            "colorscale": [
             [
              0,
              "#0d0887"
             ],
             [
              0.1111111111111111,
              "#46039f"
             ],
             [
              0.2222222222222222,
              "#7201a8"
             ],
             [
              0.3333333333333333,
              "#9c179e"
             ],
             [
              0.4444444444444444,
              "#bd3786"
             ],
             [
              0.5555555555555556,
              "#d8576b"
             ],
             [
              0.6666666666666666,
              "#ed7953"
             ],
             [
              0.7777777777777778,
              "#fb9f3a"
             ],
             [
              0.8888888888888888,
              "#fdca26"
             ],
             [
              1,
              "#f0f921"
             ]
            ],
            "type": "heatmapgl"
           }
          ],
          "histogram": [
           {
            "marker": {
             "pattern": {
              "fillmode": "overlay",
              "size": 10,
              "solidity": 0.2
             }
            },
            "type": "histogram"
           }
          ],
          "histogram2d": [
           {
            "colorbar": {
             "outlinewidth": 0,
             "ticks": ""
            },
            "colorscale": [
             [
              0,
              "#0d0887"
             ],
             [
              0.1111111111111111,
              "#46039f"
             ],
             [
              0.2222222222222222,
              "#7201a8"
             ],
             [
              0.3333333333333333,
              "#9c179e"
             ],
             [
              0.4444444444444444,
              "#bd3786"
             ],
             [
              0.5555555555555556,
              "#d8576b"
             ],
             [
              0.6666666666666666,
              "#ed7953"
             ],
             [
              0.7777777777777778,
              "#fb9f3a"
             ],
             [
              0.8888888888888888,
              "#fdca26"
             ],
             [
              1,
              "#f0f921"
             ]
            ],
            "type": "histogram2d"
           }
          ],
          "histogram2dcontour": [
           {
            "colorbar": {
             "outlinewidth": 0,
             "ticks": ""
            },
            "colorscale": [
             [
              0,
              "#0d0887"
             ],
             [
              0.1111111111111111,
              "#46039f"
             ],
             [
              0.2222222222222222,
              "#7201a8"
             ],
             [
              0.3333333333333333,
              "#9c179e"
             ],
             [
              0.4444444444444444,
              "#bd3786"
             ],
             [
              0.5555555555555556,
              "#d8576b"
             ],
             [
              0.6666666666666666,
              "#ed7953"
             ],
             [
              0.7777777777777778,
              "#fb9f3a"
             ],
             [
              0.8888888888888888,
              "#fdca26"
             ],
             [
              1,
              "#f0f921"
             ]
            ],
            "type": "histogram2dcontour"
           }
          ],
          "mesh3d": [
           {
            "colorbar": {
             "outlinewidth": 0,
             "ticks": ""
            },
            "type": "mesh3d"
           }
          ],
          "parcoords": [
           {
            "line": {
             "colorbar": {
              "outlinewidth": 0,
              "ticks": ""
             }
            },
            "type": "parcoords"
           }
          ],
          "pie": [
           {
            "automargin": true,
            "type": "pie"
           }
          ],
          "scatter": [
           {
            "fillpattern": {
             "fillmode": "overlay",
             "size": 10,
             "solidity": 0.2
            },
            "type": "scatter"
           }
          ],
          "scatter3d": [
           {
            "line": {
             "colorbar": {
              "outlinewidth": 0,
              "ticks": ""
             }
            },
            "marker": {
             "colorbar": {
              "outlinewidth": 0,
              "ticks": ""
             }
            },
            "type": "scatter3d"
           }
          ],
          "scattercarpet": [
           {
            "marker": {
             "colorbar": {
              "outlinewidth": 0,
              "ticks": ""
             }
            },
            "type": "scattercarpet"
           }
          ],
          "scattergeo": [
           {
            "marker": {
             "colorbar": {
              "outlinewidth": 0,
              "ticks": ""
             }
            },
            "type": "scattergeo"
           }
          ],
          "scattergl": [
           {
            "marker": {
             "colorbar": {
              "outlinewidth": 0,
              "ticks": ""
             }
            },
            "type": "scattergl"
           }
          ],
          "scattermapbox": [
           {
            "marker": {
             "colorbar": {
              "outlinewidth": 0,
              "ticks": ""
             }
            },
            "type": "scattermapbox"
           }
          ],
          "scatterpolar": [
           {
            "marker": {
             "colorbar": {
              "outlinewidth": 0,
              "ticks": ""
             }
            },
            "type": "scatterpolar"
           }
          ],
          "scatterpolargl": [
           {
            "marker": {
             "colorbar": {
              "outlinewidth": 0,
              "ticks": ""
             }
            },
            "type": "scatterpolargl"
           }
          ],
          "scatterternary": [
           {
            "marker": {
             "colorbar": {
              "outlinewidth": 0,
              "ticks": ""
             }
            },
            "type": "scatterternary"
           }
          ],
          "surface": [
           {
            "colorbar": {
             "outlinewidth": 0,
             "ticks": ""
            },
            "colorscale": [
             [
              0,
              "#0d0887"
             ],
             [
              0.1111111111111111,
              "#46039f"
             ],
             [
              0.2222222222222222,
              "#7201a8"
             ],
             [
              0.3333333333333333,
              "#9c179e"
             ],
             [
              0.4444444444444444,
              "#bd3786"
             ],
             [
              0.5555555555555556,
              "#d8576b"
             ],
             [
              0.6666666666666666,
              "#ed7953"
             ],
             [
              0.7777777777777778,
              "#fb9f3a"
             ],
             [
              0.8888888888888888,
              "#fdca26"
             ],
             [
              1,
              "#f0f921"
             ]
            ],
            "type": "surface"
           }
          ],
          "table": [
           {
            "cells": {
             "fill": {
              "color": "#EBF0F8"
             },
             "line": {
              "color": "white"
             }
            },
            "header": {
             "fill": {
              "color": "#C8D4E3"
             },
             "line": {
              "color": "white"
             }
            },
            "type": "table"
           }
          ]
         },
         "layout": {
          "annotationdefaults": {
           "arrowcolor": "#2a3f5f",
           "arrowhead": 0,
           "arrowwidth": 1
          },
          "autotypenumbers": "strict",
          "coloraxis": {
           "colorbar": {
            "outlinewidth": 0,
            "ticks": ""
           }
          },
          "colorscale": {
           "diverging": [
            [
             0,
             "#8e0152"
            ],
            [
             0.1,
             "#c51b7d"
            ],
            [
             0.2,
             "#de77ae"
            ],
            [
             0.3,
             "#f1b6da"
            ],
            [
             0.4,
             "#fde0ef"
            ],
            [
             0.5,
             "#f7f7f7"
            ],
            [
             0.6,
             "#e6f5d0"
            ],
            [
             0.7,
             "#b8e186"
            ],
            [
             0.8,
             "#7fbc41"
            ],
            [
             0.9,
             "#4d9221"
            ],
            [
             1,
             "#276419"
            ]
           ],
           "sequential": [
            [
             0,
             "#0d0887"
            ],
            [
             0.1111111111111111,
             "#46039f"
            ],
            [
             0.2222222222222222,
             "#7201a8"
            ],
            [
             0.3333333333333333,
             "#9c179e"
            ],
            [
             0.4444444444444444,
             "#bd3786"
            ],
            [
             0.5555555555555556,
             "#d8576b"
            ],
            [
             0.6666666666666666,
             "#ed7953"
            ],
            [
             0.7777777777777778,
             "#fb9f3a"
            ],
            [
             0.8888888888888888,
             "#fdca26"
            ],
            [
             1,
             "#f0f921"
            ]
           ],
           "sequentialminus": [
            [
             0,
             "#0d0887"
            ],
            [
             0.1111111111111111,
             "#46039f"
            ],
            [
             0.2222222222222222,
             "#7201a8"
            ],
            [
             0.3333333333333333,
             "#9c179e"
            ],
            [
             0.4444444444444444,
             "#bd3786"
            ],
            [
             0.5555555555555556,
             "#d8576b"
            ],
            [
             0.6666666666666666,
             "#ed7953"
            ],
            [
             0.7777777777777778,
             "#fb9f3a"
            ],
            [
             0.8888888888888888,
             "#fdca26"
            ],
            [
             1,
             "#f0f921"
            ]
           ]
          },
          "colorway": [
           "#636efa",
           "#EF553B",
           "#00cc96",
           "#ab63fa",
           "#FFA15A",
           "#19d3f3",
           "#FF6692",
           "#B6E880",
           "#FF97FF",
           "#FECB52"
          ],
          "font": {
           "color": "#2a3f5f"
          },
          "geo": {
           "bgcolor": "white",
           "lakecolor": "white",
           "landcolor": "#E5ECF6",
           "showlakes": true,
           "showland": true,
           "subunitcolor": "white"
          },
          "hoverlabel": {
           "align": "left"
          },
          "hovermode": "closest",
          "mapbox": {
           "style": "light"
          },
          "paper_bgcolor": "white",
          "plot_bgcolor": "#E5ECF6",
          "polar": {
           "angularaxis": {
            "gridcolor": "white",
            "linecolor": "white",
            "ticks": ""
           },
           "bgcolor": "#E5ECF6",
           "radialaxis": {
            "gridcolor": "white",
            "linecolor": "white",
            "ticks": ""
           }
          },
          "scene": {
           "xaxis": {
            "backgroundcolor": "#E5ECF6",
            "gridcolor": "white",
            "gridwidth": 2,
            "linecolor": "white",
            "showbackground": true,
            "ticks": "",
            "zerolinecolor": "white"
           },
           "yaxis": {
            "backgroundcolor": "#E5ECF6",
            "gridcolor": "white",
            "gridwidth": 2,
            "linecolor": "white",
            "showbackground": true,
            "ticks": "",
            "zerolinecolor": "white"
           },
           "zaxis": {
            "backgroundcolor": "#E5ECF6",
            "gridcolor": "white",
            "gridwidth": 2,
            "linecolor": "white",
            "showbackground": true,
            "ticks": "",
            "zerolinecolor": "white"
           }
          },
          "shapedefaults": {
           "line": {
            "color": "#2a3f5f"
           }
          },
          "ternary": {
           "aaxis": {
            "gridcolor": "white",
            "linecolor": "white",
            "ticks": ""
           },
           "baxis": {
            "gridcolor": "white",
            "linecolor": "white",
            "ticks": ""
           },
           "bgcolor": "#E5ECF6",
           "caxis": {
            "gridcolor": "white",
            "linecolor": "white",
            "ticks": ""
           }
          },
          "title": {
           "x": 0.05
          },
          "xaxis": {
           "automargin": true,
           "gridcolor": "white",
           "linecolor": "white",
           "ticks": "",
           "title": {
            "standoff": 15
           },
           "zerolinecolor": "white",
           "zerolinewidth": 2
          },
          "yaxis": {
           "automargin": true,
           "gridcolor": "white",
           "linecolor": "white",
           "ticks": "",
           "title": {
            "standoff": 15
           },
           "zerolinecolor": "white",
           "zerolinewidth": 2
          }
         }
        },
        "title": {
         "text": "Test ROC Curve (AUC=0.8415)"
        },
        "width": 700,
        "xaxis": {
         "anchor": "y",
         "constrain": "domain",
         "domain": [
          0,
          1
         ],
         "title": {
          "text": "False Positive Rate"
         }
        },
        "yaxis": {
         "anchor": "x",
         "domain": [
          0,
          1
         ],
         "scaleanchor": "x",
         "scaleratio": 1,
         "title": {
          "text": "True Positive Rate"
         }
        }
       }
      },
      "text/html": [
       "<div>                            <div id=\"0fb7d5c7-e14d-49ca-809d-b2d23c7dd819\" class=\"plotly-graph-div\" style=\"height:500px; width:700px;\"></div>            <script type=\"text/javascript\">                require([\"plotly\"], function(Plotly) {                    window.PLOTLYENV=window.PLOTLYENV || {};                                    if (document.getElementById(\"0fb7d5c7-e14d-49ca-809d-b2d23c7dd819\")) {                    Plotly.newPlot(                        \"0fb7d5c7-e14d-49ca-809d-b2d23c7dd819\",                        [{\"fillpattern\":{\"shape\":\"\"},\"hovertemplate\":\"False Positive Rate=%{x}<br>True Positive Rate=%{y}<extra></extra>\",\"legendgroup\":\"\",\"line\":{\"color\":\"#636efa\"},\"marker\":{\"symbol\":\"circle\"},\"mode\":\"lines\",\"name\":\"\",\"orientation\":\"v\",\"showlegend\":false,\"stackgroup\":\"1\",\"x\":[0.0,0.0,0.0,0.0006211180124223603,0.0006211180124223603,0.0012422360248447205,0.0012422360248447205,0.0018633540372670807,0.0018633540372670807,0.002484472049689441,0.002484472049689441,0.003105590062111801,0.003105590062111801,0.0037267080745341614,0.0037267080745341614,0.004347826086956522,0.004347826086956522,0.004968944099378882,0.004968944099378882,0.0055900621118012426,0.0055900621118012426,0.006211180124223602,0.006211180124223602,0.007453416149068323,0.007453416149068323,0.008074534161490683,0.008074534161490683,0.008695652173913044,0.008695652173913044,0.009316770186335404,0.009316770186335404,0.010559006211180125,0.010559006211180125,0.011801242236024845,0.011801242236024845,0.012422360248447204,0.012422360248447204,0.013664596273291925,0.013664596273291925,0.014906832298136646,0.014906832298136646,0.015527950310559006,0.015527950310559006,0.017391304347826087,0.017391304347826087,0.018012422360248446,0.018012422360248446,0.018633540372670808,0.018633540372670808,0.019254658385093167,0.019254658385093167,0.02111801242236025,0.02111801242236025,0.021739130434782608,0.021739130434782608,0.02360248447204969,0.02360248447204969,0.024844720496894408,0.024844720496894408,0.02981366459627329,0.02981366459627329,0.031055900621118012,0.031055900621118012,0.03229813664596273,0.03229813664596273,0.034161490683229816,0.034161490683229816,0.034782608695652174,0.034782608695652174,0.03602484472049689,0.03602484472049689,0.03664596273291926,0.03664596273291926,0.037888198757763975,0.037888198757763975,0.0391304347826087,0.0391304347826087,0.040993788819875775,0.040993788819875775,0.0422360248447205,0.0422360248447205,0.04596273291925466,0.04596273291925466,0.04782608695652174,0.04782608695652174,0.0515527950310559,0.0515527950310559,0.05217391304347826,0.05217391304347826,0.05403726708074534,0.05403726708074534,0.055900621118012424,0.055900621118012424,0.05652173913043478,0.05652173913043478,0.059006211180124224,0.059006211180124224,0.05962732919254658,0.05962732919254658,0.06086956521739131,0.06086956521739131,0.06583850931677018,0.06583850931677018,0.0670807453416149,0.0670807453416149,0.06832298136645963,0.06832298136645963,0.06956521739130435,0.06956521739130435,0.07080745341614907,0.07080745341614907,0.07142857142857142,0.07142857142857142,0.07329192546583851,0.07329192546583851,0.07515527950310559,0.07515527950310559,0.07639751552795031,0.07639751552795031,0.07701863354037267,0.07701863354037267,0.0782608695652174,0.0782608695652174,0.08074534161490683,0.08074534161490683,0.08136645962732919,0.08136645962732919,0.08198757763975155,0.08198757763975155,0.08322981366459627,0.08322981366459627,0.084472049689441,0.084472049689441,0.08509316770186336,0.08509316770186336,0.08633540372670807,0.08633540372670807,0.08944099378881988,0.08944099378881988,0.0906832298136646,0.0906832298136646,0.09130434782608696,0.09130434782608696,0.09192546583850932,0.09192546583850932,0.09440993788819876,0.09440993788819876,0.1,0.1,0.10186335403726708,0.10186335403726708,0.10559006211180125,0.10559006211180125,0.10745341614906832,0.10745341614906832,0.10807453416149068,0.10807453416149068,0.115527950310559,0.115527950310559,0.11801242236024845,0.11801242236024845,0.11925465838509317,0.11925465838509317,0.12173913043478261,0.12173913043478261,0.12298136645962733,0.12298136645962733,0.12422360248447205,0.12422360248447205,0.1248447204968944,0.1248447204968944,0.12608695652173912,0.12608695652173912,0.12919254658385093,0.12919254658385093,0.13043478260869565,0.13043478260869565,0.13167701863354037,0.13167701863354037,0.13291925465838508,0.13291925465838508,0.13354037267080746,0.13354037267080746,0.13478260869565217,0.13478260869565217,0.1360248447204969,0.1360248447204969,0.1391304347826087,0.1391304347826087,0.14037267080745341,0.14037267080745341,0.1453416149068323,0.1453416149068323,0.1515527950310559,0.1515527950310559,0.15838509316770186,0.15838509316770186,0.15900621118012423,0.15900621118012423,0.16024844720496895,0.16024844720496895,0.16211180124223604,0.16211180124223604,0.1639751552795031,0.1639751552795031,0.16770186335403728,0.16770186335403728,0.1720496894409938,0.1720496894409938,0.17453416149068324,0.17453416149068324,0.17701863354037267,0.17701863354037267,0.1795031055900621,0.1795031055900621,0.18074534161490682,0.18074534161490682,0.18633540372670807,0.18633540372670807,0.18819875776397516,0.18819875776397516,0.1906832298136646,0.1906832298136646,0.1919254658385093,0.1919254658385093,0.19440993788819877,0.19440993788819877,0.1968944099378882,0.1968944099378882,0.19875776397515527,0.19875776397515527,0.2031055900621118,0.2031055900621118,0.2062111801242236,0.2062111801242236,0.2080745341614907,0.2080745341614907,0.20993788819875778,0.20993788819875778,0.2111801242236025,0.2111801242236025,0.21304347826086956,0.21304347826086956,0.21366459627329193,0.21366459627329193,0.21490683229813665,0.21490683229813665,0.21552795031055902,0.21552795031055902,0.21614906832298136,0.21614906832298136,0.21677018633540374,0.21677018633540374,0.21925465838509317,0.21925465838509317,0.22236024844720498,0.22236024844720498,0.22422360248447204,0.22422360248447204,0.22608695652173913,0.22608695652173913,0.2267080745341615,0.2267080745341615,0.22919254658385094,0.22919254658385094,0.22981366459627328,0.22981366459627328,0.23229813664596274,0.23229813664596274,0.24037267080745342,0.24037267080745342,0.24720496894409938,0.24720496894409938,0.24782608695652175,0.24782608695652175,0.2503105590062112,0.2503105590062112,0.2515527950310559,0.2515527950310559,0.25590062111801243,0.25590062111801243,0.2565217391304348,0.2565217391304348,0.2571428571428571,0.2571428571428571,0.2577639751552795,0.2577639751552795,0.2639751552795031,0.2639751552795031,0.2645962732919255,0.2645962732919255,0.26583850931677017,0.26583850931677017,0.268944099378882,0.268944099378882,0.2732919254658385,0.2732919254658385,0.28074534161490683,0.28074534161490683,0.284472049689441,0.284472049689441,0.29130434782608694,0.29130434782608694,0.30434782608695654,0.30434782608695654,0.30496894409937886,0.30496894409937886,0.30745341614906835,0.30745341614906835,0.30807453416149067,0.30807453416149067,0.31801242236024846,0.31801242236024846,0.33043478260869563,0.33043478260869563,0.34782608695652173,0.34782608695652173,0.3515527950310559,0.3515527950310559,0.36149068322981365,0.36149068322981365,0.36335403726708076,0.36335403726708076,0.3652173913043478,0.3652173913043478,0.36832298136645963,0.36832298136645963,0.3701863354037267,0.3701863354037267,0.37142857142857144,0.37142857142857144,0.38819875776397517,0.38819875776397517,0.4062111801242236,0.4062111801242236,0.40683229813664595,0.40683229813664595,0.4217391304347826,0.4217391304347826,0.42795031055900623,0.42795031055900623,0.4329192546583851,0.4329192546583851,0.4335403726708075,0.4335403726708075,0.43788819875776397,0.43788819875776397,0.4403726708074534,0.4403726708074534,0.44472049689440996,0.44472049689440996,0.4515527950310559,0.4515527950310559,0.45652173913043476,0.45652173913043476,0.4583850931677019,0.4583850931677019,0.45962732919254656,0.45962732919254656,0.462111801242236,0.462111801242236,0.47080745341614905,0.47080745341614905,0.48509316770186334,0.48509316770186334,0.4894409937888199,0.4894409937888199,0.5093167701863354,0.5093167701863354,0.5167701863354037,0.5167701863354037,0.5217391304347826,0.5217391304347826,0.5279503105590062,0.5279503105590062,0.5509316770186335,0.5509316770186335,0.5602484472049689,0.5602484472049689,0.5645962732919255,0.5645962732919255,0.5652173913043478,0.5652173913043478,0.5677018633540373,0.5677018633540373,0.5714285714285714,0.5714285714285714,0.5732919254658385,0.5732919254658385,0.5838509316770186,0.5838509316770186,0.5857142857142857,0.5857142857142857,0.5894409937888199,0.5894409937888199,0.6049689440993788,0.6049689440993788,0.6167701863354037,0.6167701863354037,0.6211180124223602,0.6211180124223602,0.6645962732919255,0.6645962732919255,0.6670807453416149,0.6670807453416149,0.6726708074534161,0.6726708074534161,0.684472049689441,0.684472049689441,0.7161490683229814,0.7161490683229814,0.7291925465838509,0.7291925465838509,0.7372670807453416,0.7372670807453416,0.7571428571428571,0.7571428571428571,0.7639751552795031,0.7639751552795031,0.7714285714285715,0.7714285714285715,0.7751552795031056,0.7751552795031056,0.7881987577639752,0.7881987577639752,0.8136645962732919,0.8136645962732919,0.8236024844720496,0.8236024844720496,0.8360248447204969,0.8360248447204969,0.8403726708074534,0.8403726708074534,0.9347826086956522,0.9347826086956522,1.0],\"xaxis\":\"x\",\"y\":[0.0,0.002564102564102564,0.05897435897435897,0.05897435897435897,0.1,0.1,0.11538461538461539,0.11538461538461539,0.13076923076923078,0.13076923076923078,0.19487179487179487,0.19487179487179487,0.2076923076923077,0.2076923076923077,0.2230769230769231,0.2230769230769231,0.2282051282051282,0.2282051282051282,0.23333333333333334,0.23333333333333334,0.24615384615384617,0.24615384615384617,0.2512820512820513,0.2512820512820513,0.258974358974359,0.258974358974359,0.26153846153846155,0.26153846153846155,0.2641025641025641,0.2641025641025641,0.2743589743589744,0.2743589743589744,0.3,0.3,0.30512820512820515,0.30512820512820515,0.3076923076923077,0.3076923076923077,0.3128205128205128,0.3128205128205128,0.3153846153846154,0.3153846153846154,0.31794871794871793,0.31794871794871793,0.3282051282051282,0.3282051282051282,0.3333333333333333,0.3333333333333333,0.33589743589743587,0.33589743589743587,0.34102564102564104,0.34102564102564104,0.34615384615384615,0.34615384615384615,0.3487179487179487,0.3487179487179487,0.35384615384615387,0.35384615384615387,0.3564102564102564,0.3564102564102564,0.36923076923076925,0.36923076923076925,0.3717948717948718,0.3717948717948718,0.3871794871794872,0.3871794871794872,0.3923076923076923,0.3923076923076923,0.39487179487179486,0.39487179487179486,0.3974358974358974,0.3974358974358974,0.4,0.4,0.40512820512820513,0.40512820512820513,0.41025641025641024,0.41025641025641024,0.4128205128205128,0.4128205128205128,0.4230769230769231,0.4230769230769231,0.4282051282051282,0.4282051282051282,0.43333333333333335,0.43333333333333335,0.43846153846153846,0.43846153846153846,0.441025641025641,0.441025641025641,0.44871794871794873,0.44871794871794873,0.4666666666666667,0.4666666666666667,0.46923076923076923,0.46923076923076923,0.4794871794871795,0.4794871794871795,0.48205128205128206,0.48205128205128206,0.4846153846153846,0.4846153846153846,0.4897435897435897,0.4897435897435897,0.49230769230769234,0.49230769230769234,0.4948717948717949,0.4948717948717949,0.5,0.5,0.5025641025641026,0.5025641025641026,0.5051282051282051,0.5051282051282051,0.5076923076923077,0.5076923076923077,0.5102564102564102,0.5102564102564102,0.5128205128205128,0.5128205128205128,0.517948717948718,0.517948717948718,0.5205128205128206,0.5205128205128206,0.5230769230769231,0.5230769230769231,0.5256410256410257,0.5256410256410257,0.5358974358974359,0.5358974358974359,0.5384615384615384,0.5384615384615384,0.541025641025641,0.541025641025641,0.5435897435897435,0.5435897435897435,0.5461538461538461,0.5461538461538461,0.5487179487179488,0.5487179487179488,0.5512820512820513,0.5512820512820513,0.5564102564102564,0.5564102564102564,0.5641025641025641,0.5641025641025641,0.5666666666666667,0.5666666666666667,0.5692307692307692,0.5692307692307692,0.5717948717948718,0.5717948717948718,0.5743589743589743,0.5743589743589743,0.5769230769230769,0.5769230769230769,0.5794871794871795,0.5794871794871795,0.5820512820512821,0.5820512820512821,0.5897435897435898,0.5897435897435898,0.5923076923076923,0.5923076923076923,0.5948717948717949,0.5948717948717949,0.5974358974358974,0.5974358974358974,0.6,0.6,0.6051282051282051,0.6051282051282051,0.6102564102564103,0.6102564102564103,0.6128205128205129,0.6128205128205129,0.6153846153846154,0.6153846153846154,0.617948717948718,0.617948717948718,0.6230769230769231,0.6230769230769231,0.6256410256410256,0.6256410256410256,0.6282051282051282,0.6282051282051282,0.6307692307692307,0.6307692307692307,0.6333333333333333,0.6333333333333333,0.6384615384615384,0.6384615384615384,0.6410256410256411,0.6410256410256411,0.6435897435897436,0.6435897435897436,0.6487179487179487,0.6487179487179487,0.6512820512820513,0.6512820512820513,0.6538461538461539,0.6538461538461539,0.6564102564102564,0.6564102564102564,0.658974358974359,0.658974358974359,0.6615384615384615,0.6615384615384615,0.6666666666666666,0.6666666666666666,0.6692307692307692,0.6692307692307692,0.676923076923077,0.676923076923077,0.6794871794871795,0.6794871794871795,0.6871794871794872,0.6871794871794872,0.6897435897435897,0.6897435897435897,0.6948717948717948,0.6948717948717948,0.7,0.7,0.7025641025641025,0.7025641025641025,0.7051282051282052,0.7051282051282052,0.7076923076923077,0.7076923076923077,0.7102564102564103,0.7102564102564103,0.7128205128205128,0.7128205128205128,0.7153846153846154,0.7153846153846154,0.717948717948718,0.717948717948718,0.7205128205128205,0.7205128205128205,0.7230769230769231,0.7230769230769231,0.7256410256410256,0.7256410256410256,0.7307692307692307,0.7307692307692307,0.7333333333333333,0.7333333333333333,0.735897435897436,0.735897435897436,0.7384615384615385,0.7384615384615385,0.7410256410256411,0.7410256410256411,0.7435897435897436,0.7435897435897436,0.7487179487179487,0.7487179487179487,0.7512820512820513,0.7512820512820513,0.7564102564102564,0.7564102564102564,0.7589743589743589,0.7589743589743589,0.7615384615384615,0.7615384615384615,0.7666666666666667,0.7666666666666667,0.7692307692307693,0.7692307692307693,0.7717948717948718,0.7717948717948718,0.7743589743589744,0.7743589743589744,0.7769230769230769,0.7769230769230769,0.7794871794871795,0.7794871794871795,0.782051282051282,0.782051282051282,0.7846153846153846,0.7846153846153846,0.7871794871794872,0.7871794871794872,0.7897435897435897,0.7897435897435897,0.7923076923076923,0.7923076923076923,0.7948717948717948,0.7948717948717948,0.7974358974358975,0.7974358974358975,0.8025641025641026,0.8025641025641026,0.8051282051282052,0.8051282051282052,0.8076923076923077,0.8076923076923077,0.8102564102564103,0.8102564102564103,0.8128205128205128,0.8128205128205128,0.8153846153846154,0.8153846153846154,0.8179487179487179,0.8179487179487179,0.8205128205128205,0.8205128205128205,0.823076923076923,0.823076923076923,0.8282051282051283,0.8282051282051283,0.8307692307692308,0.8307692307692308,0.8358974358974359,0.8358974358974359,0.8384615384615385,0.8384615384615385,0.841025641025641,0.841025641025641,0.8435897435897436,0.8435897435897436,0.8461538461538461,0.8461538461538461,0.8487179487179487,0.8487179487179487,0.8512820512820513,0.8512820512820513,0.8538461538461538,0.8538461538461538,0.8564102564102564,0.8564102564102564,0.8589743589743589,0.8589743589743589,0.8615384615384616,0.8615384615384616,0.8641025641025641,0.8641025641025641,0.8666666666666667,0.8666666666666667,0.8692307692307693,0.8692307692307693,0.8717948717948718,0.8717948717948718,0.8743589743589744,0.8743589743589744,0.8769230769230769,0.8769230769230769,0.8794871794871795,0.8794871794871795,0.882051282051282,0.882051282051282,0.8846153846153846,0.8846153846153846,0.8871794871794871,0.8871794871794871,0.8897435897435897,0.8897435897435897,0.8923076923076924,0.8923076923076924,0.8948717948717949,0.8948717948717949,0.8974358974358975,0.8974358974358975,0.9,0.9,0.9025641025641026,0.9025641025641026,0.9076923076923077,0.9076923076923077,0.9128205128205128,0.9128205128205128,0.9179487179487179,0.9179487179487179,0.9205128205128205,0.9205128205128205,0.9230769230769231,0.9230769230769231,0.9256410256410257,0.9256410256410257,0.9282051282051282,0.9282051282051282,0.9307692307692308,0.9307692307692308,0.9333333333333333,0.9333333333333333,0.9384615384615385,0.9384615384615385,0.941025641025641,0.941025641025641,0.9435897435897436,0.9435897435897436,0.9461538461538461,0.9461538461538461,0.9487179487179487,0.9487179487179487,0.9512820512820512,0.9512820512820512,0.9538461538461539,0.9538461538461539,0.9564102564102565,0.9564102564102565,0.958974358974359,0.958974358974359,0.9615384615384616,0.9615384615384616,0.9641025641025641,0.9641025641025641,0.9666666666666667,0.9666666666666667,0.9692307692307692,0.9692307692307692,0.9717948717948718,0.9717948717948718,0.9743589743589743,0.9743589743589743,0.9769230769230769,0.9769230769230769,0.9794871794871794,0.9794871794871794,0.982051282051282,0.982051282051282,0.9846153846153847,0.9846153846153847,0.9871794871794872,0.9871794871794872,0.9897435897435898,0.9897435897435898,0.9923076923076923,0.9923076923076923,0.9948717948717949,0.9948717948717949,0.9974358974358974,0.9974358974358974,1.0,1.0],\"yaxis\":\"y\",\"type\":\"scatter\"}],                        {\"template\":{\"data\":{\"histogram2dcontour\":[{\"type\":\"histogram2dcontour\",\"colorbar\":{\"outlinewidth\":0,\"ticks\":\"\"},\"colorscale\":[[0.0,\"#0d0887\"],[0.1111111111111111,\"#46039f\"],[0.2222222222222222,\"#7201a8\"],[0.3333333333333333,\"#9c179e\"],[0.4444444444444444,\"#bd3786\"],[0.5555555555555556,\"#d8576b\"],[0.6666666666666666,\"#ed7953\"],[0.7777777777777778,\"#fb9f3a\"],[0.8888888888888888,\"#fdca26\"],[1.0,\"#f0f921\"]]}],\"choropleth\":[{\"type\":\"choropleth\",\"colorbar\":{\"outlinewidth\":0,\"ticks\":\"\"}}],\"histogram2d\":[{\"type\":\"histogram2d\",\"colorbar\":{\"outlinewidth\":0,\"ticks\":\"\"},\"colorscale\":[[0.0,\"#0d0887\"],[0.1111111111111111,\"#46039f\"],[0.2222222222222222,\"#7201a8\"],[0.3333333333333333,\"#9c179e\"],[0.4444444444444444,\"#bd3786\"],[0.5555555555555556,\"#d8576b\"],[0.6666666666666666,\"#ed7953\"],[0.7777777777777778,\"#fb9f3a\"],[0.8888888888888888,\"#fdca26\"],[1.0,\"#f0f921\"]]}],\"heatmap\":[{\"type\":\"heatmap\",\"colorbar\":{\"outlinewidth\":0,\"ticks\":\"\"},\"colorscale\":[[0.0,\"#0d0887\"],[0.1111111111111111,\"#46039f\"],[0.2222222222222222,\"#7201a8\"],[0.3333333333333333,\"#9c179e\"],[0.4444444444444444,\"#bd3786\"],[0.5555555555555556,\"#d8576b\"],[0.6666666666666666,\"#ed7953\"],[0.7777777777777778,\"#fb9f3a\"],[0.8888888888888888,\"#fdca26\"],[1.0,\"#f0f921\"]]}],\"heatmapgl\":[{\"type\":\"heatmapgl\",\"colorbar\":{\"outlinewidth\":0,\"ticks\":\"\"},\"colorscale\":[[0.0,\"#0d0887\"],[0.1111111111111111,\"#46039f\"],[0.2222222222222222,\"#7201a8\"],[0.3333333333333333,\"#9c179e\"],[0.4444444444444444,\"#bd3786\"],[0.5555555555555556,\"#d8576b\"],[0.6666666666666666,\"#ed7953\"],[0.7777777777777778,\"#fb9f3a\"],[0.8888888888888888,\"#fdca26\"],[1.0,\"#f0f921\"]]}],\"contourcarpet\":[{\"type\":\"contourcarpet\",\"colorbar\":{\"outlinewidth\":0,\"ticks\":\"\"}}],\"contour\":[{\"type\":\"contour\",\"colorbar\":{\"outlinewidth\":0,\"ticks\":\"\"},\"colorscale\":[[0.0,\"#0d0887\"],[0.1111111111111111,\"#46039f\"],[0.2222222222222222,\"#7201a8\"],[0.3333333333333333,\"#9c179e\"],[0.4444444444444444,\"#bd3786\"],[0.5555555555555556,\"#d8576b\"],[0.6666666666666666,\"#ed7953\"],[0.7777777777777778,\"#fb9f3a\"],[0.8888888888888888,\"#fdca26\"],[1.0,\"#f0f921\"]]}],\"surface\":[{\"type\":\"surface\",\"colorbar\":{\"outlinewidth\":0,\"ticks\":\"\"},\"colorscale\":[[0.0,\"#0d0887\"],[0.1111111111111111,\"#46039f\"],[0.2222222222222222,\"#7201a8\"],[0.3333333333333333,\"#9c179e\"],[0.4444444444444444,\"#bd3786\"],[0.5555555555555556,\"#d8576b\"],[0.6666666666666666,\"#ed7953\"],[0.7777777777777778,\"#fb9f3a\"],[0.8888888888888888,\"#fdca26\"],[1.0,\"#f0f921\"]]}],\"mesh3d\":[{\"type\":\"mesh3d\",\"colorbar\":{\"outlinewidth\":0,\"ticks\":\"\"}}],\"scatter\":[{\"fillpattern\":{\"fillmode\":\"overlay\",\"size\":10,\"solidity\":0.2},\"type\":\"scatter\"}],\"parcoords\":[{\"type\":\"parcoords\",\"line\":{\"colorbar\":{\"outlinewidth\":0,\"ticks\":\"\"}}}],\"scatterpolargl\":[{\"type\":\"scatterpolargl\",\"marker\":{\"colorbar\":{\"outlinewidth\":0,\"ticks\":\"\"}}}],\"bar\":[{\"error_x\":{\"color\":\"#2a3f5f\"},\"error_y\":{\"color\":\"#2a3f5f\"},\"marker\":{\"line\":{\"color\":\"#E5ECF6\",\"width\":0.5},\"pattern\":{\"fillmode\":\"overlay\",\"size\":10,\"solidity\":0.2}},\"type\":\"bar\"}],\"scattergeo\":[{\"type\":\"scattergeo\",\"marker\":{\"colorbar\":{\"outlinewidth\":0,\"ticks\":\"\"}}}],\"scatterpolar\":[{\"type\":\"scatterpolar\",\"marker\":{\"colorbar\":{\"outlinewidth\":0,\"ticks\":\"\"}}}],\"histogram\":[{\"marker\":{\"pattern\":{\"fillmode\":\"overlay\",\"size\":10,\"solidity\":0.2}},\"type\":\"histogram\"}],\"scattergl\":[{\"type\":\"scattergl\",\"marker\":{\"colorbar\":{\"outlinewidth\":0,\"ticks\":\"\"}}}],\"scatter3d\":[{\"type\":\"scatter3d\",\"line\":{\"colorbar\":{\"outlinewidth\":0,\"ticks\":\"\"}},\"marker\":{\"colorbar\":{\"outlinewidth\":0,\"ticks\":\"\"}}}],\"scattermapbox\":[{\"type\":\"scattermapbox\",\"marker\":{\"colorbar\":{\"outlinewidth\":0,\"ticks\":\"\"}}}],\"scatterternary\":[{\"type\":\"scatterternary\",\"marker\":{\"colorbar\":{\"outlinewidth\":0,\"ticks\":\"\"}}}],\"scattercarpet\":[{\"type\":\"scattercarpet\",\"marker\":{\"colorbar\":{\"outlinewidth\":0,\"ticks\":\"\"}}}],\"carpet\":[{\"aaxis\":{\"endlinecolor\":\"#2a3f5f\",\"gridcolor\":\"white\",\"linecolor\":\"white\",\"minorgridcolor\":\"white\",\"startlinecolor\":\"#2a3f5f\"},\"baxis\":{\"endlinecolor\":\"#2a3f5f\",\"gridcolor\":\"white\",\"linecolor\":\"white\",\"minorgridcolor\":\"white\",\"startlinecolor\":\"#2a3f5f\"},\"type\":\"carpet\"}],\"table\":[{\"cells\":{\"fill\":{\"color\":\"#EBF0F8\"},\"line\":{\"color\":\"white\"}},\"header\":{\"fill\":{\"color\":\"#C8D4E3\"},\"line\":{\"color\":\"white\"}},\"type\":\"table\"}],\"barpolar\":[{\"marker\":{\"line\":{\"color\":\"#E5ECF6\",\"width\":0.5},\"pattern\":{\"fillmode\":\"overlay\",\"size\":10,\"solidity\":0.2}},\"type\":\"barpolar\"}],\"pie\":[{\"automargin\":true,\"type\":\"pie\"}]},\"layout\":{\"autotypenumbers\":\"strict\",\"colorway\":[\"#636efa\",\"#EF553B\",\"#00cc96\",\"#ab63fa\",\"#FFA15A\",\"#19d3f3\",\"#FF6692\",\"#B6E880\",\"#FF97FF\",\"#FECB52\"],\"font\":{\"color\":\"#2a3f5f\"},\"hovermode\":\"closest\",\"hoverlabel\":{\"align\":\"left\"},\"paper_bgcolor\":\"white\",\"plot_bgcolor\":\"#E5ECF6\",\"polar\":{\"bgcolor\":\"#E5ECF6\",\"angularaxis\":{\"gridcolor\":\"white\",\"linecolor\":\"white\",\"ticks\":\"\"},\"radialaxis\":{\"gridcolor\":\"white\",\"linecolor\":\"white\",\"ticks\":\"\"}},\"ternary\":{\"bgcolor\":\"#E5ECF6\",\"aaxis\":{\"gridcolor\":\"white\",\"linecolor\":\"white\",\"ticks\":\"\"},\"baxis\":{\"gridcolor\":\"white\",\"linecolor\":\"white\",\"ticks\":\"\"},\"caxis\":{\"gridcolor\":\"white\",\"linecolor\":\"white\",\"ticks\":\"\"}},\"coloraxis\":{\"colorbar\":{\"outlinewidth\":0,\"ticks\":\"\"}},\"colorscale\":{\"sequential\":[[0.0,\"#0d0887\"],[0.1111111111111111,\"#46039f\"],[0.2222222222222222,\"#7201a8\"],[0.3333333333333333,\"#9c179e\"],[0.4444444444444444,\"#bd3786\"],[0.5555555555555556,\"#d8576b\"],[0.6666666666666666,\"#ed7953\"],[0.7777777777777778,\"#fb9f3a\"],[0.8888888888888888,\"#fdca26\"],[1.0,\"#f0f921\"]],\"sequentialminus\":[[0.0,\"#0d0887\"],[0.1111111111111111,\"#46039f\"],[0.2222222222222222,\"#7201a8\"],[0.3333333333333333,\"#9c179e\"],[0.4444444444444444,\"#bd3786\"],[0.5555555555555556,\"#d8576b\"],[0.6666666666666666,\"#ed7953\"],[0.7777777777777778,\"#fb9f3a\"],[0.8888888888888888,\"#fdca26\"],[1.0,\"#f0f921\"]],\"diverging\":[[0,\"#8e0152\"],[0.1,\"#c51b7d\"],[0.2,\"#de77ae\"],[0.3,\"#f1b6da\"],[0.4,\"#fde0ef\"],[0.5,\"#f7f7f7\"],[0.6,\"#e6f5d0\"],[0.7,\"#b8e186\"],[0.8,\"#7fbc41\"],[0.9,\"#4d9221\"],[1,\"#276419\"]]},\"xaxis\":{\"gridcolor\":\"white\",\"linecolor\":\"white\",\"ticks\":\"\",\"title\":{\"standoff\":15},\"zerolinecolor\":\"white\",\"automargin\":true,\"zerolinewidth\":2},\"yaxis\":{\"gridcolor\":\"white\",\"linecolor\":\"white\",\"ticks\":\"\",\"title\":{\"standoff\":15},\"zerolinecolor\":\"white\",\"automargin\":true,\"zerolinewidth\":2},\"scene\":{\"xaxis\":{\"backgroundcolor\":\"#E5ECF6\",\"gridcolor\":\"white\",\"linecolor\":\"white\",\"showbackground\":true,\"ticks\":\"\",\"zerolinecolor\":\"white\",\"gridwidth\":2},\"yaxis\":{\"backgroundcolor\":\"#E5ECF6\",\"gridcolor\":\"white\",\"linecolor\":\"white\",\"showbackground\":true,\"ticks\":\"\",\"zerolinecolor\":\"white\",\"gridwidth\":2},\"zaxis\":{\"backgroundcolor\":\"#E5ECF6\",\"gridcolor\":\"white\",\"linecolor\":\"white\",\"showbackground\":true,\"ticks\":\"\",\"zerolinecolor\":\"white\",\"gridwidth\":2}},\"shapedefaults\":{\"line\":{\"color\":\"#2a3f5f\"}},\"annotationdefaults\":{\"arrowcolor\":\"#2a3f5f\",\"arrowhead\":0,\"arrowwidth\":1},\"geo\":{\"bgcolor\":\"white\",\"landcolor\":\"#E5ECF6\",\"subunitcolor\":\"white\",\"showland\":true,\"showlakes\":true,\"lakecolor\":\"white\"},\"title\":{\"x\":0.05},\"mapbox\":{\"style\":\"light\"}}},\"xaxis\":{\"anchor\":\"y\",\"domain\":[0.0,1.0],\"title\":{\"text\":\"False Positive Rate\"},\"constrain\":\"domain\"},\"yaxis\":{\"anchor\":\"x\",\"domain\":[0.0,1.0],\"title\":{\"text\":\"True Positive Rate\"},\"scaleanchor\":\"x\",\"scaleratio\":1},\"legend\":{\"tracegroupgap\":0},\"title\":{\"text\":\"Test ROC Curve (AUC=0.8415)\"},\"height\":500,\"width\":700,\"shapes\":[{\"line\":{\"dash\":\"dash\"},\"type\":\"line\",\"x0\":0,\"x1\":1,\"y0\":0,\"y1\":1}]},                        {\"responsive\": true}                    ).then(function(){\n",
       "                            \n",
       "var gd = document.getElementById('0fb7d5c7-e14d-49ca-809d-b2d23c7dd819');\n",
       "var x = new MutationObserver(function (mutations, observer) {{\n",
       "        var display = window.getComputedStyle(gd).display;\n",
       "        if (!display || display === 'none') {{\n",
       "            console.log([gd, 'removed!']);\n",
       "            Plotly.purge(gd);\n",
       "            observer.disconnect();\n",
       "        }}\n",
       "}});\n",
       "\n",
       "// Listen for the removal of the full notebook cells\n",
       "var notebookContainer = gd.closest('#notebook-container');\n",
       "if (notebookContainer) {{\n",
       "    x.observe(notebookContainer, {childList: true});\n",
       "}}\n",
       "\n",
       "// Listen for the clearing of the current output cell\n",
       "var outputEl = gd.closest('.output');\n",
       "if (outputEl) {{\n",
       "    x.observe(outputEl, {childList: true});\n",
       "}}\n",
       "\n",
       "                        })                };                });            </script>        </div>"
      ]
     },
     "metadata": {},
     "output_type": "display_data"
    }
   ],
   "source": [
    "# evaluation part\n",
    "print(f'After sampling, MLP Model Time Difference: {mlps_model_time_diff} seconds\\n')\n",
    "print(mlp_model.evaluate(XlearnS, ylearnS))\n",
    "print(mlp_model.evaluate(XvalS, yvalS))\n",
    "print(mlp_model.evaluate(XtestP, ytest))\n",
    "y_pred_sample = mlp_model_sampling.predict(XtestP).ravel()\n",
    "\n",
    "# plotting part\n",
    "plt.figure(figsize=(12,8))\n",
    "plt.plot(mlp_history_sampling.history['loss'], label=\"Loss\")\n",
    "plt.plot(mlp_history_sampling.history['val_loss'], label=\"Val_loss\")\n",
    "plt.xlabel(\"Epoch\")\n",
    "plt.ylabel(\"Loss\")\n",
    "plt.legend()\n",
    "plt.show()\n",
    "\n",
    "plt.figure(figsize=(12,8))\n",
    "plt.plot(mlp_history_sampling.history['auc'], label=\"AUC\")\n",
    "plt.plot(mlp_history_sampling.history['val_auc'], label=\"Val_AUC\")\n",
    "plt.xlabel(\"Epoch\")\n",
    "plt.ylabel(\"AUC\")\n",
    "plt.legend()\n",
    "plt.show()\n",
    "\n",
    "plt.figure(figsize=(12,8))\n",
    "plt.plot(mlp_history_sampling.history['Accuracy'], label=\"Accuracy\")\n",
    "plt.plot(mlp_history_sampling.history['val_Accuracy'], label=\"Val_accuracy\")\n",
    "plt.xlabel(\"Epoch\")\n",
    "plt.ylabel(\"Accuracy\")\n",
    "plt.legend()\n",
    "plt.show()\n",
    "\n",
    "#ROC plot - this part is taken from plotly.express website.\n",
    "mlps_fpr, mlps_tpr, mlps_thresholds = roc_curve(ytest, y_pred_sample)\n",
    "fig = px.area(\n",
    "    x=mlps_fpr, y=mlps_tpr,\n",
    "    title=f'Test ROC Curve (AUC={auc(mlps_fpr, mlps_tpr):.4f})',\n",
    "    labels=dict(x='False Positive Rate', y='True Positive Rate'),\n",
    "    width=700, height=500\n",
    ")\n",
    "fig.add_shape(\n",
    "    type='line', line=dict(dash='dash'),\n",
    "    x0=0, x1=1, y0=0, y1=1\n",
    ")\n",
    "\n",
    "fig.update_yaxes(scaleanchor=\"x\", scaleratio=1)\n",
    "fig.update_xaxes(constrain='domain')\n",
    "fig.show()"
   ]
  },
  {
   "cell_type": "markdown",
   "metadata": {},
   "source": [
    "**Evaluation Comments:** \n",
    "\n",
    " - Comparing to the previous model, The model after sampling had little bit improved AUC and overfitting issue.\n",
    " - To be honest, the test results were difficult to be improved.\n",
    " - Early stopping was used to prevent computation overload. \n",
    " - Because of initialization, the number of epochs can change and as a result, the graphs changes too. \n",
    " - Depending on the initialization, the model after sampling was generally faster.\n",
    " "
   ]
  },
  {
   "cell_type": "code",
   "execution_count": null,
   "metadata": {},
   "outputs": [],
   "source": []
  }
 ],
 "metadata": {
  "kernelspec": {
   "display_name": "Python 3 (ipykernel)",
   "language": "python",
   "name": "python3"
  },
  "language_info": {
   "codemirror_mode": {
    "name": "ipython",
    "version": 3
   },
   "file_extension": ".py",
   "mimetype": "text/x-python",
   "name": "python",
   "nbconvert_exporter": "python",
   "pygments_lexer": "ipython3",
   "version": "3.9.13"
  }
 },
 "nbformat": 4,
 "nbformat_minor": 2
}
